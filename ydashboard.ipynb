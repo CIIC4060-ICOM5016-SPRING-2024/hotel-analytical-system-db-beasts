{
 "cells": [
  {
   "metadata": {
    "ExecuteTime": {
     "end_time": "2024-05-11T18:54:17.809002Z",
     "start_time": "2024-05-11T18:54:17.630763Z"
    }
   },
   "cell_type": "code",
   "source": [
    "from ipywidgets import Layout, Button, Label, Password, Text, VBox, HBox, Output, HTML, IntText\n",
    "from IPython.core.display_functions import clear_output\n",
    "from IPython.display import display\n",
    "from dashboard_requests import *"
   ],
   "id": "8b6523e1c3794ebb",
   "outputs": [],
   "execution_count": 1
  },
  {
   "metadata": {
    "ExecuteTime": {
     "end_time": "2024-05-11T18:54:17.814999Z",
     "start_time": "2024-05-11T18:54:17.810Z"
    }
   },
   "cell_type": "code",
   "source": [
    "# Create output widget\n",
    "output = Output()"
   ],
   "id": "69b42df8a163edaa",
   "outputs": [],
   "execution_count": 2
  },
  {
   "metadata": {
    "ExecuteTime": {
     "end_time": "2024-05-11T18:54:17.831532Z",
     "start_time": "2024-05-11T18:54:17.816Z"
    }
   },
   "cell_type": "code",
   "source": [
    "# Different styles definitions:\n",
    "login_button_style = {\"description_border_color\": \"lightblue\", \"font_weight\": \"bold\", \"button_color\": \"lightblue\"}\n",
    "input_style = {\"description_width\": \"initial\"}\n",
    "header_style = {\"font_weight\": \"bold\", \"color\": \"black\", \"background-color\": \"lightblue\", \"padding\": \"10px\", \"text-align\": \"center\"}\n",
    "welcome_style = {\"font_weight\": \"bold\", \"color\": \"#008080\", \"background-color\": \"lightblue\", \"padding\": \"10px\", \"text-align\": \"center\", \"font-size\": \"28px\"}"
   ],
   "id": "99a9a7bc7831c9d6",
   "outputs": [],
   "execution_count": 3
  },
  {
   "metadata": {
    "ExecuteTime": {
     "end_time": "2024-05-11T18:54:17.845050Z",
     "start_time": "2024-05-11T18:54:17.832527Z"
    }
   },
   "cell_type": "code",
   "source": [
    "# Create the buttons\n",
    "login_button = Button(description=\"Log In\", style=login_button_style, icon=\"check\", button_style=\"\")\n",
    "sign_up_button = Button(description=\"Sign Up\", style=login_button_style, icon=\"plus\", button_style=\"\")\n",
    "back_button = Button(description=\"Back\", style=login_button_style, icon=\"arrow-left\", button_style=\"\")\n",
    "create_button = Button(description=\"Create\", style=login_button_style, icon=\"check\", button_style=\"\")\n",
    "logout_button = Button(description=\"Log Out\", style=login_button_style, icon=\"times\", button_style=\"\")"
   ],
   "id": "c3a167da3b005250",
   "outputs": [],
   "execution_count": 4
  },
  {
   "metadata": {
    "ExecuteTime": {
     "end_time": "2024-05-11T18:54:17.859078Z",
     "start_time": "2024-05-11T18:54:17.846049Z"
    }
   },
   "cell_type": "code",
   "source": [
    "# Log In Fields\n",
    "username = Text(placeholder=\"Username\", style=input_style)\n",
    "password = Password(placeholder=\"Password\", style=input_style)\n",
    "\n",
    "# Create the VirtualBox for the login\n",
    "login_form = VBox([\n",
    "    Label(value=\"Access\", layout=Layout(margin=\"10px\"), style=welcome_style),\n",
    "    username,\n",
    "    password,\n",
    "    VBox([login_button], layout=Layout(justify_content=\"center\")),\n",
    "    VBox([sign_up_button], layout=Layout(justify_content=\"center\")),\n",
    "    output,\n",
    "], layout=Layout(justify_content=\"center\", align_items=\"center\"))"
   ],
   "id": "de4e7f6244e2d7af",
   "outputs": [],
   "execution_count": 5
  },
  {
   "metadata": {
    "ExecuteTime": {
     "end_time": "2024-05-11T18:54:17.878209Z",
     "start_time": "2024-05-11T18:54:17.860076Z"
    }
   },
   "cell_type": "code",
   "source": [
    "# SignUp Fields\n",
    "Employee_ID = IntText(description=\"Employee ID\", style=input_style)\n",
    "First_Name = Text(placeholder=\"First Name\", style=input_style)\n",
    "Last_Name = Text(placeholder=\"Last Name\", style=input_style)\n",
    "signup_username = Text(placeholder=\"Username\", style=input_style)\n",
    "signup_password = Password(placeholder=\"Password\", style=input_style)\n",
    "\n",
    "# Create the VirtualBox for the SignUp\n",
    "signup_form = VBox([\n",
    "    Label(value=\"Create an Account\", layout=Layout(margin=\"10px\"), style=welcome_style),\n",
    "    Employee_ID,\n",
    "    First_Name,\n",
    "    Last_Name,\n",
    "    signup_username,\n",
    "    signup_password,\n",
    "    VBox([create_button], layout=Layout(justify_content=\"center\")),\n",
    "    VBox([back_button], layout=Layout(justify_content=\"center\")),\n",
    "    output\n",
    "], layout=Layout(justify_content=\"center\", align_items=\"center\"))"
   ],
   "id": "401f617141f49f83",
   "outputs": [],
   "execution_count": 6
  },
  {
   "metadata": {},
   "cell_type": "code",
   "source": [
    "# Create the VirtualBox for the logout\n",
    "logout_form = VBox([\n",
    "    Label(value=f\"Welcome!\", layout=Layout(margin=\"10px\"), style=welcome_style),\n",
    "    VBox([logout_button], layout=Layout(justify_content=\"center\")),\n",
    "    output,\n",
    "], layout=Layout(justify_content=\"center\", align_items=\"center\"))"
   ],
   "id": "4276bf33c0f076e",
   "outputs": [],
   "execution_count": 7
  },
  {
   "metadata": {
    "ExecuteTime": {
     "end_time": "2024-05-11T18:54:17.897385Z",
     "start_time": "2024-05-11T18:54:17.887485Z"
    }
   },
   "cell_type": "code",
   "source": [
    "# Function to handle login button click\n",
    "def login_button_clicked(button):\n",
    "    with output:\n",
    "        response = Check_Login(username.value, password.value)\n",
    "        # Check if the request was successful\n",
    "        if response.status_code == 200:\n",
    "            # Search employee record\n",
    "            eid = response.json()['Login']['eid']\n",
    "            employee = Get_Employee(eid).json()['Employee']\n",
    "            fname = employee['fname']\n",
    "            lname = employee['lname']\n",
    "            # Welcome employee\n",
    "            logout_form.children[0].value = f\"Welcome {fname} {lname}!\"\n",
    "            # Show virtual box logout form\n",
    "            form_container.children = [logout_form]\n",
    "            clear_output()\n",
    "            print(\"Log In successfully!\")\n",
    "        else:\n",
    "            clear_output()\n",
    "            print(\"Log In Failed!\")\n",
    "\n",
    "# Function to handle signup button click\n",
    "def signup_button_clicked(button):\n",
    "    form_container.children = [signup_form]\n",
    "    with output: \n",
    "        clear_output()\n",
    "\n",
    "# Function to handle back button click\n",
    "def back_button_clicked(button):\n",
    "    # Reset login fields\n",
    "    username.value = \"\"\n",
    "    password.value = \"\"\n",
    "    # Reset signup fields\n",
    "    Employee_ID.value = 0\n",
    "    First_Name.value = \"\"\n",
    "    Last_Name.value = \"\"\n",
    "    signup_username.value = \"\"\n",
    "    signup_password.value = \"\"\n",
    "    form_container.children = [login_form]\n",
    "    with output:\n",
    "        clear_output()\n",
    "\n",
    "# Function to handle create button click\n",
    "def create_button_clicked(button):\n",
    "    with output:\n",
    "        # Checks whether an employee with these credentials exists.\n",
    "        employee = Check_Employee(Employee_ID.value, First_Name.value, Last_Name.value)\n",
    "        if employee.status_code == 200:\n",
    "            # Create a new login for the employee. \n",
    "            post_login = Post_Login(Employee_ID.value, signup_username.value, signup_password.value)\n",
    "            if post_login.status_code == 201:\n",
    "                clear_output()\n",
    "                print(\"Account created successfully!\")\n",
    "            else:\n",
    "                clear_output()\n",
    "                print(\"Account creation failed!\")\n",
    "        else:\n",
    "            clear_output()\n",
    "            print(f\"Employee does not exist or employee info it is invalid\")\n",
    "\n",
    "# Function to handle logout button click\n",
    "def logout_button_clicked(button):\n",
    "    # Reset login fields\n",
    "    username.value = \"\"\n",
    "    password.value = \"\"\n",
    "    # Reset signup fields\n",
    "    Employee_ID.value = 0\n",
    "    First_Name.value = \"\"\n",
    "    Last_Name.value = \"\"\n",
    "    signup_username.value = \"\"\n",
    "    signup_password.value = \"\"\n",
    "    form_container.children = [login_form]\n",
    "    with output:\n",
    "        clear_output()\n",
    "\n",
    "# Button clicks and their events.\n",
    "login_button.on_click(login_button_clicked)\n",
    "sign_up_button.on_click(signup_button_clicked)\n",
    "back_button.on_click(back_button_clicked)\n",
    "create_button.on_click(create_button_clicked)\n",
    "logout_button.on_click(logout_button_clicked)"
   ],
   "id": "d306adf17fb12858",
   "outputs": [],
   "execution_count": 8
  },
  {
   "metadata": {
    "ExecuteTime": {
     "end_time": "2024-05-11T18:54:17.906756Z",
     "start_time": "2024-05-11T18:54:17.898378Z"
    }
   },
   "cell_type": "code",
   "source": [
    "# Create layout (Virtual Boxes)\n",
    "def create_layout():\n",
    "    login_form_box = VBox([\n",
    "        Label(value=\"Access\", layout=Layout(margin=\"10px\"), style=welcome_style),\n",
    "        username,\n",
    "        password,\n",
    "        VBox([login_button], layout=Layout(justify_content=\"center\")),\n",
    "        VBox([sign_up_button], layout=Layout(justify_content=\"center\")),\n",
    "        output,\n",
    "    ], layout=Layout(justify_content=\"center\", align_items=\"center\"))\n",
    "    \n",
    "    signup_form_box = VBox([\n",
    "        Label(value=\"Create an Account\", layout=Layout(margin=\"10px\"), style=welcome_style),\n",
    "        Employee_ID,\n",
    "        First_Name,\n",
    "        Last_Name,\n",
    "        signup_username,\n",
    "        signup_password,\n",
    "        VBox([create_button], layout=Layout(justify_content=\"center\")),\n",
    "        VBox([back_button], layout=Layout(justify_content=\"center\")),\n",
    "        output\n",
    "    ], layout=Layout(justify_content=\"center\", align_items=\"center\"))\n",
    "    \n",
    "    logout_form_box = VBox([\n",
    "        Label(value=f\"Welcome!\", layout=Layout(margin=\"10px\"), style=welcome_style),\n",
    "        VBox([login_button], layout=Layout(justify_content=\"center\")),\n",
    "        output,\n",
    "    ], layout=Layout(justify_content=\"center\", align_items=\"center\"))\n",
    "    \n",
    "    header = HTML(\"\"\"\n",
    "                    <div style='background-color:lightblue; padding-top:10px; padding-bottom:10px; text-align:center; width:100%;'>\n",
    "                    <h1 style='font-weight:bold; color:black; font-size:24px;'>Hotel Analytics Systems</h1>\n",
    "                    <p style='font-weight:bold; color:black; font-size:15px;'><small>Frontend</small></p>\n",
    "                    </div>\n",
    "                \"\"\")\n",
    "    \n",
    "    form_container = HBox([login_form_box], layout=Layout(justify_content=\"center\", align_items=\"center\"))\n",
    "    \n",
    "    background = HTML(value=\"<img src='https://i.imgur.com/sJ8W01b.jpeg' style='width:100%; height:90vh; object-fit:cover;'>\")\n",
    "    \n",
    "    # My footer\n",
    "    # footer = HTML(\"\"\"\n",
    "    #                 <footer>\n",
    "    #                     Creators: Team: DB Beasts\n",
    "    #                     <nav>\n",
    "    #                         <a>|</a>\n",
    "    #                         <a \n",
    "    #                             style='text-decoration: underline; color: blue;'\n",
    "    #                             href='https://github.com/gaac-rum' \n",
    "    #                             target='_blank' rel='noreferrer'\n",
    "    #                             >Gabriel A. Archilla Cintron\n",
    "    #                         </a>\n",
    "    #                         <a>|</a>\n",
    "    #                         <a \n",
    "    #                             style='text-decoration: underline; color: blue;'\n",
    "    #                             href='https://github.com/Axel-Negron' \n",
    "    #                             target='_blank' rel='noreferrer'\n",
    "    #                             >Axel Negron Vega\n",
    "    #                         </a>\n",
    "    #                         <a>|</a>\n",
    "    #                         <a \n",
    "    #                             style='text-decoration: underline; color: blue;' \n",
    "    #                             href='https://github.com/YanehRuiz' \n",
    "    #                             target='_blank' rel='noreferrer'\n",
    "    #                             >Yanishka Ruiz\n",
    "    #                         </a>\n",
    "    #                         <a>|</a>\n",
    "    #                         <a \n",
    "    #                             style='text-decoration: underline; color: blue;'\n",
    "    #                             href='https://github.com/samiralirivera' \n",
    "    #                             target='_blank' rel='noreferrer'\n",
    "    #                             >Samir Y. Ali Rivera\n",
    "    #                         </a>\n",
    "    #                         <a>|</a>\n",
    "    #                     </nav>\n",
    "    #                 </footer>\n",
    "    #             \"\"\")\n",
    "    \n",
    "    footer = HTML(\"<div style='background-color:lightblue; padding:10px; text-align:center; overflow:hidden;'><a style='text-decoration:none; color:black;'>Db Beasts Members:</a> <i class='fas fa-user' style='background-color: #00868B; color: white; border-radius: 50%; padding: 2px 6px; font-weight: bold;'></i><a href='https://github.com/YanehRuiz' target='_blank' style='text-decoration:none; color:black;'> Yanishka</a> <i class='fas fa-user' style='background-color: #00868B; color: white; border-radius: 50%; padding: 2px 6px; font-weight: bold;'></i><a href='https://github.com/gaac-rum' target='_blank' style='text-decoration:none; color:black;'> Gabriel</a> <i class='fas fa-user' style='background-color: #00868B; color: white; border-radius: 50%; padding: 2px 6px; font-weight: bold;'></i><a href='https://github.com/Axel-Negron' target='_blank' style='text-decoration:none; color:black;'> Axel  </a><i class='fas fa-user' style='background-color: #00868B; color: white; border-radius: 50%; padding: 2px 6px; font-weight: bold;'></i><a href='https://github.com/samiralirivera' target='_blank' style='text-decoration:none; color:black;'> Samir</a></div>\")\n",
    "    \n",
    "    return header, form_container, background, footer"
   ],
   "id": "initial_id",
   "outputs": [],
   "execution_count": 9
  },
  {
   "metadata": {
    "ExecuteTime": {
     "end_time": "2024-05-11T18:54:17.950712Z",
     "start_time": "2024-05-11T18:54:17.907747Z"
    }
   },
   "cell_type": "code",
   "source": [
    "# Display header, layout, and background\n",
    "header, form_container, background, footer = create_layout()\n",
    "display(header)\n",
    "display(form_container)\n",
    "display(background)\n",
    "display(footer)"
   ],
   "id": "6fe238782bd5cb4",
   "outputs": [
    {
     "data": {
      "text/plain": [
       "HTML(value=\"\\n                    <div style='background-color:lightblue; padding-top:10px; padding-bottom:10p…"
      ],
      "application/vnd.jupyter.widget-view+json": {
       "version_major": 2,
       "version_minor": 0,
       "model_id": "7e4880873f764098950b64a16e8cb8c0"
      }
     },
     "metadata": {},
     "output_type": "display_data"
    },
    {
     "data": {
      "text/plain": [
       "HBox(children=(VBox(children=(Label(value='Access', layout=Layout(margin='10px'), style=LabelStyle(font_weight…"
      ],
      "application/vnd.jupyter.widget-view+json": {
       "version_major": 2,
       "version_minor": 0,
       "model_id": "723da702e2384b8781cafde2e48fc2d1"
      }
     },
     "metadata": {},
     "output_type": "display_data"
    },
    {
     "data": {
      "text/plain": [
       "HTML(value=\"<img src='https://i.imgur.com/sJ8W01b.jpeg' style='width:100%; height:90vh; object-fit:cover;'>\")"
      ],
      "application/vnd.jupyter.widget-view+json": {
       "version_major": 2,
       "version_minor": 0,
       "model_id": "9d4b2289e9e34e13b1a6800194586476"
      }
     },
     "metadata": {},
     "output_type": "display_data"
    },
    {
     "data": {
      "text/plain": [
       "HTML(value=\"<div style='background-color:lightblue; padding:10px; text-align:center; overflow:hidden;'><a styl…"
      ],
      "application/vnd.jupyter.widget-view+json": {
       "version_major": 2,
       "version_minor": 0,
       "model_id": "d8443cba180849ea914316b77d93192d"
      }
     },
     "metadata": {},
     "output_type": "display_data"
    }
   ],
   "execution_count": 10
  }
 ],
 "metadata": {
  "kernelspec": {
   "display_name": "Python 3",
   "language": "python",
   "name": "python3"
  },
  "language_info": {
   "codemirror_mode": {
    "name": "ipython",
    "version": 2
   },
   "file_extension": ".py",
   "mimetype": "text/x-python",
   "name": "python",
   "nbconvert_exporter": "python",
   "pygments_lexer": "ipython2",
   "version": "2.7.6"
  }
 },
 "nbformat": 4,
 "nbformat_minor": 5
}
