{
 "cells": [
  {
   "cell_type": "code",
   "execution_count": null,
   "id": "initial_id",
   "metadata": {
    "collapsed": true
   },
   "outputs": [],
   "source": [
    "import matplotlib.pyplot as plt\n",
    "import requests\n",
    "import json"
   ]
  },
  {
   "metadata": {},
   "cell_type": "code",
   "outputs": [],
   "execution_count": null,
   "source": [
    "def see_mostrevenue():\n",
    "    flask_url = \"http://127.0.0.1:5000/ec2-54-152-144-84.compute-1.amazonaws.com/db-beasts/most/revenue\"\n",
    "    data = {'eid': 3}\n",
    "    response = requests.post(flask_url, json=data)\n",
    "    return response\n",
    "\n",
    "items = see_mostrevenue()\n",
    "datas = items.json()['Most_Revenues']\n",
    "\n",
    "# ** x axis values\n",
    "x = [str(x['chid']) for x in datas]\n",
    "# ** y axis values\n",
    "y = [float(y['total revenue']) for y in datas]\n",
    "    \n",
    "# ** creating the bar plot\n",
    "plt.bar(x, y, color='black', bottom=0)\n",
    "    \n",
    "plt.ylim(0, max(y) + min(y))\n",
    "    \n",
    "# ** naming the x-axis\n",
    "plt.xlabel('x - axis = Chains ID')\n",
    "# ** naming the y-axis\n",
    "plt.ylabel('y - axis = Total Revenues in millions')\n",
    "    \n",
    "# ** giving a title to my graph\n",
    "plt.title('Top 3 chains with the highest total revenue')\n",
    "    \n",
    "# ** Tight layout to avoid overlap\n",
    "plt.tight_layout()\n",
    "    \n",
    "# ** function to show the plot\n",
    "plt.show()\n",
    "\n",
    "# ** See data\n",
    "json_str = json.dumps(datas, indent=2)\n",
    "lines = json_str.split('\\n')\n",
    "for line in lines:\n",
    "    print(line)"
   ],
   "id": "528f4292c9727751"
  }
 ],
 "metadata": {
  "kernelspec": {
   "display_name": "Python 3",
   "language": "python",
   "name": "python3"
  },
  "language_info": {
   "codemirror_mode": {
    "name": "ipython",
    "version": 2
   },
   "file_extension": ".py",
   "mimetype": "text/x-python",
   "name": "python",
   "nbconvert_exporter": "python",
   "pygments_lexer": "ipython2",
   "version": "2.7.6"
  }
 },
 "nbformat": 4,
 "nbformat_minor": 5
}
