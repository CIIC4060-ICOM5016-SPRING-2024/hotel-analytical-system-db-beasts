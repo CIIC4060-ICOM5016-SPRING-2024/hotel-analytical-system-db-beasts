{
 "cells": [
  {
   "cell_type": "code",
   "execution_count": null,
   "id": "initial_id",
   "metadata": {
    "collapsed": true
   },
   "outputs": [],
   "source": [
    "import matplotlib.pyplot as plt\n",
    "import requests\n",
    "import json"
   ]
  },
  {
   "metadata": {},
   "cell_type": "code",
   "outputs": [],
   "execution_count": null,
   "source": [
    "def see_mostprofitmonth():\n",
    "    flask_url = \"http://127.0.0.1:5000/db-beasts/most/profitmonth\"\n",
    "    data = {'eid': 3}\n",
    "    response = requests.post(flask_url, json=data)\n",
    "    return response"
   ],
   "id": "c88474a18e73ad6"
  },
  {
   "metadata": {},
   "cell_type": "code",
   "outputs": [],
   "execution_count": null,
   "source": [
    "items = see_mostprofitmonth()\n",
    "datas = items.json()['Most_Profit_Months']\n",
    "\n",
    "# ** x axis values\n",
    "x = [f\"{item['cname']}\" + \", month \" + f\"{item['month']}\" for item in datas]\n",
    "# ** y axis values\n",
    "y = [int(y['total reserves']) for y in datas]\n",
    "    \n",
    "# ** creating the bar plot\n",
    "plt.plot(x, y)\n",
    "\n",
    "plt.ylim(min(y) - 5)\n",
    "    \n",
    "# ** naming the x-axis\n",
    "plt.xlabel('x - axis = Hotels')\n",
    "# ** naming the y-axis\n",
    "plt.ylabel('y - axis = Total Capacity')\n",
    "    \n",
    "# ** giving a title to my graph\n",
    "plt.title('Top 3 month with the most reservation by chain')\n",
    "    \n",
    "# ** function to show the plot\n",
    "plt.show()"
   ],
   "id": "54035e4fb3cab803"
  },
  {
   "metadata": {},
   "cell_type": "code",
   "outputs": [],
   "execution_count": null,
   "source": [
    "# ** See data\n",
    "json_str = json.dumps(datas, indent=2)\n",
    "lines = json_str.split('\\n')\n",
    "for line in lines:\n",
    "    print(line)"
   ],
   "id": "c3cc879ee3ff2dd0"
  }
 ],
 "metadata": {
  "kernelspec": {
   "display_name": "Python 3",
   "language": "python",
   "name": "python3"
  },
  "language_info": {
   "codemirror_mode": {
    "name": "ipython",
    "version": 2
   },
   "file_extension": ".py",
   "mimetype": "text/x-python",
   "name": "python",
   "nbconvert_exporter": "python",
   "pygments_lexer": "ipython2",
   "version": "2.7.6"
  }
 },
 "nbformat": 4,
 "nbformat_minor": 5
}
