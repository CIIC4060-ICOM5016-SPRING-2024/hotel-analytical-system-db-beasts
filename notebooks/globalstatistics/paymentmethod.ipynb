{
 "cells": [
  {
   "metadata": {},
   "cell_type": "code",
   "outputs": [],
   "execution_count": null,
   "source": [
    "import matplotlib.pyplot as plt\n",
    "import requests\n",
    "import json"
   ],
   "id": "e344f7d0fd236a54"
  },
  {
   "metadata": {},
   "cell_type": "code",
   "outputs": [],
   "execution_count": null,
   "source": [
    "def see_paymentmethod():\n",
    "    flask_url = \"http://127.0.0.1:5000/ec2-54-152-144-84.compute-1.amazonaws.com/db-beasts/paymentmethod\"\n",
    "    data = {'eid': 3}\n",
    "    response = requests.post(flask_url, json=data)\n",
    "    return response\n",
    "\n",
    "items = see_paymentmethod()\n",
    "datas = items.json()['Payment_Method_Percentage']\n",
    "    \n",
    "# ** x axis values\n",
    "x = [str(method['paymentmethod']) for method in datas]\n",
    "# ** y axis values\n",
    "y = [float(percentage['reservation percentage']) for percentage in datas]\n",
    "    \n",
    "# ** creating the bar plot\n",
    "plt.bar(x, y, color='black')\n",
    "    \n",
    "plt.ylim(0, max(y)+5)\n",
    "    \n",
    "# ** naming the x-axis\n",
    "plt.xlabel('x - axis = Payment Method')\n",
    "# ** naming the y-axis\n",
    "plt.ylabel('y - axis = Reservation Percentage')\n",
    "    \n",
    "# ** giving a title to my graph\n",
    "plt.title('Total reservation percentage by payment method')\n",
    "    \n",
    "# ** Tight layout to avoid overlap\n",
    "plt.tight_layout()\n",
    "    \n",
    "# ** function to show the plot\n",
    "plt.show()\n",
    "\n",
    "# ** See data\n",
    "json_str = json.dumps(datas, indent=2)\n",
    "lines = json_str.split('\\n')\n",
    "for line in lines:\n",
    "    print(line)"
   ],
   "id": "initial_id"
  }
 ],
 "metadata": {
  "kernelspec": {
   "display_name": "Python 3",
   "language": "python",
   "name": "python3"
  },
  "language_info": {
   "codemirror_mode": {
    "name": "ipython",
    "version": 2
   },
   "file_extension": ".py",
   "mimetype": "text/x-python",
   "name": "python",
   "nbconvert_exporter": "python",
   "pygments_lexer": "ipython2",
   "version": "2.7.6"
  }
 },
 "nbformat": 4,
 "nbformat_minor": 5
}
