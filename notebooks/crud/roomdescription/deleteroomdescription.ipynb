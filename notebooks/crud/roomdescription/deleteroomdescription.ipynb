{
 "cells": [
  {
   "cell_type": "code",
   "execution_count": null,
   "id": "initial_id",
   "metadata": {
    "collapsed": true
   },
   "outputs": [],
   "source": [
    "import requests\n",
    "from ipywidgets import *\n",
    "\n",
    "def Delete_RoomDescription(rdid):\n",
    "    flask_url = f\"http://127.0.0.1:5000/db-beasts/roomdescription/{rdid}\"\n",
    "    response = requests.delete(flask_url)\n",
    "    return response\n",
    "\n",
    "def delete_roomdescription(b):\n",
    "    with output:\n",
    "        roomdescription = Delete_RoomDescription(rdid.value)\n",
    "        if roomdescription.status_code == 200:\n",
    "            output.clear_output()\n",
    "            print(\"Room deleted successfully\")\n",
    "        elif roomdescription.status_code == 404:\n",
    "            output.clear_output()\n",
    "            print(\"Room not found\")\n",
    "        elif roomdescription.status_code == 400:\n",
    "            output.clear_output()\n",
    "            print(\"Room is referenced\")\n",
    "        else:\n",
    "            output.clear_output()\n",
    "            print(\"Delete Failed\")\n",
    "        \n",
    "\n",
    "rdid = widgets.BoundedIntText(min=0,step=1, max=10000, description=\"Room Description ID\")\n",
    "delete_button = widgets.Button(description=\"Delete Room Description\")\n",
    "delete_button.on_click(delete_roomdescription)\n",
    "\n",
    "create_box = widgets.VBox([rdid, delete_button])\n",
    "display(create_box)\n",
    "\n",
    "output = widgets.Output()\n",
    "display(output)"
   ]
  }
 ],
 "metadata": {
  "kernelspec": {
   "display_name": "Python 3",
   "language": "python",
   "name": "python3"
  },
  "language_info": {
   "codemirror_mode": {
    "name": "ipython",
    "version": 2
   },
   "file_extension": ".py",
   "mimetype": "text/x-python",
   "name": "python",
   "nbconvert_exporter": "python",
   "pygments_lexer": "ipython2",
   "version": "2.7.6"
  }
 },
 "nbformat": 4,
 "nbformat_minor": 5
}
