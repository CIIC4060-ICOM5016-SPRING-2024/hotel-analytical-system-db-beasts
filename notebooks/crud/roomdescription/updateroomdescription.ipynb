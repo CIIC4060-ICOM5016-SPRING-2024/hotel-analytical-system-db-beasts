{
 "cells": [
  {
   "cell_type": "code",
   "execution_count": null,
   "id": "initial_id",
   "metadata": {
    "collapsed": true
   },
   "outputs": [],
   "source": [
    "import requests\n",
    "from ipywidgets import *\n",
    "\n",
    "def Put_RoomDescription(rdid, capacity, ishandicap, rname, rtype):\n",
    "    flask_url = f\"http://127.0.0.1:5000/db-beasts/roomdescription/{rdid}\"\n",
    "    data = {'capacity':capacity,'ishandicap':ishandicap,'rname':rname, 'rtype':rtype}\n",
    "    response = requests.put(flask_url, json=data)\n",
    "    return response\n",
    "\n",
    "def put_roomdescription(b):\n",
    "    with output:\n",
    "        roomdescription = Put_RoomDescription(rdid.value, capacity.value, ishandicap.value, rname.value, rtype.value)\n",
    "        if roomdescription.status_code == 200:\n",
    "            output.clear_output()\n",
    "            print(\"Room Description updated successfully\")\n",
    "            print(\"Room Description Data:\")\n",
    "            print(roomdescription.json())\n",
    "        elif roomdescription.json()['Error'] == 'Room Description not found':\n",
    "            output.clear_output()\n",
    "            print(\"Room Description not found\")\n",
    "        elif roomdescription.json()['Error'] == 'Invalid Room Name.':\n",
    "            output.clear_output()\n",
    "            print(\"Invalid Room Name.\")\n",
    "        elif roomdescription.json()['Error'] == 'Invalid Capacity':\n",
    "            output.clear_output()\n",
    "            print('Invalid Capacity')\n",
    "        elif roomdescription.json()['Error'] == 'Invalid Room Type':\n",
    "            output.clear_output()\n",
    "            print('Invalid Room Type')\n",
    "        else:\n",
    "            output.clear_output()\n",
    "            print('Internal Server Error')\n",
    "        \n",
    "rdid = BoundedIntText(min=0,step=0.01, description=\"Room Description ID\")\n",
    "capacity = Dropdown(description=\"Capacity\", options=[1,2,4,6,8], value=1)\n",
    "ishandicap = Checkbox(value=False, description=\"Is handicap?\")\n",
    "rname = Dropdown(description='Room Name', options=['Standard', 'Standard Queen', 'Standard King', 'Double Queen', 'Double King', 'Triple King', 'Executive Family', 'Presidential'])\n",
    "rtype = Dropdown(description='Room Type', options=['Basic', 'Premium', 'Deluxe', 'Suite'])\n",
    "update_button = Button(description=\"Update Room\")\n",
    "update_button.on_click(put_roomdescription)\n",
    "    \n",
    "create_box = VBox([rdid, capacity, ishandicap, rname, rtype, update_button])\n",
    "\n",
    "display(create_box)\n",
    "    \n",
    "output = Output()\n",
    "display(output)"
   ]
  }
 ],
 "metadata": {
  "kernelspec": {
   "display_name": "Python 3",
   "language": "python",
   "name": "python3"
  },
  "language_info": {
   "codemirror_mode": {
    "name": "ipython",
    "version": 2
   },
   "file_extension": ".py",
   "mimetype": "text/x-python",
   "name": "python",
   "nbconvert_exporter": "python",
   "pygments_lexer": "ipython2",
   "version": "2.7.6"
  }
 },
 "nbformat": 4,
 "nbformat_minor": 5
}
