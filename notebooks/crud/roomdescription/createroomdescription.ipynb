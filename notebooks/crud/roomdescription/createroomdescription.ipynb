{
 "cells": [
  {
   "cell_type": "code",
   "execution_count": null,
   "id": "initial_id",
   "metadata": {
    "collapsed": true
   },
   "outputs": [],
   "source": [
    "import requests\n",
    "from ipywidgets import *\n",
    "\n",
    "def Post_RoomDescription(capacity, ishandicap, rname, rtype):\n",
    "    flask_url = \"http://127.0.0.1:5000/db-beasts/roomdescription\"\n",
    "    data = {'capacity':capacity,'ishandicap':ishandicap,'rname':rname, 'rtype':rtype}\n",
    "    response = requests.post(flask_url, json=data)\n",
    "    return response\n",
    "\n",
    "def post_roomdescription(b):\n",
    "    with output:\n",
    "        roomdescription = Post_RoomDescription(capacity.value, ishandicap.value, rname.value, rtype.value)\n",
    "        if roomdescription.status_code == 201:\n",
    "            output.clear_output()\n",
    "            print(\"Room Description Created\")\n",
    "            print(roomdescription.json())\n",
    "        elif roomdescription.json()['Error'] == 'Invalid Room Name.':\n",
    "            output.clear_output()\n",
    "            print(\"Invalid Room Name.\")\n",
    "        elif roomdescription.json()['Error'] == 'Invalid Capacity':\n",
    "            output.clear_output()\n",
    "            print('Invalid Capacity')\n",
    "        elif roomdescription.json()['Error'] == 'Invalid Room Type':\n",
    "            output.clear_output()\n",
    "            print('Invalid Room Type')\n",
    "        else:\n",
    "            output.clear_output()\n",
    "            print('Internal Server Error')\n",
    "        \n",
    "capacity = Dropdown(description=\"Capacity\", options=[1,2,4,6,8], value=1)\n",
    "ishandicap = Checkbox(value=False, description=\"Is handicap?\")\n",
    "rname = Dropdown(description='Room Name', options=['Standard', 'Standard Queen', 'Standard King', 'Double Queen', 'Double King', 'Triple King', 'Executive Family', 'Presidential'])\n",
    "rtype = Dropdown(description='Room Type', options=['Basic', 'Premium', 'Deluxe', 'Suite'])\n",
    "create_button = Button(description=\"Create Room Description\")\n",
    "create_button.on_click(post_roomdescription)\n",
    "    \n",
    "create_box = widgets.VBox([capacity, ishandicap, rname, rtype, create_button])\n",
    "\n",
    "display(create_box)\n",
    "    \n",
    "output = Output()\n",
    "display(output)"
   ]
  }
 ],
 "metadata": {
  "kernelspec": {
   "display_name": "Python 3",
   "language": "python",
   "name": "python3"
  },
  "language_info": {
   "codemirror_mode": {
    "name": "ipython",
    "version": 2
   },
   "file_extension": ".py",
   "mimetype": "text/x-python",
   "name": "python",
   "nbconvert_exporter": "python",
   "pygments_lexer": "ipython2",
   "version": "2.7.6"
  }
 },
 "nbformat": 4,
 "nbformat_minor": 5
}
