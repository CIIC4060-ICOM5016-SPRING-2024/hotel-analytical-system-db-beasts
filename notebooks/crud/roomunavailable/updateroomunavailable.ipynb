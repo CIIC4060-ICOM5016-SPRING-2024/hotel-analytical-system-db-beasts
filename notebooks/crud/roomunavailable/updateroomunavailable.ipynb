{
 "cells": [
  {
   "cell_type": "code",
   "execution_count": null,
   "id": "initial_id",
   "metadata": {
    "collapsed": true
   },
   "outputs": [],
   "source": [
    "import requests\n",
    "from ipywidgets import *\n",
    "\n",
    "def Put_RoomUnavailable(ruid, rid, startdate, enddate):\n",
    "    flask_url = f'http://127.0.0.1:5000/db-beasts/roomunavailable/{ruid}'\n",
    "    data = {'eid': 50, 'rid': rid, 'startdate': startdate, 'enddate': enddate}\n",
    "    respond = requests.put(flask_url, json=data)\n",
    "    return respond\n",
    "\n",
    "def put_roomunavailable(b):\n",
    "    with output:\n",
    "        roomunavailable = Put_RoomUnavailable(ruid.value, rid.value, startdate.value, enddate.value)\n",
    "        if roomunavailable.status_code == 200:\n",
    "            output.clear_output()\n",
    "            print(\"Room unavailable updated successfully\")\n",
    "            print(roomunavailable.json())\n",
    "        elif roomunavailable.json()[\"Error\"] == \"The employee position is not Supervisor and Administrator\":\n",
    "            output.clear_output()\n",
    "            print('The employee position is not Supervisor and Administrator')\n",
    "        elif roomunavailable.json()[\"Error\"] == \"RoomUnavailable not found.\":\n",
    "            output.clear_output()\n",
    "            print('RoomUnavailable not found.')\n",
    "        elif roomunavailable.json()[\"Error\"] == (\"The unavailable room is referenced to a reservation. \"\n",
    "                                                 \"To upgrade the unavailable room, use the upgrade reservation.\"):\n",
    "            output.clear_output()\n",
    "            print('The unavailable room is referenced to a reservation')\n",
    "        elif roomunavailable.json()[\"Error\"] == \"Room not found in the hotel\":\n",
    "            output.clear_output()\n",
    "            print('Room not found in the hotel')\n",
    "        elif roomunavailable.json()[\"Error\"] == \"End date must be greater than start date\":\n",
    "            output.clear_output()\n",
    "            print('End date must be greater than start date')\n",
    "        elif roomunavailable.json()[\"Error\"] == \"Room is not available during the selected dates.\":\n",
    "            output.clear_output()\n",
    "            print('Room is not available during the selected dates.')\n",
    "        else:\n",
    "            output.clear_output()\n",
    "            print(\"Internal Server Error\")\n",
    "\n",
    "ruid = BoundedIntText(min=0,step=1, max=7777, description=\"Room Unavailable ID\")\n",
    "rid = BoundedIntText(min=0,step=1, max=7777, description=\"Room ID\")\n",
    "startdate = Text(placeholder=\"---\", description='Start Date')\n",
    "enddate = Text(placeholder=\"---\", description='End Date')\n",
    "update_button = Button(description=\"Update Room Unavailable\")\n",
    "update_button.on_click(put_roomunavailable)\n",
    "\n",
    "create_box = VBox([ruid, rid, startdate, enddate, update_button])\n",
    "\n",
    "display(create_box)\n",
    "    \n",
    "output = Output()\n",
    "display(output)"
   ]
  }
 ],
 "metadata": {
  "kernelspec": {
   "display_name": "Python 3",
   "language": "python",
   "name": "python3"
  },
  "language_info": {
   "codemirror_mode": {
    "name": "ipython",
    "version": 2
   },
   "file_extension": ".py",
   "mimetype": "text/x-python",
   "name": "python",
   "nbconvert_exporter": "python",
   "pygments_lexer": "ipython2",
   "version": "2.7.6"
  }
 },
 "nbformat": 4,
 "nbformat_minor": 5
}
