{
 "cells": [
  {
   "cell_type": "code",
   "execution_count": null,
   "id": "initial_id",
   "metadata": {
    "collapsed": true
   },
   "outputs": [],
   "source": [
    "import requests\n",
    "from ipywidgets import *\n",
    "\n",
    "def Put_RoomUnavailable(rdid, startdate, enddate):\n",
    "    flask_url = 'http://127.0.0.1:5000/db-beasts/roomunavailable'\n",
    "    data = {'eid': 3, 'rdid': rdid, 'startdate': startdate, 'enddate': enddate}\n",
    "    respond = requests.post(flask_url, json=data)\n",
    "    return respond\n",
    "\n",
    "def post_roomunavailable(b):\n",
    "    with output:\n",
    "        roomunavailable = Put_RoomUnavailable(rdid.value, startdate.value, enddate.value)\n",
    "\n",
    "rdid = BoundedIntText(min=0,step=0.01, description=\"Room Description ID\")\n",
    "startdate = DatePicker(description=\"Start Date\")\n",
    "enddate = DatePicker(description=\"End Date\")\n",
    "create_button = Button(description=\"Create Room Description\")\n",
    "create_button.on_click(post_roomunavailable)\n",
    "    \n",
    "create_box = widgets.VBox([rdid, startdate, enddate, create_button])\n",
    "display(create_box)\n",
    "    \n",
    "output = Output()\n",
    "display(output)\n",
    "\n",
    "\n",
    "\n",
    "\n",
    "En procesooooooooooooooooooooooooooooo"
   ]
  }
 ],
 "metadata": {
  "kernelspec": {
   "display_name": "Python 3",
   "language": "python",
   "name": "python3"
  },
  "language_info": {
   "codemirror_mode": {
    "name": "ipython",
    "version": 2
   },
   "file_extension": ".py",
   "mimetype": "text/x-python",
   "name": "python",
   "nbconvert_exporter": "python",
   "pygments_lexer": "ipython2",
   "version": "2.7.6"
  }
 },
 "nbformat": 4,
 "nbformat_minor": 5
}
