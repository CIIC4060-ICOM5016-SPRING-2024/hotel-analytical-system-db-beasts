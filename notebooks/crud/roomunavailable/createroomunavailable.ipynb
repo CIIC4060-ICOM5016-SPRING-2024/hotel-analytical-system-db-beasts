{
 "cells": [
  {
   "cell_type": "code",
   "execution_count": null,
   "id": "initial_id",
   "metadata": {
    "collapsed": true
   },
   "outputs": [],
   "source": [
    "import requests\n",
    "from ipywidgets import *\n",
    "\n",
    "# ! En procesooooooooooooooooooooooooooooooo\n",
    "\n",
    "def Put_RoomUnavailable(ruid, startdate, enddate):\n",
    "    flask_url = 'http://127.0.0.1:5000/db-beasts/roomunavailable'\n",
    "    data = {'eid': 43, 'ruid': ruid, 'startdate': startdate, 'enddate': enddate}\n",
    "    respond = requests.post(flask_url, json=data)\n",
    "    return respond\n",
    "\n",
    "def post_roomunavailable(b):\n",
    "    with output:\n",
    "        roomunavailable = Put_RoomUnavailable(ruid.value, startdate.value, enddate.value)\n",
    "        if roomunavailable.request == 201:\n",
    "            output.clear_output()\n",
    "            print('Room Unavailable created successfully')\n",
    "            print(roomunavailable.json())\n",
    "        elif roomunavailable.json()[\"Error\"] == \"The employee position is not Supervisor and Administrator\":\n",
    "            output.clear_output()\n",
    "            print('The employee position is not Supervisor and Administrator')\n",
    "        elif roomunavailable.json()[\"Error\"] == \"Room not found in the hotel\":\n",
    "            output.clear_output()\n",
    "            print('Room not found in the hotel')\n",
    "        elif roomunavailable.json()[\"Error\"] == \"End date must be greater than start date\":\n",
    "            output.clear_output()\n",
    "            print('End date must be greater than start date')\n",
    "        elif roomunavailable.json()[\"Error\"] == \"Room is not available during the selected dates.\":\n",
    "            output.clear_output()\n",
    "            print('Room is not available during the selected dates.')\n",
    "        elif roomunavailable.json()[\"Error\"] == \"The room could not be separated.\":\n",
    "            output.clear_output()\n",
    "            print('The room could not be separated.')\n",
    "        else:\n",
    "            output.clear_output()\n",
    "            print(\"Internal Server Error\")\n",
    "        \n",
    "\n",
    "ruid = BoundedIntText(min=0,step=1, max=7777, description=\"Room Unavailable ID\")\n",
    "startdate = Text(placeholder=\"---\", description='Start Date')\n",
    "enddate = Text(placeholder=\"---\", description='End Date')\n",
    "create_button = Button(description=\"Create Room Description\")\n",
    "create_button.on_click(post_roomunavailable)\n",
    "    \n",
    "create_box = widgets.VBox([ruid, startdate, enddate, create_button])\n",
    "display(create_box)\n",
    "    \n",
    "output = Output()\n",
    "display(output)"
   ]
  }
 ],
 "metadata": {
  "kernelspec": {
   "display_name": "Python 3",
   "language": "python",
   "name": "python3"
  },
  "language_info": {
   "codemirror_mode": {
    "name": "ipython",
    "version": 2
   },
   "file_extension": ".py",
   "mimetype": "text/x-python",
   "name": "python",
   "nbconvert_exporter": "python",
   "pygments_lexer": "ipython2",
   "version": "2.7.6"
  }
 },
 "nbformat": 4,
 "nbformat_minor": 5
}
