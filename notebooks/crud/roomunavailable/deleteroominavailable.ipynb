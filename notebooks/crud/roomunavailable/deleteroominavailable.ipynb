{
 "cells": [
  {
   "cell_type": "code",
   "execution_count": null,
   "id": "initial_id",
   "metadata": {
    "collapsed": true
   },
   "outputs": [],
   "source": [
    "import requests\n",
    "from ipywidgets import *\n",
    "\n",
    "def Delete_RoomUnavailable(ruid):\n",
    "    flask_url = f'http://127.0.0.1:5000/db-beasts/roomunavailable/{ruid}'\n",
    "    data = {'eid': 50}\n",
    "    respond = requests.delete(flask_url, json=data)\n",
    "    return respond\n",
    "\n",
    "def delete_roomunavailable(b):\n",
    "    with output:\n",
    "        roomunavailable = Delete_RoomUnavailable(ruid.value)\n",
    "        if roomunavailable.status_code == 200:\n",
    "            output.clear_output()\n",
    "            print(\"Room unavailable deleted successfully\")\n",
    "        elif roomunavailable.json()['Error']==  \"The employee position is not Supervisor and Administrator\":\n",
    "            output.clear_output()\n",
    "            print(\"The employee position is not Supervisor and Administrator\")\n",
    "        elif roomunavailable.json()['Error']== \"RoomUnavailable not found.\":\n",
    "            output.clear_output()\n",
    "            print(\"RoomUnavailable not found.\")\n",
    "        elif roomunavailable.json()['Error']== \"Room Unavailable is referenced\":\n",
    "            output.clear_output()\n",
    "            print(\"Room Unavailable is referenced\")\n",
    "        else:\n",
    "            output.clear_output()\n",
    "            print(\"Internal Server Error\")\n",
    "    \n",
    "ruid = BoundedIntText(min=0,step=1, max=7777, description=\"Room Unavailable ID\")\n",
    "delete_button = widgets.Button(description=\"Delete Room Unavailable\")\n",
    "delete_button.on_click(delete_roomunavailable)\n",
    "\n",
    "create_box = widgets.VBox([ruid, delete_button])\n",
    "display(create_box)\n",
    "\n",
    "output = widgets.Output()\n",
    "display(output)"
   ]
  }
 ],
 "metadata": {
  "kernelspec": {
   "display_name": "Python 3",
   "language": "python",
   "name": "python3"
  },
  "language_info": {
   "codemirror_mode": {
    "name": "ipython",
    "version": 2
   },
   "file_extension": ".py",
   "mimetype": "text/x-python",
   "name": "python",
   "nbconvert_exporter": "python",
   "pygments_lexer": "ipython2",
   "version": "2.7.6"
  }
 },
 "nbformat": 4,
 "nbformat_minor": 5
}
