{
 "cells": [
  {
   "cell_type": "code",
   "execution_count": null,
   "id": "initial_id",
   "metadata": {
    "collapsed": true
   },
   "outputs": [],
   "source": [
    "from IPython.core.display_functions import clear_output\n",
    "import requests\n",
    "import ipywidgets as widgets"
   ]
  },
  {
   "metadata": {},
   "cell_type": "code",
   "outputs": [],
   "execution_count": null,
   "source": [
    "def Post_Room(hid, rdid, rprice):\n",
    "    flask_url = \"http://127.0.0.1:5000/ec2-54-152-144-84.compute-1.amazonaws.com/db-beasts/room\"\n",
    "    data = {'hid':hid,'rdid':rdid,'rprice':rprice}\n",
    "    response = requests.post(flask_url, json=data)\n",
    "    return response"
   ],
   "id": "7926828a3f36d2c2"
  },
  {
   "metadata": {},
   "cell_type": "code",
   "outputs": [],
   "execution_count": null,
   "source": [
    "def post_room():\n",
    "    with output:\n",
    "        room = Post_Room(hid.value, rdid.value, rprice.value)\n",
    "        if room.status_code == 201:\n",
    "            clear_output()\n",
    "            print(\"Room created successfully\")\n",
    "            print(\"Room Data:\")\n",
    "            print(room.json())\n",
    "        elif room.status_code == 404:\n",
    "            clear_output()\n",
    "            print(\"Hotel or Room Description Not Found\")\n",
    "        else:\n",
    "            clear_output()\n",
    "            print(\"Invalid data\")"
   ],
   "id": "3acbb551ef778fdd"
  },
  {
   "metadata": {},
   "cell_type": "code",
   "outputs": [],
   "execution_count": null,
   "source": [
    "hid = widgets.BoundedIntText(min=-1,step=1, description=\"Hotel ID\")\n",
    "rdid = widgets.BoundedIntText(min=0,step=1, description=\"Hotel Description ID\")\n",
    "rprice = widgets.BoundedIntText(min=0,step=0.01, description=\"Room Price\")\n",
    "create_button = widgets.Button(description=\"Create Room\")\n",
    "create_button.on_click(post_room)\n",
    "\n",
    "create_box = widgets.VBox([hid, rdid, rprice, create_button])\n",
    "display(create_box)\n",
    "\n",
    "output = widgets.Output()\n",
    "display(output)"
   ],
   "id": "1e96f424ac89e40b"
  }
 ],
 "metadata": {
  "kernelspec": {
   "display_name": "Python 3",
   "language": "python",
   "name": "python3"
  },
  "language_info": {
   "codemirror_mode": {
    "name": "ipython",
    "version": 2
   },
   "file_extension": ".py",
   "mimetype": "text/x-python",
   "name": "python",
   "nbconvert_exporter": "python",
   "pygments_lexer": "ipython2",
   "version": "2.7.6"
  }
 },
 "nbformat": 4,
 "nbformat_minor": 5
}
