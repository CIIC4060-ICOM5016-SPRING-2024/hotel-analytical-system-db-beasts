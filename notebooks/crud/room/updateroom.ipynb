{
 "cells": [
  {
   "cell_type": "code",
   "execution_count": null,
   "id": "initial_id",
   "metadata": {
    "collapsed": true
   },
   "outputs": [],
   "source": [
    "from IPython.core.display_functions import clear_output\n",
    "import requests\n",
    "import ipywidgets as widgets"
   ]
  },
  {
   "metadata": {},
   "cell_type": "code",
   "outputs": [],
   "execution_count": null,
   "source": [
    "def Put_Room(rid, hid, rdid, rprice):\n",
    "    flask_url = f\"http://127.0.0.1:5000/ec2-54-152-144-84.compute-1.amazonaws.com/db-beasts/room/{rid}\"\n",
    "    data = {'hid':hid,'rdid':rdid,'rprice':rprice}\n",
    "    response = requests.put(flask_url, json=data)\n",
    "    return response"
   ],
   "id": "4eefcea0d15d2d81"
  },
  {
   "metadata": {},
   "cell_type": "code",
   "outputs": [],
   "execution_count": null,
   "source": [
    "def put_room(b):\n",
    "    with output:\n",
    "        room = Put_Room(rid.value, hid.value, rdid.value, rprice.value)\n",
    "        if room.status_code == 202:\n",
    "            clear_output()\n",
    "            print(\"Room updated successfully\")\n",
    "            print(\"Room Data:\")\n",
    "            print(room.json())\n",
    "        elif room.status_code == 404:\n",
    "            clear_output()\n",
    "            print(\"Room or Hotel or Room Description not found\")\n",
    "        else:\n",
    "            clear_output()\n",
    "            print(\"Invalid Data\")"
   ],
   "id": "c54781dd02e0996"
  },
  {
   "metadata": {},
   "cell_type": "code",
   "outputs": [],
   "execution_count": null,
   "source": [
    "rid = widgets.BoundedIntText(min=0,step=1, max=10000, description=\"Room Id\")\n",
    "hid = widgets.BoundedIntText(min=0,step=1, max=10000, description=\"Hotel Id\")\n",
    "rdid = widgets.BoundedIntText(min=0,step=1, max=10000, description=\"Room Description ID\")\n",
    "rprice = widgets.BoundedIntText(min=0,step=1, max=10000, description=\"Room Price\")\n",
    "update_button = widgets.Button(description=\"Update Room\")\n",
    "update_button.on_click(put_room)\n",
    "\n",
    "create_box = widgets.VBox([rid, hid, rdid, rprice, update_button])\n",
    "display(create_box)\n",
    "\n",
    "output = widgets.Output()\n",
    "display(output)"
   ],
   "id": "6e45dae36b2fa8e7"
  }
 ],
 "metadata": {
  "kernelspec": {
   "display_name": "Python 3",
   "language": "python",
   "name": "python3"
  },
  "language_info": {
   "codemirror_mode": {
    "name": "ipython",
    "version": 2
   },
   "file_extension": ".py",
   "mimetype": "text/x-python",
   "name": "python",
   "nbconvert_exporter": "python",
   "pygments_lexer": "ipython2",
   "version": "2.7.6"
  }
 },
 "nbformat": 4,
 "nbformat_minor": 5
}
