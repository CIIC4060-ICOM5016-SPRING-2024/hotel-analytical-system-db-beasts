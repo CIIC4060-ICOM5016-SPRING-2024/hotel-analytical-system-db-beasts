{
 "cells": [
  {
   "cell_type": "code",
   "execution_count": null,
   "id": "initial_id",
   "metadata": {
    "collapsed": true
   },
   "outputs": [],
   "source": [
    "from IPython.core.display_functions import clear_output\n",
    "import requests\n",
    "import ipywidgets as widgets"
   ]
  },
  {
   "metadata": {},
   "cell_type": "code",
   "outputs": [],
   "execution_count": null,
   "source": [
    "def Delete_Room(rid):\n",
    "    flask_url = f\"http://127.0.0.1:5000/ec2-54-152-144-84.compute-1.amazonaws.com/db-beasts/room/{rid}\"\n",
    "    response = requests.delete(flask_url)\n",
    "    return response"
   ],
   "id": "7d0f9371d8af3ebb"
  },
  {
   "metadata": {},
   "cell_type": "code",
   "outputs": [],
   "execution_count": null,
   "source": [
    "def delete_room(b):\n",
    "    with output:\n",
    "        room = Delete_Room(rid.value)\n",
    "        if room.status_code == 200:\n",
    "            clear_output()\n",
    "            print(\"Room deleted successfully\")\n",
    "        elif room.status_code == 404:\n",
    "            clear_output()\n",
    "            print(\"Room not found\")\n",
    "        elif room.status_code == 400:\n",
    "            clear_output()\n",
    "            print(\"Room is referenced\")\n",
    "        else:\n",
    "            clear_output()\n",
    "            print(\"Delete Failed\")"
   ],
   "id": "5c27d46c2a271599"
  },
  {
   "metadata": {},
   "cell_type": "code",
   "outputs": [],
   "execution_count": null,
   "source": [
    "rid = widgets.BoundedIntText(min=0,step=1, max=10000, description=\"Room ID\")\n",
    "delete_button = widgets.Button(description=\"Delete Room\")\n",
    "delete_button.on_click(delete_room)\n",
    "\n",
    "create_box = widgets.VBox([rid, delete_button])\n",
    "display(create_box)\n",
    "\n",
    "output = widgets.Output()\n",
    "display(output)"
   ],
   "id": "4d0c0c045c0dfce6"
  }
 ],
 "metadata": {
  "kernelspec": {
   "display_name": "Python 3",
   "language": "python",
   "name": "python3"
  },
  "language_info": {
   "codemirror_mode": {
    "name": "ipython",
    "version": 2
   },
   "file_extension": ".py",
   "mimetype": "text/x-python",
   "name": "python",
   "nbconvert_exporter": "python",
   "pygments_lexer": "ipython2",
   "version": "2.7.6"
  }
 },
 "nbformat": 4,
 "nbformat_minor": 5
}
