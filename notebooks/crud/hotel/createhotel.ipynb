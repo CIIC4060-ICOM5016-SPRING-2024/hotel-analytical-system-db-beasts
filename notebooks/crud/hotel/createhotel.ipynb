{
 "cells": [
  {
   "cell_type": "code",
   "execution_count": null,
   "id": "initial_id",
   "metadata": {
    "collapsed": true
   },
   "outputs": [],
   "source": [
    "from IPython.core.display_functions import clear_output\n",
    "import requests\n",
    "import ipywidgets as widgets\n",
    "\n",
    "def Post_Hotel(chid, hname, hcity):\n",
    "    flask_url = \"http://127.0.0.1:5000/db-beasts/hotel\"\n",
    "    data = {'chid':chid,'hname':hname,'hcity':hcity}\n",
    "    response = requests.post(flask_url, json=data)\n",
    "    return response\n",
    "\n",
    "def post_hotel(b):\n",
    "    with output:\n",
    "        hotel = Post_Hotel(chid.value, hname.value, hcity.value)\n",
    "        if hotel.status_code == 201:\n",
    "            clear_output()\n",
    "            print(\"Hotel created successfully\")\n",
    "            print(\"Hotel Data:\")\n",
    "            print(hotel.json())\n",
    "        elif hotel.status_code == 404:\n",
    "            clear_output()\n",
    "            print(\"Chain does not exist\")\n",
    "        else:\n",
    "            clear_output()\n",
    "            print(\"Invalid hotel data\")\n",
    "    \n",
    "operation = widgets.HTML(f\"<p style='font-size:24px;'>Create Hotel</p>\")\n",
    "\n",
    "chid = widgets.BoundedIntText(min=-1,step=1, description=\"Chain Id\")\n",
    "hname = widgets.Text(placeholder=\"---\", description=\"Hotel Name\")\n",
    "hcity = widgets.Text(placeholder=\"---\", description=\"Hotel City\")\n",
    "create_button = widgets.Button(description=\"Create Hotel\")\n",
    "create_button.on_click(post_hotel)\n",
    "\n",
    "create_box = widgets.VBox([operation, chid, hname, hcity, create_button])\n",
    "display(create_box)\n",
    "\n",
    "output = widgets.Output()\n",
    "display(output)"
   ]
  }
 ],
 "metadata": {
  "kernelspec": {
   "display_name": "Python 3",
   "language": "python",
   "name": "python3"
  },
  "language_info": {
   "codemirror_mode": {
    "name": "ipython",
    "version": 2
   },
   "file_extension": ".py",
   "mimetype": "text/x-python",
   "name": "python",
   "nbconvert_exporter": "python",
   "pygments_lexer": "ipython2",
   "version": "2.7.6"
  }
 },
 "nbformat": 4,
 "nbformat_minor": 5
}
