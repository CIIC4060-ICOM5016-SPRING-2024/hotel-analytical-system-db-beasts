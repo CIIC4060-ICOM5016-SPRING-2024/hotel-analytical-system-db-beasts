{
 "cells": [
  {
   "cell_type": "code",
   "execution_count": null,
   "id": "initial_id",
   "metadata": {
    "collapsed": true
   },
   "outputs": [],
   "source": [
    "from IPython.core.display_functions import clear_output\n",
    "import requests\n",
    "import ipywidgets as widgets\n",
    "\n",
    "def Put_Hotel(hid, chid, hname, hcity):\n",
    "    flask_url = f\"http://127.0.0.1:5000/ec2-54-152-144-84.compute-1.amazonaws.com/db-beasts/hotel/{hid}\"\n",
    "    data = {'chid':chid,'hname':hname,'hcity':hcity}\n",
    "    response = requests.put(flask_url, json=data)\n",
    "    return response\n",
    "\n",
    "def put_hotel(b):\n",
    "    with output:\n",
    "        hotel = Put_Hotel(hid.value, chid.value, hname.value, hcity.value)\n",
    "        if hotel.status_code == 202:\n",
    "            clear_output()\n",
    "            print(\"Hotel updated successfully\")\n",
    "            print(\"Hotel Data:\")\n",
    "            print(hotel.json())\n",
    "        elif hotel.status_code == 404:\n",
    "            clear_output()\n",
    "            print(\"Hotel or Chain not found\")\n",
    "        else:\n",
    "            clear_output()\n",
    "            print(\"Invalid Hotel Data\")\n",
    "\n",
    "hid = widgets.BoundedIntText(min=-1,step=1, description=\"Hotel Id\")\n",
    "chid = widgets.BoundedIntText(min=-1,step=1, description=\"Chain Id\")\n",
    "hname = widgets.Text(placeholder=\"---\", description=\"Hotel Name\")\n",
    "hcity = widgets.Text(placeholder=\"---\", description=\"Hotel City\")\n",
    "update_button = widgets.Button(description=\"Update Hotel\")\n",
    "update_button.on_click(put_hotel)\n",
    "\n",
    "create_box = widgets.VBox([hid, chid, hname, hcity, update_button])\n",
    "display(create_box)\n",
    "\n",
    "output = widgets.Output()\n",
    "display(output)"
   ]
  }
 ],
 "metadata": {
  "kernelspec": {
   "display_name": "Python 3",
   "language": "python",
   "name": "python3"
  },
  "language_info": {
   "codemirror_mode": {
    "name": "ipython",
    "version": 2
   },
   "file_extension": ".py",
   "mimetype": "text/x-python",
   "name": "python",
   "nbconvert_exporter": "python",
   "pygments_lexer": "ipython2",
   "version": "2.7.6"
  }
 },
 "nbformat": 4,
 "nbformat_minor": 5
}
