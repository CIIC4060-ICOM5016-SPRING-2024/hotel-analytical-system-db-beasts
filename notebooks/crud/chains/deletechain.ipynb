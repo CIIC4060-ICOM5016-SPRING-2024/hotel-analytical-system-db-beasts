{
 "cells": [
  {
   "cell_type": "code",
   "execution_count": null,
   "id": "initial_id",
   "metadata": {
    "collapsed": true
   },
   "outputs": [],
   "source": [
    "from IPython.core.display_functions import clear_output\n",
    "import requests\n",
    "import ipywidgets as widgets\n",
    "\n",
    "def Delete_Chain(chid):\n",
    "    flask_url = f\"http://127.0.0.1:5000/db-beasts/chains/{chid}\"\n",
    "    response = requests.delete(flask_url)\n",
    "    return response\n",
    "\n",
    "def delete_chain(b):\n",
    "    with output:\n",
    "        chain = Delete_Chain(chid.value)\n",
    "        if chain.status_code == 200:\n",
    "            clear_output()\n",
    "            print(\"Chain deleted successfully\")\n",
    "        elif chain.status_code == 404:\n",
    "            clear_output()\n",
    "            print(\"Chain not found\")\n",
    "        elif chain.status_code == 400:\n",
    "            clear_output()\n",
    "            print(\"Chain is referenced\")\n",
    "        else:\n",
    "            clear_output()\n",
    "            print(\"Delete Failed\")\n",
    "            \n",
    "operation = widgets.HTML(f\"<p style='font-size:24px;'>Delete Chain</p>\")\n",
    "\n",
    "chid = widgets.BoundedIntText(min=-1,step=1, description=\"Chain Id\")\n",
    "delete_button = widgets.Button(description=\"Delete Chain\")\n",
    "delete_button.on_click(delete_chain)\n",
    "\n",
    "create_box = widgets.VBox([operation, chid, delete_button])\n",
    "display(create_box)\n",
    "\n",
    "output = widgets.Output()\n",
    "display(output)"
   ]
  }
 ],
 "metadata": {
  "kernelspec": {
   "display_name": "Python 3",
   "language": "python",
   "name": "python3"
  },
  "language_info": {
   "codemirror_mode": {
    "name": "ipython",
    "version": 2
   },
   "file_extension": ".py",
   "mimetype": "text/x-python",
   "name": "python",
   "nbconvert_exporter": "python",
   "pygments_lexer": "ipython2",
   "version": "2.7.6"
  }
 },
 "nbformat": 4,
 "nbformat_minor": 5
}
