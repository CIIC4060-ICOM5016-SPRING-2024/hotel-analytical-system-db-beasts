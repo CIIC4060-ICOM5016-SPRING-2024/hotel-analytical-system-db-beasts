{
 "cells": [
  {
   "cell_type": "code",
   "execution_count": null,
   "id": "initial_id",
   "metadata": {
    "collapsed": true
   },
   "outputs": [],
   "source": [
    "from IPython.core.display_functions import clear_output\n",
    "import requests\n",
    "import ipywidgets as widgets\n",
    "\n",
    "def Post_Chain(cname, fallmkup, springmkup, summermkup, wintermkup):\n",
    "    flask_url = \"http://127.0.0.1:5000/ec2-54-152-144-84.compute-1.amazonaws.com/db-beasts/chains\"\n",
    "    data = {'cname':cname, 'fallmkup': fallmkup, 'springmkup': springmkup, 'summermkup': summermkup, 'wintermkup': wintermkup}\n",
    "    response = requests.post(flask_url, json=data)\n",
    "    return response\n",
    "\n",
    "def post_chain(button):\n",
    "    with output:\n",
    "        chain = Post_Chain(cname.value, fallmkup.value, springmkup.value, summermkup.value, wintermkup.value)\n",
    "        if chain.status_code == 201:\n",
    "            clear_output()\n",
    "            print(\"Chain created successfully\")\n",
    "            print(\"Chain Data:\")\n",
    "            print(chain.json())  # Print the chain data\n",
    "        else:\n",
    "            clear_output()\n",
    "            print(f\"Invalid Chain Data\")\n",
    "\n",
    "cname = widgets.Text(placeholder=\"---\", description='Chain Name')\n",
    "fallmkup = widgets.BoundedFloatText(min=0, step=0.01, description='Fall Mkup')\n",
    "springmkup = widgets.BoundedFloatText(min=0, step=0.01, description='Spring Mkup')\n",
    "summermkup = widgets.BoundedFloatText(min=0, step=0.01, description='Summer Mkup')\n",
    "wintermkup = widgets.BoundedFloatText(min=0, step=0.01, description='Winter Mkup')\n",
    "create_button = widgets.Button(description='Create Chain')\n",
    "create_button.on_click(post_chain)\n",
    "\n",
    "create_box = widgets.VBox([cname, fallmkup, springmkup, summermkup, wintermkup, create_button])\n",
    "display(create_box)\n",
    "\n",
    "output = widgets.Output()\n",
    "display(output)"
   ]
  }
 ],
 "metadata": {
  "kernelspec": {
   "display_name": "Python 3",
   "language": "python",
   "name": "python3"
  },
  "language_info": {
   "codemirror_mode": {
    "name": "ipython",
    "version": 2
   },
   "file_extension": ".py",
   "mimetype": "text/x-python",
   "name": "python",
   "nbconvert_exporter": "python",
   "pygments_lexer": "ipython2",
   "version": "2.7.6"
  }
 },
 "nbformat": 4,
 "nbformat_minor": 5
}
