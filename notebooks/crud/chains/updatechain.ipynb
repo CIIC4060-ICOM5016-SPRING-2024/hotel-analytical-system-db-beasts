{
 "cells": [
  {
   "cell_type": "code",
   "execution_count": null,
   "id": "initial_id",
   "metadata": {
    "collapsed": true
   },
   "outputs": [],
   "source": [
    "from IPython.core.display_functions import clear_output\n",
    "import requests\n",
    "import ipywidgets as widgets\n",
    "\n",
    "def Put_Chain(chid, cname, fallmkup, springmkup, summermkup, wintermkup):\n",
    "    flask_url = f\"http://127.0.0.1:5000/ec2-54-152-144-84.compute-1.amazonaws.com/db-beasts/chains/{chid}\"\n",
    "    data = {'cname':cname, 'fallmkup': fallmkup, 'springmkup': springmkup, 'summermkup': summermkup, 'wintermkup': wintermkup}\n",
    "    response = requests.put(flask_url, json=data)\n",
    "    return response\n",
    "\n",
    "def put_chain(b):\n",
    "    with output:\n",
    "        chain = Put_Chain(chid.value, cname.value, fallmkup.value, springmkup.value, summermkup.value, wintermkup.value)\n",
    "        if chain.status_code == 202:\n",
    "            clear_output()\n",
    "            print(\"Chain updated successfully\")\n",
    "            print(\"Chain Data:\")\n",
    "            print(chain.json())\n",
    "        elif chain.status_code == 404:\n",
    "            clear_output()\n",
    "            print(\"Chain not found\")\n",
    "        else:\n",
    "            clear_output()\n",
    "            print(\"Invalid Chain Data\")\n",
    "\n",
    "chid = widgets.BoundedIntText(min=-1,step=1, description=\"Chain Id\")\n",
    "cname = widgets.Text(placeholder=\"---\", description='Chain Name')\n",
    "fallmkup = widgets.BoundedFloatText(min=0, step=0.01, description='Fall Mkup')\n",
    "springmkup = widgets.BoundedFloatText(min=0, step=0.01, description='Spring Mkup')\n",
    "summermkup = widgets.BoundedFloatText(min=0, step=0.01, description='Summer Mkup')\n",
    "wintermkup = widgets.BoundedFloatText(min=0, step=0.01, description='Winter Mkup')\n",
    "update_button = widgets.Button(description=\"Update Chain\")\n",
    "update_button.on_click(put_chain)\n",
    "\n",
    "create_box = widgets.VBox([chid, cname, fallmkup, springmkup, summermkup, wintermkup, update_button])\n",
    "display(create_box)\n",
    "\n",
    "output = widgets.Output()\n",
    "display(output)"
   ]
  }
 ],
 "metadata": {
  "kernelspec": {
   "display_name": "Python 3",
   "language": "python",
   "name": "python3"
  },
  "language_info": {
   "codemirror_mode": {
    "name": "ipython",
    "version": 2
   },
   "file_extension": ".py",
   "mimetype": "text/x-python",
   "name": "python",
   "nbconvert_exporter": "python",
   "pygments_lexer": "ipython2",
   "version": "2.7.6"
  }
 },
 "nbformat": 4,
 "nbformat_minor": 5
}
