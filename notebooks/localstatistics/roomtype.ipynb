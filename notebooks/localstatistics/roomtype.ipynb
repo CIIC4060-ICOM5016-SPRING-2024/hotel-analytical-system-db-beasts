{
 "cells": [
  {
   "metadata": {},
   "cell_type": "code",
   "outputs": [],
   "execution_count": null,
   "source": [
    "from IPython.core.display_functions import clear_output\n",
    "import requests\n",
    "import ipywidgets as widgets\n",
    "from matplotlib import pyplot as plt\n",
    "import json"
   ],
   "id": "1d8d226cb00c9bb5"
  },
  {
   "metadata": {},
   "cell_type": "code",
   "outputs": [],
   "execution_count": null,
   "source": [
    "# def see_hotel_options()\n",
    "#     flask\n",
    "\n",
    "def see_roomtype(hid):\n",
    "    flask_url = f\"http://127.0.0.1:5000/db-beasts/hotel/{hid}/roomtype\"\n",
    "    data = {'eid': 3}\n",
    "    response = requests.post(flask_url, json=data)\n",
    "    return response\n",
    "\n",
    "def graph():\n",
    "    items = see_roomtype(hid.value)\n",
    "    datas = items.json()['Total_Hotel_Reserves']\n",
    "    \n",
    "    x = [str(types['room type']) for types in datas]\n",
    "    y = [int(reserves['total reserves']) for reserves in datas]\n",
    "    \n",
    "    plt.bar(x, y, color='black')\n",
    "    \n",
    "    plt.ylim(0, max(y)+5)\n",
    "    \n",
    "    plt.xlabel('x - axis = Room Types')\n",
    "    plt.ylabel('y - axis = Total Reserves')\n",
    "    plt.title('Total reservation by room type')\n",
    "    plt.show()\n",
    "    \n",
    "    # ** See data\n",
    "    json_str = json.dumps(datas, indent=2)\n",
    "    lines = json_str.split('\\n')\n",
    "    for line in lines:\n",
    "        print(line)\n",
    "\n",
    "def see_button(b):\n",
    "    with output:\n",
    "        roomtypes = see_roomtype(hid.value)\n",
    "        if roomtypes.status_code == 200:\n",
    "            clear_output()\n",
    "            graph()\n",
    "        elif roomtypes.status_code == 404:\n",
    "            clear_output()\n",
    "            print(\"Hotel ID invalid\")\n",
    "        elif roomtypes.status_code == 400:\n",
    "            clear_output()\n",
    "            print(\"Invalid Data\")\n",
    "        else:\n",
    "            clear_output()\n",
    "            print(\"Error\")\n",
    "\n",
    "hid = widgets.BoundedIntText(min=-1,step=1, description=\"Hotel ID\")\n",
    "# hidselect = widgets.Select(options=)\n",
    "see_roomtype_button = widgets.Button(description=\"See Room Types\")\n",
    "see_roomtype_button.on_click(see_button)\n",
    "\n",
    "create_box = widgets.VBox([hid, see_roomtype_button])\n",
    "display(create_box)\n",
    "\n",
    "output = widgets.Output()\n",
    "display(output)"
   ],
   "id": "initial_id"
  }
 ],
 "metadata": {
  "kernelspec": {
   "display_name": "Python 3",
   "language": "python",
   "name": "python3"
  },
  "language_info": {
   "codemirror_mode": {
    "name": "ipython",
    "version": 2
   },
   "file_extension": ".py",
   "mimetype": "text/x-python",
   "name": "python",
   "nbconvert_exporter": "python",
   "pygments_lexer": "ipython2",
   "version": "2.7.6"
  }
 },
 "nbformat": 4,
 "nbformat_minor": 5
}
