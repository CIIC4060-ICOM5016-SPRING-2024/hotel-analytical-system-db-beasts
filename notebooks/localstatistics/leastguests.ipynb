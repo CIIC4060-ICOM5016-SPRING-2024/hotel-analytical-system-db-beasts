{
 "cells": [
  {
   "cell_type": "code",
   "execution_count": null,
   "id": "initial_id",
   "metadata": {
    "collapsed": true
   },
   "outputs": [],
   "source": [
    "from ipywidgets import *\n",
    "import requests\n",
    "\n",
    "def see_leastguests(hid):\n",
    "    flask_url = f\"http://127.0.0.1:5000/db-beasts/hotel/{hid}/roomtype\"\n",
    "    data = {'eid': 3}\n",
    "    response = requests.post(flask_url, json=data)\n",
    "    return response\n",
    "\n",
    "def graph():\n",
    "    items = see_leastguests(hid.value)\n",
    "    datas = items.json()['Least_Guests']\n",
    "    \n",
    "    x = [str(types['rid']) for types in datas]\n",
    "\n",
    "hid = BoundedIntText(min=-1,step=1, description=\"Hotel ID\")\n",
    "# hidselect = widgets.Select(options=)\n",
    "see_roomtype_button = Button(description=\"See Room Types\")\n",
    "see_roomtype_button.on_click(see_button)\n",
    "\n",
    "create_box = widgets.VBox([hid, see_roomtype_button])\n",
    "display(create_box)\n",
    "\n",
    "output = widgets.Output()\n",
    "display(output)"
   ]
  }
 ],
 "metadata": {
  "kernelspec": {
   "display_name": "Python 3",
   "language": "python",
   "name": "python3"
  },
  "language_info": {
   "codemirror_mode": {
    "name": "ipython",
    "version": 2
   },
   "file_extension": ".py",
   "mimetype": "text/x-python",
   "name": "python",
   "nbconvert_exporter": "python",
   "pygments_lexer": "ipython2",
   "version": "2.7.6"
  }
 },
 "nbformat": 4,
 "nbformat_minor": 5
}
