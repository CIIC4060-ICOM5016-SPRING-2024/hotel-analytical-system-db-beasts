{
 "cells": [
  {
   "metadata": {},
   "cell_type": "code",
   "outputs": [],
   "execution_count": null,
   "source": [
    "import requests\n",
    "from config.db import DatabaseOption\n",
    "from ipywidgets import HTML, BoundedIntText, Button, VBox, Output\n",
    "import json"
   ],
   "id": "b1d936482d49dac2"
  },
  {
   "metadata": {},
   "cell_type": "code",
   "outputs": [],
   "execution_count": null,
   "source": [
    "# -----------------------------------------------------------------------------------------------------------------------\n",
    "# Region Local Statistics /hotel/<id>/mostcreditcard\n",
    "# -----------------------------------------------------------------------------------------------------------------------\n",
    "def see_mostcreditcard(hid, id):\n",
    "    flask_url = None\n",
    "    if DatabaseOption() == 'd':\n",
    "        flask_url = f\"http://127.0.0.1:5000/db-beasts/hotel/{hid}/mostcreditcard\"\n",
    "    elif DatabaseOption() == 'h':\n",
    "        flask_url = f\"https://db-beasts-7827ce232282.herokuapp.com/db-beasts/hotel/{hid}/mostcreditcard\"\n",
    "    data = {'eid': 3}\n",
    "    response = requests.post(flask_url, json=data)\n",
    "    return response\n",
    "\n",
    "def graph():\n",
    "    items = see_mostcreditcard(hid.value, id)\n",
    "    if not items:\n",
    "        output.clear_output()\n",
    "        print(\"Access not granted\")\n",
    "    else:\n",
    "        datas = items.json()['Most_Credit_Cards']\n",
    "        \n",
    "        # ** Graph\n",
    "        \n",
    "        \n",
    "        # ** See data\n",
    "        json_str = json.dumps(datas, indent=2)\n",
    "        lines = json_str.split('\\n')\n",
    "        for line in lines:\n",
    "            print(line)\n",
    "\n",
    "def see_button(id):\n",
    "    with output:\n",
    "        mostcreditcard = see_mostcreditcard(hid.value, id)\n",
    "        if not mostcreditcard:\n",
    "            output.clear_output()\n",
    "            print(\"Access not granted\")\n",
    "        else:\n",
    "            if mostcreditcard.status_code == 200:\n",
    "                output.clear_output()\n",
    "                graph()\n",
    "            elif mostcreditcard.status_code == 404:\n",
    "                output.clear_output()\n",
    "                print(\"Hotel ID invalid\")\n",
    "            elif mostcreditcard.status_code == 400:\n",
    "                output.clear_output()\n",
    "                print(\"Invalid Data\")\n",
    "            else:\n",
    "                output.clear_output()\n",
    "                print(\"Error\")\n",
    "    \n",
    "operation = HTML(f\"<p style='font-size:24px;'>Top 5 clients under 30 that made the most reservation with a credit card.</p>\")\n",
    "hid = BoundedIntText(min=-1,step=1, description=\"Hotel ID\")\n",
    "see_mostcreditcard_button = Button(description=\"See Most Credit Card\")\n",
    "see_mostcreditcard_button.on_click(see_button)\n",
    "    \n",
    "create_box = VBox([operation, hid, see_mostcreditcard_button])\n",
    "display(create_box)\n",
    "    \n",
    "output = Output()\n",
    "display(output)"
   ],
   "id": "initial_id"
  }
 ],
 "metadata": {
  "kernelspec": {
   "display_name": "Python 3",
   "language": "python",
   "name": "python3"
  },
  "language_info": {
   "codemirror_mode": {
    "name": "ipython",
    "version": 2
   },
   "file_extension": ".py",
   "mimetype": "text/x-python",
   "name": "python",
   "nbconvert_exporter": "python",
   "pygments_lexer": "ipython2",
   "version": "2.7.6"
  }
 },
 "nbformat": 4,
 "nbformat_minor": 5
}
