{
 "cells": [
  {
   "metadata": {},
   "cell_type": "code",
   "outputs": [],
   "execution_count": null,
   "source": [
    "import requests\n",
    "from config.db import DatabaseOption\n",
    "from ipywidgets import HTML, BoundedIntText, Button, VBox, Output"
   ],
   "id": "b1d936482d49dac2"
  },
  {
   "metadata": {},
   "cell_type": "code",
   "outputs": [],
   "execution_count": null,
   "source": [
    "# -----------------------------------------------------------------------------------------------------------------------\n",
    "# Region Local Statistics /hotel/<id>/mostcreditcard\n",
    "# -----------------------------------------------------------------------------------------------------------------------\n",
    "def see_mostcreditcard(hid, id):\n",
    "    flask_url = None\n",
    "    if DatabaseOption() == 'd':\n",
    "        flask_url = f\"http://127.0.0.1:5000/db-beasts/hotel/{hid}/mostcreditcard\"\n",
    "    elif DatabaseOption() == 'h':\n",
    "        flask_url = f\"https://db-beasts-7827ce232282.herokuapp.com/db-beasts/hotel/{hid}/mostcreditcard\"\n",
    "    data = {'eid': 3}\n",
    "    response = requests.post(flask_url, json=data)\n",
    "    return response\n",
    "\n",
    "def graph():\n",
    "    pass\n",
    "\n",
    "def see_button(id):\n",
    "    pass\n",
    "    \n",
    "operation = HTML(f\"<p style='font-size:24px;'>Top 5 clients under 30 that made the most reservation with a credit card.</p>\")\n",
    "hid = BoundedIntText(min=-1,step=1, description=\"Hotel ID\")\n",
    "see_mostcreditcard_button = Button(description=\"See Most Credit Card\")\n",
    "see_mostcreditcard_button.on_click(see_button)\n",
    "    \n",
    "create_box = VBox([operation, hid, see_mostcreditcard_button])\n",
    "display(create_box)\n",
    "    \n",
    "output = Output()\n",
    "display(output)"
   ],
   "id": "initial_id"
  }
 ],
 "metadata": {
  "kernelspec": {
   "display_name": "Python 3",
   "language": "python",
   "name": "python3"
  },
  "language_info": {
   "codemirror_mode": {
    "name": "ipython",
    "version": 2
   },
   "file_extension": ".py",
   "mimetype": "text/x-python",
   "name": "python",
   "nbconvert_exporter": "python",
   "pygments_lexer": "ipython2",
   "version": "2.7.6"
  }
 },
 "nbformat": 4,
 "nbformat_minor": 5
}
