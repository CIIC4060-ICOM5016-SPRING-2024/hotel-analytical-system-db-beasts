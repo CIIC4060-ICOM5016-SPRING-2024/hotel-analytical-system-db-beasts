{
 "cells": [
  {
   "cell_type": "code",
   "id": "initial_id",
   "metadata": {
    "collapsed": true,
    "ExecuteTime": {
     "end_time": "2024-04-19T04:31:35.703430Z",
     "start_time": "2024-04-19T04:31:35.682321Z"
    }
   },
   "source": [
    "from IPython.core.display_functions import clear_output\n",
    "import requests\n",
    "from ipywidgets import widgets\n",
    "\n",
    "header_text = widgets.HTML(\"<h1 style='text-align: center; color: white; background-color: #333; width: 100%; margin: 0; padding: 15px 0;'>Hotel Analytics Systems by DB Beasts</h1>\")\n",
    "\n",
    "display(header_text)\n",
    "\n",
    "\"\"\"\n",
    "------------------\n",
    "* LOGIN\n",
    "------------------\n",
    "\"\"\"\n",
    "\n",
    "def Check_Login(username, password):\n",
    "    #flask_url = \"https://db-beasts-7827ce232282.herokuapp.com/ec2-54-152-144-84.compute-1.amazonaws.com/db-beasts/login/voila\"\n",
    "    flask_url = \"http://127.0.0.1:5000/ec2-54-152-144-84.compute-1.amazonaws.com/db-beasts/login/voila\"\n",
    "    credentials = {'username': username, 'password': password}\n",
    "    response = requests.post(flask_url, json=credentials)\n",
    "    return response\n",
    "\n",
    "input_username = widgets.Text(placeholder='Username', layout=widgets.Layout(width='200px', margin='5px'))\n",
    "input_password = widgets.Password(placeholder='Password', layout=widgets.Layout(width='200px', margin='5px'))\n",
    "input_box = widgets.VBox([input_username, input_password], layout=widgets.Layout(border='1px solid black', border_radius='5px', background_color='#f7f7f7', margin='5px', padding='8px', width='18%'))\n",
    "display(input_box)\n",
    "\n",
    "button_login = widgets.Button(description=\"Log In\")\n",
    "display(button_login)\n",
    "\n",
    "button_logout = widgets.Button(description=\"Log Out\")\n",
    "display(button_logout)\n",
    "button_logout.layout.visibility = 'hidden'\n",
    "\n",
    "output = widgets.Output()\n",
    "display(output)\n",
    "\n",
    "def login_button_clicked(b):\n",
    "    with output:\n",
    "        clear_output()\n",
    "        response = Check_Login(input_username.value, input_password.value)\n",
    "        if response.status_code == 200:  # Check if the request was successful\n",
    "            if response.text.strip() == 'true':  # Check if the response content is 'true'\n",
    "                print(f\"Login successful, Welcome!\")\n",
    "                button_login.layout.visibility = 'hidden'\n",
    "                button_logout.layout.visibility = 'visible'\n",
    "            else:\n",
    "                clear_output()\n",
    "                print(f\"Login failed. Please try again. username: {input_username.value}, password: {input_password.value}\")\n",
    "        else:\n",
    "            print(\"Error: Failed in login\")\n",
    "\n",
    "button_login.on_click(login_button_clicked)\n",
    "\n",
    "def logout_button_clicked(b):\n",
    "    with output:\n",
    "        clear_output()\n",
    "        print(\"Logged out successfully\")\n",
    "        button_login.layout.visibility = 'visible'\n",
    "        button_logout.layout.visibility = 'hidden'\n",
    "        \n",
    "button_logout.on_click(logout_button_clicked)\n",
    "\n"
   ],
   "outputs": [
    {
     "data": {
      "text/plain": [
       "HTML(value=\"<h1 style='text-align: center; color: white; background-color: #333; width: 100%; margin: 0; paddi…"
      ],
      "application/vnd.jupyter.widget-view+json": {
       "version_major": 2,
       "version_minor": 0,
       "model_id": "07eded7ec5d94e5fb2b79d077736b09e"
      }
     },
     "metadata": {},
     "output_type": "display_data"
    },
    {
     "data": {
      "text/plain": [
       "VBox(children=(Text(value='', layout=Layout(margin='5px', width='200px'), placeholder='Username'), Password(la…"
      ],
      "application/vnd.jupyter.widget-view+json": {
       "version_major": 2,
       "version_minor": 0,
       "model_id": "b684432c1a9544dab010610748851b4f"
      }
     },
     "metadata": {},
     "output_type": "display_data"
    },
    {
     "data": {
      "text/plain": [
       "Button(description='Log In', style=ButtonStyle())"
      ],
      "application/vnd.jupyter.widget-view+json": {
       "version_major": 2,
       "version_minor": 0,
       "model_id": "e81ca0995704408896dd1ccefd315279"
      }
     },
     "metadata": {},
     "output_type": "display_data"
    },
    {
     "data": {
      "text/plain": [
       "Button(description='Log Out', style=ButtonStyle())"
      ],
      "application/vnd.jupyter.widget-view+json": {
       "version_major": 2,
       "version_minor": 0,
       "model_id": "4e712896e2fd4cedac9d835c60964cf0"
      }
     },
     "metadata": {},
     "output_type": "display_data"
    },
    {
     "data": {
      "text/plain": [
       "Output()"
      ],
      "application/vnd.jupyter.widget-view+json": {
       "version_major": 2,
       "version_minor": 0,
       "model_id": "18803460d3924bc6bdc52d8bcb26fe87"
      }
     },
     "metadata": {},
     "output_type": "display_data"
    }
   ],
   "execution_count": 35
  },
  {
   "metadata": {},
   "cell_type": "code",
   "outputs": [],
   "execution_count": null,
   "source": "",
   "id": "a88fc7576d1dd0c3"
  }
 ],
 "metadata": {
  "kernelspec": {
   "display_name": "Python 3",
   "language": "python",
   "name": "python3"
  },
  "language_info": {
   "codemirror_mode": {
    "name": "ipython",
    "version": 2
   },
   "file_extension": ".py",
   "mimetype": "text/x-python",
   "name": "python",
   "nbconvert_exporter": "python",
   "pygments_lexer": "ipython2",
   "version": "2.7.6"
  }
 },
 "nbformat": 4,
 "nbformat_minor": 5
}
