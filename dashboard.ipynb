{
 "cells": [
  {
   "cell_type": "markdown",
   "id": "18e5198e20762114",
   "metadata": {},
   "source": [
    "# Imports"
   ]
  },
  {
   "cell_type": "code",
   "execution_count": 1,
   "id": "550accddff2f2253",
   "metadata": {
    "ExecuteTime": {
     "end_time": "2024-05-12T19:43:34.063096Z",
     "start_time": "2024-05-12T19:43:34.004572Z"
    }
   },
   "outputs": [],
   "source": [
    "from ipywidgets import Layout, Button, Label, Password, Text, VBox, HBox, Output, HTML, BoundedFloatText, BoundedIntText, DatePicker, Dropdown\n",
    "from IPython.display import display\n",
    "from dashchecks import *\n",
    "import matplotlib.pyplot as plt\n",
    "import json"
   ]
  },
  {
   "cell_type": "code",
   "execution_count": null,
   "id": "c9f3336e",
   "metadata": {},
   "outputs": [],
   "source": [
    "class active_user():\n",
    "    def __init__(self, eid, hid, position):\n",
    "        self.eid = eid\n",
    "        self.hid = hid\n",
    "        self.position = position\n",
    "\n"
   ]
  },
  {
   "cell_type": "markdown",
   "id": "6b745d9d8786d383",
   "metadata": {},
   "source": [
    "# Dashboard"
   ]
  },
  {
   "cell_type": "code",
   "execution_count": null,
   "id": "initial_id",
   "metadata": {},
   "outputs": [],
   "source": [
    "# Different styles definitions:\n",
    "login_button_style = {\"description_border_color\": \"lightblue\", \"font_weight\": \"bold\", \"button_color\": \"lightblue\"}\n",
    "input_style = {\"description_width\": \"initial\"}\n",
    "header_style = {\"font_weight\": \"bold\", \"color\": \"black\", \"background-color\": \"lightblue\", \"padding\": \"10px\", \"text-align\": \"center\"}\n",
    "welcome_style = {\"font_weight\": \"bold\", \"color\": \"#008080\", \"background-color\": \"lightblue\", \"padding\": \"10px\", \"text-align\": \"center\", \"font-size\": \"28px\"}\n",
    "\n",
    "# Log In Fields\n",
    "username = Text(placeholder=\"Username\", style=input_style)\n",
    "password = Password(placeholder=\"Password\", style=input_style)\n",
    "\n",
    "# Create the buttons\n",
    "login_button = Button(description=\"Log In\", style=login_button_style, icon=\"check\", button_style=\"\")\n",
    "sign_up_button = Button(description=\"Sign Up\", style=login_button_style, icon=\"plus\", button_style=\"\")\n",
    "back_button = Button(description=\"Back\", style=login_button_style, icon=\"arrow-left\", button_style=\"\")\n",
    "create_button = Button(description=\"Create\", style=login_button_style, icon=\"check\", button_style=\"\")\n",
    "\n",
    "# Create output widget\n",
    "output = Output()\n",
    "\n",
    "# Create the VirtualBox for the login\n",
    "login_form = VBox([\n",
    "    Label(value=\"Hello, welcome!\", layout=Layout(margin=\"10px\"), style=welcome_style),\n",
    "    username,\n",
    "    password,\n",
    "    VBox([login_button], layout=Layout(justify_content=\"center\")),\n",
    "    VBox([sign_up_button], layout=Layout(justify_content=\"center\")),\n",
    "    output,\n",
    "], layout=Layout(justify_content=\"center\", align_items=\"center\"))\n",
    "\n",
    "# SignUp Fields\n",
    "Employee_ID = Text(placeholder=\"Employee ID\", style=input_style)\n",
    "First_Name = Text(placeholder=\"First Name\", style=input_style)\n",
    "Last_Name = Text(placeholder=\"Last Name\", style=input_style)\n",
    "signup_username = Text(placeholder=\"Username\", style=input_style)\n",
    "signup_password = Password(placeholder=\"Password\", style=input_style)\n",
    "\n",
    "# Create the VirtualBox for the SignUp\n",
    "signup_form = VBox([\n",
    "    Label(value=\"Create an Account\", layout=Layout(margin=\"10px\"), style=welcome_style),\n",
    "    Employee_ID,\n",
    "    First_Name,\n",
    "    Last_Name,\n",
    "    signup_username,\n",
    "    signup_password,\n",
    "    VBox([create_button], layout=Layout(justify_content=\"center\")),\n",
    "    VBox([back_button], layout=Layout(justify_content=\"center\")),\n",
    "], layout=Layout(justify_content=\"center\", align_items=\"center\"))\n",
    "\n",
    "# Function to handle login button click\n",
    "def login_button_clicked(button):\n",
    "    form_container.children = [login_form]\n",
    "\n",
    "# Function to handle signup button click\n",
    "def signup_button_clicked(button):\n",
    "    form_container.children = [signup_form]\n",
    "\n",
    "# Function to handle back button click\n",
    "def back_button_clicked(button):\n",
    "    form_container.children = [login_form]\n",
    "\n",
    "# Function to handle create button click\n",
    "def create_button_clicked(button):\n",
    "    # Placeholder--Come back to this later.\n",
    "    with output:\n",
    "        output.clear_output()\n",
    "        print(\"Account created successfully!\")\n",
    "\n",
    "# Button clicks and their events.\n",
    "login_button.on_click(login_button_clicked)\n",
    "sign_up_button.on_click(signup_button_clicked)\n",
    "back_button.on_click(back_button_clicked)\n",
    "create_button.on_click(create_button_clicked)\n",
    "\n",
    "# Create layout (Virtual Boxes)\n",
    "def create_layout():\n",
    "    login_form_box = VBox([\n",
    "        Label(value=\"Hello, welcome!\", layout=Layout(margin=\"10px\"), style=welcome_style),\n",
    "        username,\n",
    "        password,\n",
    "        VBox([login_button], layout=Layout(justify_content=\"center\")),\n",
    "        VBox([sign_up_button], layout=Layout(justify_content=\"center\")),\n",
    "        output,\n",
    "    ], layout=Layout(justify_content=\"center\", align_items=\"center\"))\n",
    "    \n",
    "    signup_form_box = VBox([\n",
    "        Label(value=\"Create an Account\", layout=Layout(margin=\"10px\"), style=welcome_style),\n",
    "        Employee_ID,\n",
    "        First_Name,\n",
    "        Last_Name,\n",
    "        signup_username,\n",
    "        signup_password,\n",
    "        VBox([create_button], layout=Layout(justify_content=\"center\")),\n",
    "        VBox([back_button], layout=Layout(justify_content=\"center\")),\n",
    "    ], layout=Layout(justify_content=\"center\", align_items=\"center\"))\n",
    "    \n",
    "    form_container = HBox([login_form_box], layout=Layout(justify_content=\"center\", align_items=\"center\"))\n",
    "    \n",
    "    header = HTML(\"<div style='background-color:lightblue; padding:10px; text-align:center; overflow:hidden;'><p style='font-weight:bold; color:black; font-size:24px;'>HotelAnalytics Systems</p><p style='font-weight:bold; color:black; font-size:18px;'>DB Beasts</p></div>\") \n",
    "    footer = HTML(\"<div style='background-color:lightblue; padding:10px; text-align:center; overflow:hidden;'><a style='text-decoration:none; color:black;'>Db Beasts Members:</a> <i class='fas fa-user' style='background-color: #00868B; color: white; border-radius: 50%; padding: 2px 6px; font-weight: bold;'></i><a href='https://github.com/YanehRuiz' target='_blank' style='text-decoration:none; color:black;'> Yanishka</a> <i class='fas fa-user' style='background-color: #00868B; color: white; border-radius: 50%; padding: 2px 6px; font-weight: bold;'></i><a href='https://github.com/gaac-rum' target='_blank' style='text-decoration:none; color:black;'> Gabriel</a> <i class='fas fa-user' style='background-color: #00868B; color: white; border-radius: 50%; padding: 2px 6px; font-weight: bold;'></i><a href='https://github.com/Axel-Negron' target='_blank' style='text-decoration:none; color:black;'> Axel  </a><i class='fas fa-user' style='background-color: #00868B; color: white; border-radius: 50%; padding: 2px 6px; font-weight: bold;'></i><a href='https://github.com/samiralirivera' target='_blank' style='text-decoration:none; color:black;'> Samir</a></div>\")    \n",
    "    background = HTML(\"<img src='https://i.imgur.com/sJ8W01b.jpeg' style='width:100%; height:90vh; object-fit:cover;'>\")   \n",
    "    return header, form_container, background, footer\n",
    "\n",
    "# Display header, layout, and backgrounde\n",
    "header, form_container, background, footer = create_layout()\n",
    "display(header)\n",
    "display(form_container)\n",
    "display(background)\n",
    "display(footer)"
   ]
  },
  {
   "cell_type": "markdown",
   "id": "c8406ece1b48fd7f",
   "metadata": {},
   "source": [
    "## Crud"
   ]
  },
  {
   "cell_type": "markdown",
   "id": "20981d7ff997bef4",
   "metadata": {},
   "source": [
    "### Chain"
   ]
  },
  {
   "cell_type": "code",
   "execution_count": null,
   "id": "fe5d62c01b02bfcf",
   "metadata": {},
   "outputs": [],
   "source": [
    "####################### Create Chain ##########################\n",
    "def CreateChain():\n",
    "    def post_chain(button):\n",
    "        with output:\n",
    "            chain = Post_Chain(cname.value, fallmkup.value, springmkup.value, summermkup.value, wintermkup.value)\n",
    "            if chain.status_code == 201:\n",
    "                output.clear_output()\n",
    "                print(\"Chain created successfully\")\n",
    "                print(\"Chain Data:\")\n",
    "                print(chain.json())  # Print the chain data\n",
    "            else:\n",
    "                output.clear_output()\n",
    "                print(f\"Invalid Chain Data\")\n",
    "\n",
    "    operation = HTML(f\"<p style='font-size:24px;'>Create Chain</p>\")\n",
    "    \n",
    "    cname = Text(placeholder=\"---\", description='Chain Name')\n",
    "    fallmkup = BoundedFloatText(min=0, step=0.01, description='Fall Mkup')\n",
    "    springmkup = BoundedFloatText(min=0, step=0.01, description='Spring Mkup')\n",
    "    summermkup = BoundedFloatText(min=0, step=0.01, description='Summer Mkup')\n",
    "    wintermkup = BoundedFloatText(min=0, step=0.01, description='Winter Mkup')\n",
    "    create_button = Button(description='Create Chain')\n",
    "    create_button.on_click(post_chain)\n",
    "    \n",
    "    create_box = VBox([operation, cname, fallmkup, springmkup, summermkup, wintermkup, create_button])\n",
    "    display(create_box)\n",
    "    \n",
    "    output = Output()\n",
    "    display(output)\n",
    "\n",
    "# position = \"\"\n",
    "# if position == \"Administrator\":\n",
    "display(CreateChain())"
   ]
  },
  {
   "cell_type": "code",
   "execution_count": null,
   "id": "1b53affd2f4e2caf",
   "metadata": {},
   "outputs": [],
   "source": [
    "####################### Delete Chain ##########################\n",
    "def DeleteChain():\n",
    "    def delete_chain(b):\n",
    "        with output:\n",
    "            chain = Delete_Chain(chid.value)\n",
    "            if chain.status_code == 200:\n",
    "                output.clear_output()\n",
    "                print(\"Chain deleted successfully\")\n",
    "            elif chain.status_code == 404:\n",
    "                output.clear_output()\n",
    "                print(\"Chain not found\")\n",
    "            elif chain.status_code == 400:\n",
    "                output.clear_output()\n",
    "                print(\"Chain is referenced\")\n",
    "            else:\n",
    "                output.clear_output()\n",
    "                print(\"Delete Failed\")\n",
    "            \n",
    "    operation = HTML(f\"<p style='font-size:24px;'>Delete Chain</p>\")\n",
    "    \n",
    "    chid = BoundedIntText(min=-1,step=1, description=\"Chain Id\")\n",
    "    delete_button = Button(description=\"Delete Chain\")\n",
    "    delete_button.on_click(delete_chain)\n",
    "    \n",
    "    create_box = VBox([operation, chid, delete_button])\n",
    "    display(create_box)\n",
    "    \n",
    "    output = Output()\n",
    "    display(output)\n",
    "\n",
    "position = \"\"\n",
    "if position == \"Administrator\":\n",
    "    display(DeleteChain())"
   ]
  },
  {
   "cell_type": "code",
   "execution_count": null,
   "id": "4d9aa3e3d23bab03",
   "metadata": {},
   "outputs": [],
   "source": [
    "####################### Update Chain ##########################\n",
    "def UpdateChain():\n",
    "    def put_chain(b):\n",
    "        with output:\n",
    "            chain = Put_Chain(chid.value, cname.value, fallmkup.value, springmkup.value, summermkup.value, wintermkup.value)\n",
    "            if chain.status_code == 202:\n",
    "                output.clear_output()\n",
    "                print(\"Chain updated successfully\")\n",
    "                print(\"Chain Data:\")\n",
    "                print(chain.json())\n",
    "            elif chain.status_code == 404:\n",
    "                output.clear_output()\n",
    "                print(\"Chain not found\")\n",
    "            else:\n",
    "                output.clear_output()\n",
    "                print(\"Invalid Chain Data\")\n",
    "            \n",
    "    operation = HTML(f\"<p style='font-size:24px;'>Update Chain</p>\")\n",
    "    \n",
    "    chid = BoundedIntText(min=-1,step=1, description=\"Chain Id\")\n",
    "    cname = Text(placeholder=\"---\", description='Chain Name')\n",
    "    fallmkup = BoundedFloatText(min=0, step=0.01, description='Fall Mkup')\n",
    "    springmkup = BoundedFloatText(min=0, step=0.01, description='Spring Mkup')\n",
    "    summermkup = BoundedFloatText(min=0, step=0.01, description='Summer Mkup')\n",
    "    wintermkup = BoundedFloatText(min=0, step=0.01, description='Winter Mkup')\n",
    "    update_button = Button(description=\"Update Chain\")\n",
    "    update_button.on_click(put_chain)\n",
    "    \n",
    "    create_box = VBox([operation, chid, cname, fallmkup, springmkup, summermkup, wintermkup, update_button])\n",
    "    display(create_box)\n",
    "    \n",
    "    output = Output()\n",
    "    display(output)\n",
    "    \n",
    "position = \"\"\n",
    "if position == \"Administrator\":\n",
    "    display(UpdateChain())"
   ]
  },
  {
   "cell_type": "markdown",
   "id": "184add88e7db5af0",
   "metadata": {},
   "source": [
    "### Client"
   ]
  },
  {
   "cell_type": "code",
   "execution_count": null,
   "id": "ceb871fa2167d3e8",
   "metadata": {},
   "outputs": [],
   "source": [
    "####################### Create Client ##########################\n",
    "def CreateClient():\n",
    "    def post_client(b):\n",
    "        with output:\n",
    "            client = Post_Client(fname.value, lname.value, age.value, memberyear.value)\n",
    "            if client.status_code == 201:\n",
    "                output.clear_output()\n",
    "                print(\"Client created successfully\")\n",
    "                print(\"Client Data:\")\n",
    "                print(client.json())\n",
    "            elif client.status_code == 404:\n",
    "                output.clear_output()\n",
    "                print(\"Chain does not exist\")\n",
    "            else:\n",
    "                output.clear_output()\n",
    "                print(\"Invalid client data\")\n",
    "    \n",
    "    operation = HTML(f\"<p style='font-size:24px;'>Create Client</p>\")\n",
    "    fname = Text(placeholder=\"---\", description=\"First Name\")\n",
    "    lname = Text(placeholder=\"---\", description=\"Last Name\")\n",
    "    age = BoundedIntText(min=0, step=1, description=\"Age\")\n",
    "    memberyear = BoundedIntText(min=0, step=1, description=\"Member Year\")\n",
    "    create_button = Button(description=\"Create Client\")\n",
    "    create_button.on_click(post_client)\n",
    "    create_box = VBox([operation, fname, lname, age, memberyear, create_button])\n",
    "    display(create_box)\n",
    "    output  = Output()\n",
    "    display(output)\n",
    "    \n",
    "display(CreateClient())"
   ]
  },
  {
   "cell_type": "code",
   "execution_count": null,
   "id": "6e0dfabe4e194b83",
   "metadata": {},
   "outputs": [],
   "source": [
    "####################### Delete Client  ##########################\n",
    "def DeleteClient():\n",
    "    def delete_client(b):\n",
    "        with output:\n",
    "            client = Delete_Client(cid.value)\n",
    "            if client.status_code == 200:\n",
    "                output.clear_output()\n",
    "                print(\"Client deleted successfully\")\n",
    "            elif client.status_code == 404:\n",
    "                output.clear_output()\n",
    "                print(\"Client not found\")\n",
    "            else:\n",
    "                output.clear_output()\n",
    "                print(\"Delete Failed\")\n",
    "            \n",
    "    operation = HTML(f\"<p style='font-size:24px;'>Delete Client</p>\")\n",
    "    \n",
    "    cid = BoundedIntText(min=-1,max = 9999999999999,step=1, description=\"Client Id\")\n",
    "    delete_button = Button(description=\"Delete Client\")\n",
    "    delete_button.on_click(delete_client)\n",
    "    create_box = VBox([operation, cid, delete_button])\n",
    "    display(create_box)\n",
    "    \n",
    "    output = Output()\n",
    "    display(output)\n",
    "\n",
    "display(DeleteClient())\n",
    "    "
   ]
  },
  {
   "cell_type": "code",
   "execution_count": null,
   "id": "d65fdccf6b0da915",
   "metadata": {},
   "outputs": [],
   "source": [
    "####################### Update Client ##########################\n",
    "def UpdateClient():\n",
    "    def put_client(b):\n",
    "        with output:\n",
    "            client = Put_Client(cid.value, fname.value, lname.value, age.value, memberyear.value)\n",
    "            if client.status_code == 201:\n",
    "                output.clear_output()\n",
    "                print(\"Client updated successfully\")\n",
    "                print(\"Client Data:\")\n",
    "                print(client.json())\n",
    "            elif client.status_code == 404:\n",
    "                output.clear_output()\n",
    "                print(\"Client not found\")\n",
    "            else:\n",
    "                output.clear_output()\n",
    "                print(\"Invalid Client Data\")\n",
    "            \n",
    "    operation = HTML(f\"<p style='font-size:24px;'>Update Client</p>\")\n",
    "    fname = Text(placeholder=\"---\", description=\"First Name\")\n",
    "    cid = BoundedIntText(min=-1,max = 9999999999999,step=1, description=\"Client Id\")\n",
    "    lname = Text(placeholder=\"---\", description=\"Last Name\")\n",
    "    age = BoundedIntText(min=0,max = 200, step=1, description=\"Age\")\n",
    "    memberyear = BoundedIntText(min=0, step=1, description=\"Member Year\")\n",
    "    update_button = Button(description=\"Update Client\")\n",
    "    update_button.on_click(put_client)\n",
    "    \n",
    "    create_box = VBox([operation, cid, fname, lname, age, memberyear, update_button])\n",
    "    display(create_box)\n",
    "    \n",
    "    output = Output()\n",
    "    display(output)\n",
    "\n",
    "    \n",
    "display(UpdateClient())"
   ]
  },
  {
   "cell_type": "markdown",
   "id": "4b57a9cd153d7c13",
   "metadata": {},
   "source": [
    "### Employee"
   ]
  },
  {
   "cell_type": "code",
   "execution_count": null,
   "id": "c272a37b9540063a",
   "metadata": {},
   "outputs": [],
   "source": [
    "####################### Create Employee ##########################"
   ]
  },
  {
   "cell_type": "code",
   "execution_count": null,
   "id": "e34ce89bd6f7dad",
   "metadata": {},
   "outputs": [],
   "source": [
    "####################### Delete Employee ##########################"
   ]
  },
  {
   "cell_type": "code",
   "execution_count": null,
   "id": "a9996ef74cd4f02",
   "metadata": {},
   "outputs": [],
   "source": [
    "####################### Update Employee ##########################"
   ]
  },
  {
   "cell_type": "markdown",
   "id": "d47a5a1667990e5b",
   "metadata": {},
   "source": [
    "### Hotel"
   ]
  },
  {
   "cell_type": "code",
   "execution_count": null,
   "id": "e6a277fd7544e054",
   "metadata": {},
   "outputs": [],
   "source": [
    "####################### Create Hotel ##########################\n",
    "def CreateHotel():\n",
    "    def post_hotel(b):\n",
    "        with output:\n",
    "            hotel = Post_Hotel(chid.value, hname.value, hcity.value)\n",
    "            if hotel.status_code == 201:\n",
    "                output.clear_output()\n",
    "                print(\"Hotel created successfully\")\n",
    "                print(\"Hotel Data:\")\n",
    "                print(hotel.json())\n",
    "            elif hotel.status_code == 404:\n",
    "                output.clear_output()\n",
    "                print(\"Chain does not exist\")\n",
    "            else:\n",
    "                output.clear_output()\n",
    "                print(\"Invalid hotel data\")\n",
    "    \n",
    "    operation = HTML(f\"<p style='font-size:24px;'>Create Hotel</p>\")\n",
    "    \n",
    "    chid = BoundedIntText(min=-1,step=1, description=\"Chain Id\")\n",
    "    hname = Text(placeholder=\"---\", description=\"Hotel Name\")\n",
    "    hcity = Text(placeholder=\"---\", description=\"Hotel City\")\n",
    "    create_button = Button(description=\"Create Hotel\")\n",
    "    create_button.on_click(post_hotel)\n",
    "    \n",
    "    create_box = VBox([operation, chid, hname, hcity, create_button])\n",
    "    display(create_box)\n",
    "    \n",
    "    output = Output()\n",
    "    display(output)\n",
    "\n",
    "position = \"\"\n",
    "if position == \"Administrator\":\n",
    "    display(CreateHotel())"
   ]
  },
  {
   "cell_type": "code",
   "execution_count": null,
   "id": "fb7c4efe2252efa3",
   "metadata": {},
   "outputs": [],
   "source": [
    "####################### Delete Hotel ##########################\n",
    "def DeleteHotel():\n",
    "    def delete_hotel(b):\n",
    "        with output:\n",
    "            hotel = Delete_Hotel(hid.value)\n",
    "            if hotel.status_code == 200:\n",
    "                output.clear_output()\n",
    "                print(\"Hotel deleted successfully\")\n",
    "            elif hotel.status_code == 404:\n",
    "                output.clear_output()\n",
    "                print(\"Hotel not found\")\n",
    "            elif hotel.status_code == 400:\n",
    "                output.clear_output()\n",
    "                print(\"Hotel is referenced\")\n",
    "            else:\n",
    "                output.clear_output()\n",
    "                print(\"Delete Failed\")\n",
    "            \n",
    "    operation = HTML(f\"<p style='font-size:24px;'>Delete Hotel</p>\")\n",
    "    \n",
    "    hid = BoundedIntText(min=-1,step=1, description=\"Hotel Id\")\n",
    "    delete_button = Button(description=\"Delete\")\n",
    "    delete_button.on_click(delete_hotel)\n",
    "    \n",
    "    create_box = VBox([operation, hid, delete_button])\n",
    "    display(create_box)\n",
    "    \n",
    "    output = Output()\n",
    "    display(output)\n",
    "\n",
    "position = \"\"\n",
    "if position == \"Administrator\":\n",
    "    display(DeleteHotel())"
   ]
  },
  {
   "cell_type": "code",
   "execution_count": null,
   "id": "1b72220a3b5e78d3",
   "metadata": {},
   "outputs": [],
   "source": [
    "####################### Update Hotel ##########################\n",
    "def UpdateHotel():\n",
    "    def put_hotel(b):\n",
    "        with output:\n",
    "            hotel = Put_Hotel(hid.value, chid.value, hname.value, hcity.value)\n",
    "            if hotel.status_code == 202:\n",
    "                output.clear_output()\n",
    "                print(\"Hotel updated successfully\")\n",
    "                print(\"Hotel Data:\")\n",
    "                print(hotel.json())\n",
    "            elif hotel.status_code == 404:\n",
    "                output.clear_output()\n",
    "                print(\"Hotel or Chain not found\")\n",
    "            else:\n",
    "                output.clear_output()\n",
    "                print(\"Invalid Hotel Data\")\n",
    "            \n",
    "    operation = HTML(f\"<p style='font-size:24px;'>Update Hotel</p>\")\n",
    "    \n",
    "    hid = BoundedIntText(min=-1,step=1, description=\"Hotel Id\")\n",
    "    chid = BoundedIntText(min=-1,step=1, description=\"Chain Id\")\n",
    "    hname = Text(placeholder=\"---\", description=\"Hotel Name\")\n",
    "    hcity = Text(placeholder=\"---\", description=\"Hotel City\")\n",
    "    update_button = Button(description=\"Update Hotel\")\n",
    "    update_button.on_click(put_hotel)\n",
    "    \n",
    "    create_box = VBox([operation, hid, chid, hname, hcity, update_button])\n",
    "    display(create_box)\n",
    "    \n",
    "    output = Output()\n",
    "    display(output)\n",
    "\n",
    "position = \"\"\n",
    "if position == \"Administrator\":\n",
    "    display(UpdateHotel())"
   ]
  },
  {
   "cell_type": "markdown",
   "id": "efbdac1e8a1eb46f",
   "metadata": {},
   "source": [
    "### Login"
   ]
  },
  {
   "cell_type": "code",
   "execution_count": null,
   "id": "1e53d9ad59535b0",
   "metadata": {},
   "outputs": [],
   "source": [
    "####################### Create Login ##########################"
   ]
  },
  {
   "cell_type": "code",
   "execution_count": null,
   "id": "8266e1aa5c8aa6ff",
   "metadata": {},
   "outputs": [],
   "source": [
    "####################### Delete Login ##########################"
   ]
  },
  {
   "cell_type": "code",
   "execution_count": null,
   "id": "adeef79edc970e4f",
   "metadata": {},
   "outputs": [],
   "source": [
    "####################### Update Login ##########################"
   ]
  },
  {
   "cell_type": "markdown",
   "id": "3eebb0da65c1fd94",
   "metadata": {},
   "source": [
    "### Reserve"
   ]
  },
  {
   "cell_type": "code",
   "execution_count": null,
   "id": "e6a07ace7e3996ec",
   "metadata": {},
   "outputs": [],
   "source": [
    "####################### Create Reserve ##########################\n",
    "def CreateReserve():\n",
    "    def post_reserve(b):\n",
    "        output.clear_output()\n",
    "        with output:\n",
    "            reserve = Post_Reserve(eid.value, rid.value, guests.value, startdate.value, enddate.value, clid.value, payment.value)\n",
    "            if reserve.status_code == 201:\n",
    "                output.clear_output()\n",
    "                print(\"Reserve created successfully\")\n",
    "                print(\"Reserve Data:\")\n",
    "                print(reserve.json())\n",
    "            elif reserve.status_code == 404:\n",
    "                output.clear_output()\n",
    "                print(\"Employee or Room not found\")\n",
    "                \n",
    "            else :\n",
    "                output.clear_output()\n",
    "                print(f\"Invalid reserve data {reserve.status_code}\")\n",
    "\n",
    "    operation = HTML(f\"<p style='font-size:24px;'>Create Reserve</p>\")\n",
    "    eid = BoundedIntText(min=-1,max = 5000000,step=1, description=\"Employee Id\")\n",
    "    rid = BoundedIntText(min=-1,max = 5000000,step=1, description=\"Room Id\")\n",
    "    guests = BoundedIntText(min=-1,step=1, description=\"Guests\")\n",
    "    startdate = Text(placeholder=\"---\", description=\"Start Date\")\n",
    "    enddate = Text(placeholder=\"---\", description=\"End Date\")\n",
    "    clid = BoundedIntText(min=-1,step=1, description=\"Client Id\")\n",
    "    payment = Dropdown(options=[\"credit card\",\"debit card\",\"pear day\"], description=\"Payment\")\n",
    "    create_button = Button(description=\"Create Reserve\")\n",
    "    create_button.on_click(post_reserve)\n",
    "    \n",
    "    create_box = VBox([operation, eid, rid, guests, startdate, enddate, clid, payment, create_button])\n",
    "    display(create_box)\n",
    "    \n",
    "    output = Output()\n",
    "    display(output)\n",
    "\n",
    "display(CreateReserve())\n",
    "\n"
   ]
  },
  {
   "cell_type": "code",
   "execution_count": null,
   "id": "f3bd308d31ee7b57",
   "metadata": {},
   "outputs": [],
   "source": [
    "####################### Delete Reserve ##########################\n",
    "def DeleteReserve():\n",
    "    def delete_reserve(b):\n",
    "        with output:\n",
    "            reserve = Delete_Reserve(reid.value)\n",
    "            if reserve.status_code == 200:\n",
    "                output.clear_output()\n",
    "                print(\"Reserve deleted successfully\")\n",
    "            elif reserve.status_code == 404:\n",
    "                output.clear_output()\n",
    "                print(\"Reserve not found\")\n",
    "            elif reserve.status_code == 400:\n",
    "                output.clear_output()\n",
    "                print(\"Reserve is referenced\")\n",
    "            else:\n",
    "                output.clear_output()\n",
    "                print(\"Delete Failed\")\n",
    "                \n",
    "    operation = HTML(f\"<p style='font-size:24px;'>Delete Reserve</p>\")\n",
    "    reid = BoundedIntText(min=-1,max=5000000,step=1, description=\"Reserve Id\")\n",
    "    delete_reserve_button = Button(description=\"Delete Reserve\")\n",
    "    delete_reserve_button.on_click(delete_reserve)\n",
    "    \n",
    "    create_box = VBox([operation, reid, delete_reserve_button])\n",
    "    display(create_box)\n",
    "    \n",
    "    output = Output()\n",
    "    display(output)\n",
    "    \n",
    "display(DeleteReserve())"
   ]
  },
  {
   "cell_type": "code",
   "execution_count": null,
   "id": "e86a461c3f87cee",
   "metadata": {},
   "outputs": [],
   "source": [
    "####################### Update Reserve ##########################\n",
    "def UpdateReserve():\n",
    "    def put_reserve(b):\n",
    "        with output:\n",
    "            reserve = Put_Reserve(eid.value,reid.value,rid.value,guests.value,startdate.value,enddate.value,clid.value,payment.value)\n",
    "            if reserve.status_code == 201:\n",
    "                output.clear_output()\n",
    "                print(\"Reserve updated successfully\")\n",
    "                print(\"Reserve Data:\")\n",
    "                print(reserve.json())\n",
    "            elif reserve.status_code == 404:\n",
    "                output.clear_output()\n",
    "                print(\"Reserve or Employee not found\")\n",
    "            else:\n",
    "                output.clear_output()\n",
    "                print(\"Invalid Reserve Data\")\n",
    "            \n",
    "    operation = HTML(f\"<p style='font-size:24px;'>Update Reserve</p>\")\n",
    "    reid = BoundedIntText(min=-1,max=5000000,step=1, description=\"Reserve Id\")\n",
    "    eid = BoundedIntText(min=-1,max = 5000000,step=1, description=\"Employee Id\")\n",
    "    rid = BoundedIntText(min=-1,max = 5000000,step=1, description=\"Room Id\")\n",
    "    guests = BoundedIntText(min=-1,step=1, description=\"Guests\")\n",
    "    startdate = Text(description=\"Start Date\")\n",
    "    enddate = Text(description=\"End Date\")\n",
    "    clid = BoundedIntText(min=-1,step=1, description=\"Client Id\")\n",
    "    payment = Dropdown(options=[\"cash\",\"credit card\", \"debit card\", \"pear day\",], description=\"Payment\")\n",
    "\n",
    "    update_button = Button(description=\"Update Reserve\")\n",
    "    update_button.on_click(put_reserve)\n",
    "    \n",
    "    create_box = VBox([operation, eid,reid, rid, guests, startdate, enddate, clid, payment, update_button])\n",
    "    display(create_box)\n",
    "    \n",
    "    output = Output()\n",
    "    display(output)\n",
    "\n",
    "display(UpdateReserve())"
   ]
  },
  {
   "cell_type": "markdown",
   "id": "2fd8e3dd00d6019",
   "metadata": {},
   "source": [
    "### Room"
   ]
  },
  {
   "cell_type": "code",
   "execution_count": null,
   "id": "2b12b8eda042e812",
   "metadata": {},
   "outputs": [],
   "source": [
    "####################### Create Room ##########################"
   ]
  },
  {
   "cell_type": "code",
   "execution_count": null,
   "id": "364827e918e96f29",
   "metadata": {},
   "outputs": [],
   "source": [
    "####################### Delete Room ##########################"
   ]
  },
  {
   "cell_type": "code",
   "execution_count": null,
   "id": "f588d513133a183e",
   "metadata": {},
   "outputs": [],
   "source": [
    "####################### Update Room ##########################"
   ]
  },
  {
   "cell_type": "markdown",
   "id": "7e17685b1a4054c6",
   "metadata": {},
   "source": [
    "### Roomdescription"
   ]
  },
  {
   "cell_type": "code",
   "execution_count": null,
   "id": "38e5ce1696281e0",
   "metadata": {},
   "outputs": [],
   "source": [
    "#######################  Create Roomdescription ##########################"
   ]
  },
  {
   "cell_type": "code",
   "execution_count": null,
   "id": "f4cd6ee80dabaea3",
   "metadata": {},
   "outputs": [],
   "source": [
    "#######################  Delete Roomdescription ##########################"
   ]
  },
  {
   "cell_type": "code",
   "execution_count": null,
   "id": "68c163414ac829f4",
   "metadata": {},
   "outputs": [],
   "source": [
    "#######################  Update Roomdescription ##########################"
   ]
  },
  {
   "cell_type": "markdown",
   "id": "f9cba06ac35395b8",
   "metadata": {},
   "source": [
    "### Roomunavailable"
   ]
  },
  {
   "cell_type": "code",
   "execution_count": null,
   "id": "f323d90fb629ba14",
   "metadata": {},
   "outputs": [],
   "source": [
    "####################### Create Roomunavailable ##########################"
   ]
  },
  {
   "cell_type": "code",
   "execution_count": null,
   "id": "5c5ce6b7603b35e8",
   "metadata": {},
   "outputs": [],
   "source": [
    "####################### Delete Roomunavailable ##########################"
   ]
  },
  {
   "cell_type": "code",
   "execution_count": null,
   "id": "50fb92ae6da9290d",
   "metadata": {},
   "outputs": [],
   "source": [
    "####################### Update Roomunavailable ##########################"
   ]
  },
  {
   "cell_type": "markdown",
   "id": "f999343408adb966",
   "metadata": {},
   "source": [
    "## Globales"
   ]
  },
  {
   "cell_type": "code",
   "execution_count": null,
   "id": "ed807fb86eb310f3",
   "metadata": {},
   "outputs": [],
   "source": [
    "####################### /most/revenue ##########################\n",
    "def MostRevenue(id):\n",
    "    items = see_mostrevenue(id)\n",
    "    if not items:\n",
    "        print(\"No position\")\n",
    "    else:\n",
    "        datas = items.json()['Most_Revenues']\n",
    "        \n",
    "        # ** x axis values\n",
    "        x = [str(x['chid']) for x in datas]\n",
    "        # ** y axis values\n",
    "        y = [float(y['total revenue']) for y in datas]\n",
    "            \n",
    "        # ** creating the bar plot\n",
    "        plt.bar(x, y, color='black', bottom=0)\n",
    "            \n",
    "        plt.ylim(0, max(y) + min(y))\n",
    "            \n",
    "        # ** naming the x-axis\n",
    "        plt.xlabel('x - axis = Chains')\n",
    "        # ** naming the y-axis\n",
    "        plt.ylabel('y - axis = Total Revenues in millions')\n",
    "            \n",
    "        # ** giving a title to my graph\n",
    "        plt.title('Top 3 chains with the highest total revenue')\n",
    "            \n",
    "        # ** Tight layout to avoid overlap\n",
    "        plt.tight_layout()\n",
    "            \n",
    "        # ** function to show the plot\n",
    "        plt.show()\n",
    "        \n",
    "        # ** See data\n",
    "        json_str = json.dumps(datas, indent=2)\n",
    "        lines = json_str.split('\\n')\n",
    "        for line in lines:\n",
    "            print(line)\n",
    "id = 2\n",
    "display(MostRevenue(id))"
   ]
  },
  {
   "cell_type": "code",
   "execution_count": null,
   "id": "664f159d1bcbd341",
   "metadata": {},
   "outputs": [],
   "source": [
    "####################### /paymentmethod ##########################\n",
    "def PaymentMethod(id):\n",
    "    items = see_paymentmethod(id)\n",
    "    if not items:\n",
    "        print(\"No position\")\n",
    "    else:\n",
    "        datas = items.json()['Payment_Method_Percentage']\n",
    "            \n",
    "        # ** x axis values\n",
    "        x = [str(method['paymentmethod']) for method in datas]\n",
    "        # ** y axis values\n",
    "        y = [float(percentage['reservation percentage']) for percentage in datas]\n",
    "            \n",
    "        # ** creating the bar plot\n",
    "        plt.bar(x, y, color='black')\n",
    "            \n",
    "        plt.ylim(0, max(y)+5)\n",
    "            \n",
    "        # ** naming the x-axis\n",
    "        plt.xlabel('x - axis = Payment Method')\n",
    "        # ** naming the y-axis\n",
    "        plt.ylabel('y - axis = Reservation Percentage')\n",
    "            \n",
    "        # ** giving a title to my graph\n",
    "        plt.title('Total reservation percentage by payment method')\n",
    "            \n",
    "        # ** Tight layout to avoid overlap\n",
    "        plt.tight_layout()\n",
    "            \n",
    "        # ** function to show the plot\n",
    "        plt.show()\n",
    "        \n",
    "        # ** See data\n",
    "        json_str = json.dumps(datas, indent=2)\n",
    "        lines = json_str.split('\\n')\n",
    "        for line in lines:\n",
    "            print(line)\n",
    "\n",
    "id = 2   \n",
    "display(PaymentMethod(id))"
   ]
  },
  {
   "cell_type": "code",
   "execution_count": null,
   "id": "797e6c03199e3227",
   "metadata": {},
   "outputs": [],
   "source": [
    "####################### /least/rooms ##########################"
   ]
  },
  {
   "cell_type": "code",
   "execution_count": null,
   "id": "c982a69c1bafa993",
   "metadata": {},
   "outputs": [],
   "source": [
    "####################### /most/capacity ##########################"
   ]
  },
  {
   "cell_type": "code",
   "execution_count": null,
   "id": "7d0632830eecc700",
   "metadata": {},
   "outputs": [],
   "source": [
    "####################### /most/reservation ##########################"
   ]
  },
  {
   "cell_type": "code",
   "execution_count": null,
   "id": "c9c22352f88b8f1b",
   "metadata": {},
   "outputs": [],
   "source": [
    "####################### /most/profitmonth ##########################"
   ]
  },
  {
   "cell_type": "markdown",
   "id": "3952da3e6824b88e",
   "metadata": {},
   "source": [
    "## Locales"
   ]
  },
  {
   "cell_type": "code",
   "execution_count": null,
   "id": "a63c39e7d16205e4",
   "metadata": {},
   "outputs": [],
   "source": [
    "####################### handicaproom ##########################"
   ]
  },
  {
   "cell_type": "code",
   "execution_count": null,
   "id": "4d5fbb3a7eed338b",
   "metadata": {},
   "outputs": [],
   "source": [
    "####################### leastreserve ##########################"
   ]
  },
  {
   "cell_type": "code",
   "execution_count": null,
   "id": "75aae0c97c8fdb6b",
   "metadata": {},
   "outputs": [],
   "source": [
    "####################### mostcreditcard ##########################"
   ]
  },
  {
   "cell_type": "code",
   "execution_count": null,
   "id": "2ee6354f881c5a8d",
   "metadata": {},
   "outputs": [],
   "source": [
    "####################### highestpaid ##########################"
   ]
  },
  {
   "cell_type": "code",
   "execution_count": null,
   "id": "c6a78c80bcb5c34e",
   "metadata": {},
   "outputs": [],
   "source": [
    "####################### mostdiscount ##########################"
   ]
  },
  {
   "cell_type": "code",
   "execution_count": null,
   "id": "ef3bce23ec633d74",
   "metadata": {},
   "outputs": [],
   "source": [
    "####################### roomtype ##########################\n",
    "def RoomType(id):\n",
    "    def graph():\n",
    "        items = see_roomtype(hid.value)\n",
    "        datas = items.json()['Total_Hotel_Reserves']\n",
    "        \n",
    "        x = [str(types['room type']) for types in datas]\n",
    "        y = [int(reserves['total reserves']) for reserves in datas]\n",
    "        \n",
    "        plt.bar(x, y, color='black')\n",
    "        \n",
    "        plt.ylim(0, max(y)+5)\n",
    "        \n",
    "        plt.xlabel('x - axis = Room Types')\n",
    "        plt.ylabel('y - axis = Total Reserves')\n",
    "        plt.title('Total reservation by room type')\n",
    "        plt.show()\n",
    "        \n",
    "        # ** See data\n",
    "        json_str = json.dumps(datas, indent=2)\n",
    "        lines = json_str.split('\\n')\n",
    "        for line in lines:\n",
    "            print(line)\n",
    "\n",
    "    def see_button(b):\n",
    "        with output:\n",
    "            roomtypes = see_roomtype(hid.value)\n",
    "            if roomtypes.status_code == 200:\n",
    "                output.clear_output()\n",
    "                graph()\n",
    "            elif roomtypes.status_code == 404:\n",
    "                output.clear_output()\n",
    "                print(\"Hotel ID invalid\")\n",
    "            elif roomtypes.status_code == 400:\n",
    "                output.clear_output()\n",
    "                print(\"Invalid Data\")\n",
    "            else:\n",
    "                output.clear_output()\n",
    "                print(\"Error\")\n",
    "\n",
    "    hid = BoundedIntText(min=-1,step=1, description=\"Hotel ID\")\n",
    "    # hidselect = widgets.Select(options=)\n",
    "    see_roomtype_button = Button(description=\"See Room Types\")\n",
    "    see_roomtype_button.on_click(see_button)\n",
    "    \n",
    "    create_box = VBox([hid, see_roomtype_button])\n",
    "    display(create_box)\n",
    "    \n",
    "    output = Output()\n",
    "    display(output)"
   ]
  },
  {
   "cell_type": "code",
   "execution_count": null,
   "id": "63bf5936b51c09ba",
   "metadata": {},
   "outputs": [],
   "source": [
    "####################### leastguests ##########################"
   ]
  }
 ],
 "metadata": {
  "kernelspec": {
   "display_name": "Python 3 (ipykernel)",
   "language": "python",
   "name": "python3"
  },
  "language_info": {
   "codemirror_mode": {
    "name": "ipython",
    "version": 3
   },
   "file_extension": ".py",
   "mimetype": "text/x-python",
   "name": "python",
   "nbconvert_exporter": "python",
   "pygments_lexer": "ipython3",
   "version": "3.12.2"
  }
 },
 "nbformat": 4,
 "nbformat_minor": 5
}
