{
 "cells": [
  {
   "metadata": {
    "ExecuteTime": {
     "end_time": "2024-04-26T23:44:06.215142Z",
     "start_time": "2024-04-26T23:44:06.106111Z"
    }
   },
   "cell_type": "code",
   "source": [
    "from IPython.core.display_functions import clear_output\n",
    "import ipywidgets as widgets\n",
    "from IPython.display import display\n",
    "import requests"
   ],
   "id": "ba08bb17f4a88585",
   "outputs": [],
   "execution_count": 1
  },
  {
   "metadata": {
    "ExecuteTime": {
     "end_time": "2024-04-26T23:44:06.222039Z",
     "start_time": "2024-04-26T23:44:06.216149Z"
    }
   },
   "cell_type": "code",
   "source": [
    "header_text = widgets.HTML(\"<h1 style='text-align: center; color: white; background-color: #333; width: 100%; margin: 0; padding: 15px 0;'>Hotel Analytics Systems by DB Beasts</h1>\")\n",
    "display(header_text)"
   ],
   "id": "fe513dae7343f7f5",
   "outputs": [
    {
     "data": {
      "text/plain": [
       "HTML(value=\"<h1 style='text-align: center; color: white; background-color: #333; width: 100%; margin: 0; paddi…"
      ],
      "application/vnd.jupyter.widget-view+json": {
       "version_major": 2,
       "version_minor": 0,
       "model_id": "33d8233944a84798be099a569327eb4f"
      }
     },
     "metadata": {},
     "output_type": "display_data"
    }
   ],
   "execution_count": 2
  },
  {
   "metadata": {
    "ExecuteTime": {
     "end_time": "2024-04-26T23:44:06.225557Z",
     "start_time": "2024-04-26T23:44:06.223045Z"
    }
   },
   "cell_type": "code",
   "source": [
    "def Check_Login(username, password):\n",
    "    flask_url = \"https://db-beasts-7827ce232282.herokuapp.com/db-beasts/login/voila\"\n",
    "    # flask_url = \"http://127.0.0.1:5000/db-beasts/login/voila\"\n",
    "    credentials = {'username': username, 'password': password}\n",
    "    response = requests.post(flask_url, json=credentials)\n",
    "    return response"
   ],
   "id": "b4cbf46512796b91",
   "outputs": [],
   "execution_count": 3
  },
  {
   "metadata": {
    "ExecuteTime": {
     "end_time": "2024-04-26T23:44:06.228993Z",
     "start_time": "2024-04-26T23:44:06.225557Z"
    }
   },
   "cell_type": "code",
   "source": [
    "def Check_Employee(eid, fname, lastname):\n",
    "    flask_url = \"http://127.0.0.1:5000/db-beasts/employee/voila\"\n",
    "    data = {'eid': eid, 'fname': fname, 'lname': lastname}\n",
    "    response = requests.post(flask_url, json=data)\n",
    "    return response"
   ],
   "id": "3006711f5e78d1eb",
   "outputs": [],
   "execution_count": 4
  },
  {
   "metadata": {
    "ExecuteTime": {
     "end_time": "2024-04-26T23:44:06.232486Z",
     "start_time": "2024-04-26T23:44:06.229999Z"
    }
   },
   "cell_type": "code",
   "source": [
    "def Post_Login(eid, username, password):\n",
    "    flask_url = \"http://127.0.0.1:5000/db-beasts/login\"\n",
    "    data = {'eid': eid, 'username': username, 'password': password}\n",
    "    response = requests.post(flask_url, json=data)\n",
    "    return response"
   ],
   "id": "2419ffc76d4ee066",
   "outputs": [],
   "execution_count": 5
  },
  {
   "metadata": {
    "ExecuteTime": {
     "end_time": "2024-04-26T23:44:06.236363Z",
     "start_time": "2024-04-26T23:44:06.232486Z"
    }
   },
   "cell_type": "code",
   "source": [
    "# ** Switch between log in and sign in input credentials\n",
    "def change_view1(button):\n",
    "    with output:\n",
    "        clear_output()\n",
    "        if button.description == 'Sign Up':\n",
    "            button.description = 'Log In'\n",
    "            login_box.children = [employee_id, first_name, last_name, username, password, sign_up_button]\n",
    "        else:\n",
    "            button.description = 'Sign Up'\n",
    "            login_box.children = [username, password, login_button]\n",
    "            \n",
    "def change_view2(button):\n",
    "    with output:\n",
    "        clear_output()\n",
    "        login_box.children = [username, password, login_button]\n",
    "        toggle_button.description = 'Sign Up'\n",
    "        toggle_button.layout.visibility = 'visible'"
   ],
   "id": "9a9b9e9d78b06018",
   "outputs": [],
   "execution_count": 6
  },
  {
   "metadata": {
    "ExecuteTime": {
     "end_time": "2024-04-26T23:44:06.241064Z",
     "start_time": "2024-04-26T23:44:06.236363Z"
    }
   },
   "cell_type": "code",
   "source": [
    "# ** Login Credentials\n",
    "def login(button):\n",
    "    # ** Login Logic\n",
    "    with output:\n",
    "        response = Check_Login(username.value, password.value)\n",
    "        if response.status_code == 200:  # Check if the request was successful\n",
    "            clear_output()\n",
    "            print(f\"Login successful, Welcome!\")\n",
    "            login_box.children = [username, password, logout_button]\n",
    "            toggle_button.layout.visibility = 'hidden'\n",
    "        else:\n",
    "            clear_output()\n",
    "            print(f\"Login failed. Please try again. username: {username.value}, password: {password.value}\")\n",
    "\n",
    "# ** Signup Credentials\n",
    "def signup(button):\n",
    "    # ** Signup Logic\n",
    "    with output:\n",
    "        employee = Check_Employee(employee_id.value, first_name.value, last_name.value)\n",
    "        if employee.status_code == 200:\n",
    "            post_login = Post_Login(employee_id.value, username.value, password.value)\n",
    "            if post_login.status_code == 201:\n",
    "                clear_output()\n",
    "                print(f\"Sign up successful, Welcome!\")\n",
    "                login_box.children = [username, password, logout_button]\n",
    "                toggle_button.layout.visibility = 'hidden'\n",
    "            elif post_login.status_code == 400:\n",
    "                clear_output()\n",
    "                print(f\"Employee have account\")\n",
    "            else:\n",
    "                clear_output()\n",
    "                print(f\"Username exist.\")\n",
    "        else:\n",
    "            clear_output()\n",
    "            print(f\"Employee does not exist. {employee_id.value}, {first_name.value}, {last_name.value}\")"
   ],
   "id": "a72a3448678deff4",
   "outputs": [],
   "execution_count": 7
  },
  {
   "metadata": {
    "ExecuteTime": {
     "end_time": "2024-04-26T23:44:06.250794Z",
     "start_time": "2024-04-26T23:44:06.241064Z"
    }
   },
   "cell_type": "code",
   "source": [
    "# ** Login Widgets\n",
    "username = widgets.Text(placeholder='Username')\n",
    "password = widgets.Password(placeholder='Password')\n",
    "login_button = widgets.Button(description=\"Log In\")\n",
    "login_button.on_click(login)\n",
    "\n",
    "# ** Sigin Widgets\n",
    "employee_id = widgets.Text(placeholder='Employee ID')\n",
    "first_name = widgets.Text(placeholder='First Name')\n",
    "last_name = widgets.Text(placeholder='Last Name')\n",
    "sign_up_button = widgets.Button(description=\"Sign Up\")\n",
    "sign_up_button.on_click(signup)\n",
    "\n",
    "logout_button = widgets.Button(description=\"Log Out\")\n",
    "logout_button.on_click(change_view2)"
   ],
   "id": "2d87ebb77602ea0a",
   "outputs": [],
   "execution_count": 8
  },
  {
   "metadata": {},
   "cell_type": "code",
   "source": [
    "# ** Initial State\n",
    "login_box = widgets.VBox([username, password, login_button])\n",
    "\n",
    "# ** Switch between log in and sign in credentials\n",
    "toggle_button = widgets.Button(description=\"Sign Up\")\n",
    "toggle_button.on_click(change_view1)"
   ],
   "id": "84b8f5110853b6ac",
   "outputs": [],
   "execution_count": 9
  },
  {
   "metadata": {
    "ExecuteTime": {
     "end_time": "2024-04-26T23:44:06.265413Z",
     "start_time": "2024-04-26T23:44:06.258784Z"
    }
   },
   "cell_type": "code",
   "source": [
    "output = widgets.Output()\n",
    "display(output)\n",
    "\n",
    "display(login_box)\n",
    "display(toggle_button)"
   ],
   "id": "a88fc7576d1dd0c3",
   "outputs": [
    {
     "data": {
      "text/plain": [
       "Output()"
      ],
      "application/vnd.jupyter.widget-view+json": {
       "version_major": 2,
       "version_minor": 0,
       "model_id": "cf382c355b004d629d4f398624270e71"
      }
     },
     "metadata": {},
     "output_type": "display_data"
    },
    {
     "data": {
      "text/plain": [
       "VBox(children=(Text(value='', placeholder='Username'), Password(placeholder='Password'), Button(description='L…"
      ],
      "application/vnd.jupyter.widget-view+json": {
       "version_major": 2,
       "version_minor": 0,
       "model_id": "566d0077730c47c286a068005fdc93f5"
      }
     },
     "metadata": {},
     "output_type": "display_data"
    },
    {
     "data": {
      "text/plain": [
       "Button(description='Sign Up', style=ButtonStyle())"
      ],
      "application/vnd.jupyter.widget-view+json": {
       "version_major": 2,
       "version_minor": 0,
       "model_id": "1e058e6760844734bb2436fe55865ad5"
      }
     },
     "metadata": {},
     "output_type": "display_data"
    }
   ],
   "execution_count": 11
  },
  {
   "metadata": {},
   "cell_type": "code",
   "outputs": [],
   "execution_count": 10,
   "source": [
    "# def createchains():\n",
    "#     with output:\n",
    "#         %run notebooks/crud/chains/createchain.ipynb\n",
    "# createchains()"
   ],
   "id": "initial_id"
  }
 ],
 "metadata": {
  "kernelspec": {
   "display_name": "Python 3",
   "language": "python",
   "name": "python3"
  },
  "language_info": {
   "codemirror_mode": {
    "name": "ipython",
    "version": 2
   },
   "file_extension": ".py",
   "mimetype": "text/x-python",
   "name": "python",
   "nbconvert_exporter": "python",
   "pygments_lexer": "ipython2",
   "version": "2.7.6"
  }
 },
 "nbformat": 4,
 "nbformat_minor": 5
}
