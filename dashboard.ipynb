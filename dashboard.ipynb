{
 "cells": [
  {
   "metadata": {
    "ExecuteTime": {
     "end_time": "2024-05-08T07:27:59.768006Z",
     "start_time": "2024-05-08T07:27:59.639739Z"
    }
   },
   "cell_type": "code",
   "source": [
    "from IPython.core.display_functions import clear_output\n",
    "import ipywidgets as widgets\n",
    "from IPython.display import display\n",
    "\n",
    "from dashboard_requests import *"
   ],
   "id": "ba08bb17f4a88585",
   "outputs": [],
   "execution_count": 1
  },
  {
   "metadata": {
    "ExecuteTime": {
     "end_time": "2024-05-08T07:27:59.779163Z",
     "start_time": "2024-05-08T07:27:59.774163Z"
    }
   },
   "cell_type": "code",
   "source": [
    "def CreateChain():\n",
    "    with output1:\n",
    "        %run notebooks/crud/chains/createchain.ipynb\n",
    "    # response = widgets.HTML(value='')\n",
    "    # return response\n",
    "\n",
    "def UpdateChain():\n",
    "    %run notebooks/crud/chains/updatechain.ipynb\n",
    "    # response = widgets.HTML(value='')\n",
    "    # return response\n",
    "\n",
    "def CreateHotel():\n",
    "    %run notebooks/crud/hotel/createhotel.ipynb\n",
    "    # response = widgets.HTML(value='')\n",
    "    # return response\n",
    "\n",
    "def UpdateHotel():\n",
    "    %run notebooks/crud/hotel/updatehotel.ipynb\n",
    "    # response = widgets.HTML(value='')\n",
    "    # return response"
   ],
   "id": "6267f0c330cd1204",
   "outputs": [],
   "execution_count": 3
  },
  {
   "metadata": {
    "ExecuteTime": {
     "end_time": "2024-05-08T07:27:59.784308Z",
     "start_time": "2024-05-08T07:27:59.780165Z"
    }
   },
   "cell_type": "code",
   "source": [
    "# ** Switch between log in and sign in input credentials\n",
    "def change_view1(button):\n",
    "    with output:\n",
    "        clear_output()\n",
    "        if button.description == 'Sign Up':\n",
    "            button.description = 'Log In'\n",
    "            login_box.children = [employee_id, first_name, last_name, username, password, sign_up_button]\n",
    "        else:\n",
    "            button.description = 'Sign Up'\n",
    "            login_box.children = [username, password, login_button]\n",
    "            \n",
    "def change_view2(button):\n",
    "    with output:\n",
    "        clear_output()\n",
    "        login_box.children = [username, password, login_button]\n",
    "        toggle_button.description = 'Sign Up'\n",
    "        toggle_button.layout.visibility = 'visible'\n",
    "        access.disabled = True\n",
    "        with output1: clear_output()"
   ],
   "id": "9a9b9e9d78b06018",
   "outputs": [],
   "execution_count": 4
  },
  {
   "metadata": {
    "ExecuteTime": {
     "end_time": "2024-05-08T07:27:59.790537Z",
     "start_time": "2024-05-08T07:27:59.785302Z"
    }
   },
   "cell_type": "code",
   "source": [
    "# ** Login Credentials\n",
    "def login(button):\n",
    "    # ** Login Logic\n",
    "    with output:\n",
    "        response = Check_Login(username.value, password.value)\n",
    "        if response.status_code == 200:  # Check if the request was successful\n",
    "            clear_output()\n",
    "            print(f\"Login successful.\")\n",
    "            login_box.children = [username, password, logout_button]\n",
    "            toggle_button.layout.visibility = 'hidden'\n",
    "            access(response)\n",
    "        else:\n",
    "            clear_output()\n",
    "            print(f\"Login failed. Please try again. username: {username.value}, password: {password.value}\")\n",
    "\n",
    "# ** Signup Credentials\n",
    "def signup(button):\n",
    "    # ** Signup Logic\n",
    "    with output:\n",
    "        employee = Check_Employee(employee_id.value, first_name.value, last_name.value)\n",
    "        if employee.status_code == 200:\n",
    "            post_login = Post_Login(employee_id.value, username.value, password.value)\n",
    "            if post_login.status_code == 201:\n",
    "                clear_output()\n",
    "                print(f\"Sign up successful, Welcome!\")\n",
    "                login_box.children = [username, password, logout_button]\n",
    "                toggle_button.layout.visibility = 'hidden'\n",
    "            elif post_login.status_code == 400:\n",
    "                clear_output()\n",
    "                print(f\"Employee have account\")\n",
    "            else:\n",
    "                clear_output()\n",
    "                print(f\"Username exist.\")\n",
    "        else:\n",
    "            clear_output()\n",
    "            print(f\"Employee does not exist. {employee_id.value}, {first_name.value}, {last_name.value}\")"
   ],
   "id": "a72a3448678deff4",
   "outputs": [],
   "execution_count": 5
  },
  {
   "metadata": {
    "ExecuteTime": {
     "end_time": "2024-05-08T07:27:59.801905Z",
     "start_time": "2024-05-08T07:27:59.790537Z"
    }
   },
   "cell_type": "code",
   "source": [
    "# ** Login Widgets\n",
    "username = widgets.Text(placeholder=\"---\", description='Username')\n",
    "password = widgets.Password(placeholder=\"---\", description='Password')\n",
    "login_button = widgets.Button(description=\"Log In\")\n",
    "login_button.on_click(login)\n",
    "\n",
    "# ** Sigin Widgets\n",
    "employee_id = widgets.Text(placeholder=\"---\", description='Employee ID')\n",
    "first_name = widgets.Text(placeholder=\"---\", description='First Name')\n",
    "last_name = widgets.Text(placeholder=\"---\", description='Last Name')\n",
    "sign_up_button = widgets.Button(description=\"Sign Up\")\n",
    "sign_up_button.on_click(signup)\n",
    "\n",
    "logout_button = widgets.Button(description=\"Log Out\")\n",
    "logout_button.on_click(change_view2)"
   ],
   "id": "2d87ebb77602ea0a",
   "outputs": [],
   "execution_count": 6
  },
  {
   "metadata": {},
   "cell_type": "code",
   "source": [
    "# ** Initial State\n",
    "login_box = widgets.VBox([username, password, login_button])\n",
    "\n",
    "# ** Switch between log in and sign in credentials\n",
    "toggle_button = widgets.Button(description=\"Sign Up\")\n",
    "toggle_button.on_click(change_view1)"
   ],
   "id": "84b8f5110853b6ac",
   "outputs": [],
   "execution_count": 7
  },
  {
   "metadata": {},
   "cell_type": "code",
   "source": [
    "def access(logins):\n",
    "    # with output:\n",
    "        with output1:\n",
    "            clear_output()\n",
    "            eid = logins.json()['Login']['eid']\n",
    "            employee = Get_Employee(eid).json()['Employee']\n",
    "            fname = employee['fname']\n",
    "            lname = employee['lname']\n",
    "            # print(employee)\n",
    "            welcome = widgets.HTML(f\"<p style='font-size:24px;'>Welcome {fname} {lname}!</p>\")\n",
    "            display(welcome)\n",
    "            position = employee['position']\n",
    "            # access_box = widgets.VBox([])\n",
    "            if position == 'Regular':\n",
    "                pass\n",
    "            elif position == 'Supervisor':\n",
    "                pass\n",
    "            elif position == 'Administrator':\n",
    "                accessAdministrator()\n",
    "            #     createchain = CreateChain()\n",
    "            #     updatechain = UpdateChain()\n",
    "            #     createhotel = CreateHotel()\n",
    "            #     updatehotel = UpdateHotel()\n",
    "            #     access_box.children = [createchain, updatechain, createhotel, updatehotel]\n",
    "            #     \n",
    "            # display(access_box)\n",
    "        "
   ],
   "id": "1b647961800e8e1d",
   "outputs": [],
   "execution_count": 8
  },
  {
   "metadata": {},
   "cell_type": "code",
   "outputs": [],
   "execution_count": 2,
   "source": [
    "header_text = widgets.HTML(\"<h1 style='text-align: center; color: white; background-color: #333; width: 100%; margin: 0; \"\n",
    "                           \"padding: 15px 0;'>Hotel Analytics Systems by DB Beasts</h1>\"\n",
    "                           \"<h1 style='text-align: center; color: white; background-color: #333; width: 100%; margin: 0; \"\n",
    "                           \"padding: 15px 0;'>FRONTEND</h1>\")"
   ],
   "id": "fe513dae7343f7f5"
  },
  {
   "metadata": {},
   "cell_type": "code",
   "source": "display(header_text)",
   "id": "d5e6c1bde17f1606",
   "outputs": [
    {
     "data": {
      "text/plain": [
       "HTML(value=\"<h1 style='text-align: center; color: white; background-color: #333; width: 100%; margin: 0; paddi…"
      ],
      "application/vnd.jupyter.widget-view+json": {
       "version_major": 2,
       "version_minor": 0,
       "model_id": "ff1a9acf28cc46128620d098ce419db5"
      }
     },
     "metadata": {},
     "output_type": "display_data"
    }
   ],
   "execution_count": 9
  },
  {
   "metadata": {
    "ExecuteTime": {
     "end_time": "2024-05-08T07:27:59.823650Z",
     "start_time": "2024-05-08T07:27:59.819437Z"
    }
   },
   "cell_type": "code",
   "source": [
    "output = widgets.Output()\n",
    "display(output)"
   ],
   "id": "b4eddcb175e997b3",
   "outputs": [
    {
     "data": {
      "text/plain": [
       "Output()"
      ],
      "application/vnd.jupyter.widget-view+json": {
       "version_major": 2,
       "version_minor": 0,
       "model_id": "f83b33e177f44ad991735e8ece031b0e"
      }
     },
     "metadata": {},
     "output_type": "display_data"
    }
   ],
   "execution_count": 10
  },
  {
   "metadata": {
    "ExecuteTime": {
     "end_time": "2024-05-08T07:27:59.829642Z",
     "start_time": "2024-05-08T07:27:59.824643Z"
    }
   },
   "cell_type": "code",
   "source": [
    "display(login_box)\n",
    "display(toggle_button)"
   ],
   "id": "a88fc7576d1dd0c3",
   "outputs": [
    {
     "data": {
      "text/plain": [
       "VBox(children=(Text(value='', description='Username', placeholder='---'), Password(description='Password', pla…"
      ],
      "application/vnd.jupyter.widget-view+json": {
       "version_major": 2,
       "version_minor": 0,
       "model_id": "bd0f875ce6e14118b12e0a4d4cfe2847"
      }
     },
     "metadata": {},
     "output_type": "display_data"
    },
    {
     "data": {
      "text/plain": [
       "Button(description='Sign Up', style=ButtonStyle())"
      ],
      "application/vnd.jupyter.widget-view+json": {
       "version_major": 2,
       "version_minor": 0,
       "model_id": "239529fb8d3740839fb07db94a607e84"
      }
     },
     "metadata": {},
     "output_type": "display_data"
    }
   ],
   "execution_count": 11
  },
  {
   "metadata": {
    "ExecuteTime": {
     "end_time": "2024-05-08T07:27:59.833841Z",
     "start_time": "2024-05-08T07:27:59.830643Z"
    }
   },
   "cell_type": "code",
   "source": [
    "# intento = \"\"\"\n",
    "# <html>\n",
    "# <head>\n",
    "# <title>Font Awesome Icons</title>\n",
    "# <meta name=\"viewport\" content=\"width=device-width, initial-scale=1\">\n",
    "# <link rel=\"stylesheet\" href=\"https://cdnjs.cloudflare.com/ajax/libs/font-awesome/4.7.0/css/font-awesome.min.css\">\n",
    "# </head>\n",
    "# <body>\n",
    "# \n",
    "# <p>Loading:</p>\n",
    "# <i class=\"fa fa-spinner fa-spin\" style=\"font-size:24px\"></i>\n",
    "# \n",
    "# </body>\n",
    "# </html> \n",
    "# \"\"\"\n",
    "# \n",
    "# display(HTML(intento))"
   ],
   "id": "64ec8ed7d40d6071",
   "outputs": [
    {
     "data": {
      "text/plain": [
       "<IPython.core.display.HTML object>"
      ],
      "text/html": [
       "\n",
       "<html>\n",
       "<head>\n",
       "<title>Font Awesome Icons</title>\n",
       "<meta name=\"viewport\" content=\"width=device-width, initial-scale=1\">\n",
       "<link rel=\"stylesheet\" href=\"https://cdnjs.cloudflare.com/ajax/libs/font-awesome/4.7.0/css/font-awesome.min.css\">\n",
       "</head>\n",
       "<body>\n",
       "\n",
       "<p>Loading:</p>\n",
       "<i class=\"fa fa-spinner fa-spin\" style=\"font-size:24px\"></i>\n",
       "\n",
       "</body>\n",
       "</html> \n"
      ]
     },
     "metadata": {},
     "output_type": "display_data"
    }
   ],
   "execution_count": 12
  },
  {
   "metadata": {
    "ExecuteTime": {
     "end_time": "2024-05-08T07:27:59.852968Z",
     "start_time": "2024-05-08T07:27:59.833841Z"
    }
   },
   "cell_type": "code",
   "source": [
    "# output2 = widgets.Output()\n",
    "# \n",
    "# with output2:\n",
    "#     file = open(\"fondo.png\", \"rb\")\n",
    "#     image = file.read()\n",
    "#     fondo = widgets.Image(value=image, style={'width': '100%', 'height': '100%vh'})\n",
    "#     display(fondo)\n",
    "#     \n",
    "# display(output2)"
   ],
   "id": "6d28c40ee9b7b9ce",
   "outputs": [
    {
     "data": {
      "text/plain": [
       "Output()"
      ],
      "application/vnd.jupyter.widget-view+json": {
       "version_major": 2,
       "version_minor": 0,
       "model_id": "689f5603e390419080cd380d15d52b17"
      }
     },
     "metadata": {},
     "output_type": "display_data"
    }
   ],
   "execution_count": 13
  },
  {
   "metadata": {
    "ExecuteTime": {
     "end_time": "2024-05-08T07:27:59.858963Z",
     "start_time": "2024-05-08T07:27:59.853964Z"
    }
   },
   "cell_type": "code",
   "source": [
    "output1 = widgets.Output()\n",
    "display(output1)"
   ],
   "id": "d6dfe4fd852cfc5d",
   "outputs": [
    {
     "data": {
      "text/plain": [
       "Output()"
      ],
      "application/vnd.jupyter.widget-view+json": {
       "version_major": 2,
       "version_minor": 0,
       "model_id": "5edcff18d19e470195393e452e92bd79"
      }
     },
     "metadata": {},
     "output_type": "display_data"
    }
   ],
   "execution_count": 14
  },
  {
   "metadata": {
    "ExecuteTime": {
     "end_time": "2024-05-08T07:27:59.862661Z",
     "start_time": "2024-05-08T07:27:59.859962Z"
    }
   },
   "cell_type": "code",
   "source": [
    "def accessAdministrator():\n",
    "    CreateChain()\n",
    "    UpdateChain()\n",
    "    CreateHotel()\n",
    "    UpdateHotel()"
   ],
   "id": "27148ff001dad8c6",
   "outputs": [],
   "execution_count": 15
  }
 ],
 "metadata": {
  "kernelspec": {
   "display_name": "Python 3",
   "language": "python",
   "name": "python3"
  },
  "language_info": {
   "codemirror_mode": {
    "name": "ipython",
    "version": 2
   },
   "file_extension": ".py",
   "mimetype": "text/x-python",
   "name": "python",
   "nbconvert_exporter": "python",
   "pygments_lexer": "ipython2",
   "version": "2.7.6"
  }
 },
 "nbformat": 4,
 "nbformat_minor": 5
}
