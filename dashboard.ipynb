{
 "cells": [
  {
   "cell_type": "markdown",
   "id": "18e5198e20762114",
   "metadata": {},
   "source": [
    "# Imports and Globals"
   ]
  },
  {
   "cell_type": "code",
   "execution_count": 1,
   "id": "550accddff2f2253",
   "metadata": {
    "ExecuteTime": {
     "end_time": "2024-05-12T19:43:34.063096Z",
     "start_time": "2024-05-12T19:43:34.004572Z"
    }
   },
   "outputs": [],
   "source": [
    "from ipywidgets import Layout, Button, Label, Password, Text, VBox, HBox, Output, HTML, BoundedFloatText, BoundedIntText\n",
    "from IPython.display import display\n",
    "import matplotlib.pyplot as plt\n",
    "import json\n",
    "from dashchecks import *\n"
   ]
  },
  {
   "cell_type": "code",
   "execution_count": 2,
   "id": "59aabab5b8186c2f",
   "metadata": {},
   "outputs": [],
   "source": [
    "class Active_user():\n",
    "        def __init__(self,eid = -1, hid = -1 ,user_position = -1):\n",
    "                self.eid = int(eid)\n",
    "                self.hid = hid\n",
    "                self.position = user_position\n",
    "        \n",
    "user = Active_user()\n",
    "        "
   ]
  },
  {
   "cell_type": "markdown",
   "id": "6b745d9d8786d383",
   "metadata": {},
   "source": [
    "# Dashboard"
   ]
  },
  {
   "cell_type": "code",
   "execution_count": 3,
   "id": "initial_id",
   "metadata": {
    "ExecuteTime": {
     "end_time": "2024-05-13T04:06:44.909627Z",
     "start_time": "2024-05-13T04:06:43.995887Z"
    }
   },
   "outputs": [
    {
     "data": {
      "application/vnd.jupyter.widget-view+json": {
       "model_id": "05f5a580626d4c9a9214e9f2a8bad719",
       "version_major": 2,
       "version_minor": 0
      },
      "text/plain": [
       "HTML(value=\"<div style='background-color:lightblue; padding:10px; text-align:center; overflow:hidden;'><p styl…"
      ]
     },
     "metadata": {},
     "output_type": "display_data"
    },
    {
     "data": {
      "application/vnd.jupyter.widget-view+json": {
       "model_id": "dc570e7cfa5a4d468ab616659442991e",
       "version_major": 2,
       "version_minor": 0
      },
      "text/plain": [
       "HBox(children=(VBox(children=(Label(value='Hello, welcome!', layout=Layout(margin='10px'), style=LabelStyle(fo…"
      ]
     },
     "metadata": {},
     "output_type": "display_data"
    },
    {
     "data": {
      "application/vnd.jupyter.widget-view+json": {
       "model_id": "bb181f077a4748a0b35eb8db833dc2d3",
       "version_major": 2,
       "version_minor": 0
      },
      "text/plain": [
       "HTML(value=\"<img src='https://i.imgur.com/sJ8W01b.jpeg' style='width:100%; height:90vh; object-fit:cover;'>\")"
      ]
     },
     "metadata": {},
     "output_type": "display_data"
    },
    {
     "data": {
      "application/vnd.jupyter.widget-view+json": {
       "model_id": "5adbc9909ee743e4acadc9e239c61e74",
       "version_major": 2,
       "version_minor": 0
      },
      "text/plain": [
       "HTML(value=\"<div style='background-color:lightblue; padding:10px; text-align:center; overflow:hidden;'><a styl…"
      ]
     },
     "metadata": {},
     "output_type": "display_data"
    }
   ],
   "source": [
    "# Different styles definitions:\n",
    "login_button_style = {\"description_border_color\": \"lightblue\", \"font_weight\": \"bold\", \"button_color\": \"lightblue\"}\n",
    "input_style = {\"description_width\": \"initial\"}\n",
    "header_style = {\"font_weight\": \"bold\", \"color\": \"black\", \"background-color\": \"lightblue\", \"padding\": \"10px\", \"text-align\": \"center\"}\n",
    "welcome_style = {\"font_weight\": \"bold\", \"color\": \"#008080\", \"background-color\": \"lightblue\", \"padding\": \"10px\", \"text-align\": \"center\", \"font-size\": \"28px\"}\n",
    "\n",
    "# Log In Fields\n",
    "username = Text(placeholder=\"Username\", style=input_style)\n",
    "password = Password(placeholder=\"Password\", style=input_style)\n",
    "\n",
    "# Create the buttons\n",
    "login_button = Button(description=\"Log In\", style=login_button_style, icon=\"check\", button_style=\"\")\n",
    "sign_up_button = Button(description=\"Sign Up\", style=login_button_style, icon=\"plus\", button_style=\"\")\n",
    "back_button = Button(description=\"Back\", style=login_button_style, icon=\"arrow-left\", button_style=\"\")\n",
    "create_button = Button(description=\"Create\", style=login_button_style, icon=\"check\", button_style=\"\")\n",
    "\n",
    "# Create output widget\n",
    "output = Output()\n",
    "\n",
    "# Create the VirtualBox for the login\n",
    "login_form = VBox([\n",
    "    Label(value=\"Hello, welcome!\", layout=Layout(margin=\"10px\"), style=welcome_style),\n",
    "    username,\n",
    "    password,\n",
    "    VBox([login_button], layout=Layout(justify_content=\"center\")),\n",
    "    VBox([sign_up_button], layout=Layout(justify_content=\"center\")),\n",
    "    output,\n",
    "], layout=Layout(justify_content=\"center\", align_items=\"center\"))\n",
    "\n",
    "# SignUp Fields\n",
    "Employee_ID = Text(placeholder=\"Employee ID\", style=input_style)\n",
    "signup_username = Text(placeholder=\"Username\", style=input_style)\n",
    "signup_password = Password(placeholder=\"Password\", style=input_style)\n",
    "\n",
    "# Create the VirtualBox for the SignUp\n",
    "signup_form = VBox([\n",
    "    Label(value=\"Create an Account\", layout=Layout(margin=\"10px\"), style=welcome_style),\n",
    "    Employee_ID,\n",
    "    signup_username,\n",
    "    signup_password,\n",
    "    VBox([create_button], layout=Layout(justify_content=\"center\")),\n",
    "    VBox([back_button], layout=Layout(justify_content=\"center\")),\n",
    "], layout=Layout(justify_content=\"center\", align_items=\"center\"))\n",
    "\n",
    "# Function to handle login button click\n",
    "def login_button_clicked(button):\n",
    "    username_input=username.value\n",
    "    password_input=password.value\n",
    "    response = Check_Login(username_input, password_input)\n",
    "    if response.status_code==200:\n",
    "         with output:\n",
    "            output.clear_output()\n",
    "            eid_substracted= response.json()['login']['eid'] \n",
    "            userinfo_response = Check_Employee(eid_substracted).json()['employee']\n",
    "            user_position = userinfo_response['position']    \n",
    "            hotel_id = userinfo_response['hid']\n",
    "            print(eid_substracted)\n",
    "            print(user_position)\n",
    "            print(hotel_id)\n",
    "            user.eid = eid_substracted\n",
    "            user.position = user_position\n",
    "            user.hotel_id = hotel_id\n",
    "            \n",
    "            print(user.eid)\n",
    "            print(user.position)\n",
    "            print(user.hotel_id)\n",
    "            print(f\"Login successful! {eid_substracted}\")\n",
    "             \n",
    "            display(PaymentMethod(user.eid))\n",
    "    else:\n",
    "        with output:\n",
    "            output.clear_output()\n",
    "            print(\"Login failed!\")\n",
    "    \n",
    "    \n",
    "\n",
    "# Function to handle signup button click\n",
    "def signup_button_clicked(button):\n",
    "    form_container.children = [signup_form] \n",
    "    \n",
    "  \n",
    "    \n",
    "\n",
    "# Function to handle back button click\n",
    "def back_button_clicked(button):\n",
    "    form_container.children = [login_form]\n",
    "    \n",
    "# Function to handle create button click\n",
    "def create_button_clicked(button):\n",
    "    SEmployee_ID = Employee_ID.value\n",
    "    Ssignup_username = signup_username.value\n",
    "    Ssignup_password, = signup_password.value\n",
    "    response = Post_LogIn(SEmployee_ID,Ssignup_username, Ssignup_password)\n",
    "    \n",
    "    if response.status_code == 201:\n",
    "         with output:\n",
    "            output.clear_output()\n",
    "            print(\"Account created successfully\")\n",
    "            print(\"Account Data:\")\n",
    "            print(response.json())  \n",
    "    \n",
    "    elif response.status_code == 400:\n",
    "        with output:\n",
    "            output.clear_output()\n",
    "            print(f\"Employee ID already exists! Please LogIn instead.\")       \n",
    "            \n",
    "    else:\n",
    "        with output:\n",
    "            output.clear_output()\n",
    "            print(f\"Invalid Account Data\")        \n",
    "\n",
    "# Button clicks and their events.\n",
    "login_button.on_click(login_button_clicked)\n",
    "sign_up_button.on_click(signup_button_clicked)\n",
    "back_button.on_click(back_button_clicked)\n",
    "create_button.on_click(create_button_clicked)\n",
    "\n",
    "# Create layout (Virtual Boxes)\n",
    "def create_layout():\n",
    "    login_form_box = VBox([\n",
    "        Label(value=\"Hello, welcome!\", layout=Layout(margin=\"10px\"), style=welcome_style),\n",
    "        username,\n",
    "        password,\n",
    "        VBox([login_button], layout=Layout(justify_content=\"center\")),\n",
    "        VBox([sign_up_button], layout=Layout(justify_content=\"center\")),\n",
    "        output,\n",
    "    ], layout=Layout(justify_content=\"center\", align_items=\"center\"))\n",
    "    \n",
    "    signup_form_box = VBox([\n",
    "        Label(value=\"Create an Account\", layout=Layout(margin=\"10px\"), style=welcome_style),\n",
    "        Employee_ID,\n",
    "        signup_username,\n",
    "        signup_password,\n",
    "        VBox([create_button], layout=Layout(justify_content=\"center\")),\n",
    "        VBox([back_button], layout=Layout(justify_content=\"center\")),\n",
    "    ], layout=Layout(justify_content=\"center\", align_items=\"center\"))\n",
    "    \n",
    "    form_container = HBox([login_form_box], layout=Layout(justify_content=\"center\", align_items=\"center\"))\n",
    "    \n",
    "    header = HTML(\"<div style='background-color:lightblue; padding:10px; text-align:center; overflow:hidden;'><p style='font-weight:bold; color:black; font-size:24px;'>HotelAnalytics Systems</p><p style='font-weight:bold; color:black; font-size:18px;'>DB Beasts</p></div>\") \n",
    "    footer = HTML(\"<div style='background-color:lightblue; padding:10px; text-align:center; overflow:hidden;'><a style='text-decoration:none; color:black;'>Db Beasts Members:</a> <i class='fas fa-user' style='background-color: #00868B; color: white; border-radius: 50%; padding: 2px 6px; font-weight: bold;'></i><a href='https://github.com/YanehRuiz' target='_blank' style='text-decoration:none; color:black;'> Yanishka</a> <i class='fas fa-user' style='background-color: #00868B; color: white; border-radius: 50%; padding: 2px 6px; font-weight: bold;'></i><a href='https://github.com/gaac-rum' target='_blank' style='text-decoration:none; color:black;'> Gabriel</a> <i class='fas fa-user' style='background-color: #00868B; color: white; border-radius: 50%; padding: 2px 6px; font-weight: bold;'></i><a href='https://github.com/Axel-Negron' target='_blank' style='text-decoration:none; color:black;'> Axel  </a><i class='fas fa-user' style='background-color: #00868B; color: white; border-radius: 50%; padding: 2px 6px; font-weight: bold;'></i><a href='https://github.com/samiralirivera' target='_blank' style='text-decoration:none; color:black;'> Samir</a></div>\")    \n",
    "    background = HTML(\"<img src='https://i.imgur.com/sJ8W01b.jpeg' style='width:100%; height:90vh; object-fit:cover;'>\")   \n",
    "    return header, form_container, background, footer\n",
    "\n",
    "# Display header, layout, and backgrounde\n",
    "header, form_container, background, footer = create_layout()\n",
    "display(header)\n",
    "display(form_container)\n",
    "display(background)\n",
    "display(footer)"
   ]
  },
  {
   "cell_type": "markdown",
   "id": "c8406ece1b48fd7f",
   "metadata": {},
   "source": [
    "## Crud"
   ]
  },
  {
   "cell_type": "markdown",
   "id": "20981d7ff997bef4",
   "metadata": {},
   "source": [
    "### Chain"
   ]
  },
  {
   "cell_type": "code",
   "execution_count": 4,
   "id": "fe5d62c01b02bfcf",
   "metadata": {},
   "outputs": [],
   "source": [
    "####################### Create Chain ##########################\n",
    "def CreateChain():\n",
    "    def post_chain(button):\n",
    "        with output:\n",
    "            chain = Post_Chain(cname.value, fallmkup.value, springmkup.value, summermkup.value, wintermkup.value)\n",
    "            if chain.status_code == 201:\n",
    "                output.clear_output()\n",
    "                print(\"Chain created successfully\")\n",
    "                print(\"Chain Data:\")\n",
    "                print(chain.json())  # Print the chain data\n",
    "            else:\n",
    "                output.clear_output()\n",
    "                print(f\"Invalid Chain Data\")\n",
    "\n",
    "    operation = HTML(f\"<p style='font-size:24px;'>Create Chain</p>\")\n",
    "    \n",
    "    cname = Text(placeholder=\"---\", description='Chain Name')\n",
    "    fallmkup = BoundedFloatText(min=0, step=0.01, description='Fall Mkup')\n",
    "    springmkup = BoundedFloatText(min=0, step=0.01, description='Spring Mkup')\n",
    "    summermkup = BoundedFloatText(min=0, step=0.01, description='Summer Mkup')\n",
    "    wintermkup = BoundedFloatText(min=0, step=0.01, description='Winter Mkup')\n",
    "    create_button = Button(description='Create Chain')\n",
    "    create_button.on_click(post_chain)\n",
    "    \n",
    "    create_box = VBox([operation, cname, fallmkup, springmkup, summermkup, wintermkup, create_button])\n",
    "    display(create_box)\n",
    "    \n",
    "    output = Output()\n",
    "    display(output)\n",
    "\n",
    "position = \"\"\n",
    "if position == \"Administrator\":\n",
    "    display(CreateChain())"
   ]
  },
  {
   "cell_type": "code",
   "execution_count": 5,
   "id": "1b53affd2f4e2caf",
   "metadata": {},
   "outputs": [],
   "source": [
    "####################### Delete Chain ##########################\n",
    "def DeleteChain():\n",
    "    def delete_chain(b):\n",
    "        with output:\n",
    "            chain = Delete_Chain(chid.value)\n",
    "            if chain.status_code == 200:\n",
    "                output.clear_output()\n",
    "                print(\"Chain deleted successfully\")\n",
    "            elif chain.status_code == 404:\n",
    "                output.clear_output()\n",
    "                print(\"Chain not found\")\n",
    "            elif chain.status_code == 400:\n",
    "                output.clear_output()\n",
    "                print(\"Chain is referenced\")\n",
    "            else:\n",
    "                output.clear_output()\n",
    "                print(\"Delete Failed\")\n",
    "            \n",
    "    operation = HTML(f\"<p style='font-size:24px;'>Delete Chain</p>\")\n",
    "    \n",
    "    chid = BoundedIntText(min=-1,step=1, description=\"Chain Id\")\n",
    "    delete_button = Button(description=\"Delete Chain\")\n",
    "    delete_button.on_click(delete_chain)\n",
    "    \n",
    "    create_box = VBox([operation, chid, delete_button])\n",
    "    display(create_box)\n",
    "    \n",
    "    output = Output()\n",
    "    display(output)\n",
    "\n",
    "position = \"\"\n",
    "if position == \"Administrator\":\n",
    "    display(DeleteChain())"
   ]
  },
  {
   "cell_type": "code",
   "execution_count": 6,
   "id": "4d9aa3e3d23bab03",
   "metadata": {},
   "outputs": [],
   "source": [
    "####################### Update Chain ##########################\n",
    "def UpdateChain():\n",
    "    def put_chain(b):\n",
    "        with output:\n",
    "            chain = Put_Chain(chid.value, cname.value, fallmkup.value, springmkup.value, summermkup.value, wintermkup.value)\n",
    "            if chain.status_code == 202:\n",
    "                output.clear_output()\n",
    "                print(\"Chain updated successfully\")\n",
    "                print(\"Chain Data:\")\n",
    "                print(chain.json())\n",
    "            elif chain.status_code == 404:\n",
    "                output.clear_output()\n",
    "                print(\"Chain not found\")\n",
    "            else:\n",
    "                output.clear_output()\n",
    "                print(\"Invalid Chain Data\")\n",
    "            \n",
    "    operation = HTML(f\"<p style='font-size:24px;'>Update Chain</p>\")\n",
    "    \n",
    "    chid = BoundedIntText(min=-1,step=1, description=\"Chain Id\")\n",
    "    cname = Text(placeholder=\"---\", description='Chain Name')\n",
    "    fallmkup = BoundedFloatText(min=0, step=0.01, description='Fall Mkup')\n",
    "    springmkup = BoundedFloatText(min=0, step=0.01, description='Spring Mkup')\n",
    "    summermkup = BoundedFloatText(min=0, step=0.01, description='Summer Mkup')\n",
    "    wintermkup = BoundedFloatText(min=0, step=0.01, description='Winter Mkup')\n",
    "    update_button = Button(description=\"Update Chain\")\n",
    "    update_button.on_click(put_chain)\n",
    "    \n",
    "    create_box = VBox([operation, chid, cname, fallmkup, springmkup, summermkup, wintermkup, update_button])\n",
    "    display(create_box)\n",
    "    \n",
    "    output = Output()\n",
    "    display(output)\n",
    "    \n",
    "position = \"\"\n",
    "if position == \"Administrator\":\n",
    "    display(UpdateChain())"
   ]
  },
  {
   "cell_type": "markdown",
   "id": "184add88e7db5af0",
   "metadata": {},
   "source": [
    "### Client"
   ]
  },
  {
   "cell_type": "code",
   "execution_count": 7,
   "id": "ceb871fa2167d3e8",
   "metadata": {},
   "outputs": [],
   "source": [
    "####################### Create Client ##########################"
   ]
  },
  {
   "cell_type": "code",
   "execution_count": 8,
   "id": "6e0dfabe4e194b83",
   "metadata": {},
   "outputs": [],
   "source": [
    "####################### Delete Client  ##########################"
   ]
  },
  {
   "cell_type": "code",
   "execution_count": 9,
   "id": "d65fdccf6b0da915",
   "metadata": {},
   "outputs": [],
   "source": [
    "####################### Update Client ##########################"
   ]
  },
  {
   "cell_type": "markdown",
   "id": "4b57a9cd153d7c13",
   "metadata": {},
   "source": [
    "### Employee"
   ]
  },
  {
   "cell_type": "code",
   "execution_count": 10,
   "id": "c272a37b9540063a",
   "metadata": {},
   "outputs": [],
   "source": [
    "####################### Create Employee ##########################"
   ]
  },
  {
   "cell_type": "code",
   "execution_count": 11,
   "id": "e34ce89bd6f7dad",
   "metadata": {},
   "outputs": [],
   "source": [
    "####################### Delete Employee ##########################"
   ]
  },
  {
   "cell_type": "code",
   "execution_count": 12,
   "id": "a9996ef74cd4f02",
   "metadata": {},
   "outputs": [],
   "source": [
    "####################### Update Employee ##########################"
   ]
  },
  {
   "cell_type": "markdown",
   "id": "d47a5a1667990e5b",
   "metadata": {},
   "source": [
    "### Hotel"
   ]
  },
  {
   "cell_type": "code",
   "execution_count": 13,
   "id": "e6a277fd7544e054",
   "metadata": {},
   "outputs": [],
   "source": [
    "####################### Create Hotel ##########################\n",
    "def CreateHotel():\n",
    "    def post_hotel(b):\n",
    "        with output:\n",
    "            hotel = Post_Hotel(chid.value, hname.value, hcity.value)\n",
    "            if hotel.status_code == 201:\n",
    "                output.clear_output()\n",
    "                print(\"Hotel created successfully\")\n",
    "                print(\"Hotel Data:\")\n",
    "                print(hotel.json())\n",
    "            elif hotel.status_code == 404:\n",
    "                output.clear_output()\n",
    "                print(\"Chain does not exist\")\n",
    "            else:\n",
    "                output.clear_output()\n",
    "                print(\"Invalid hotel data\")\n",
    "    \n",
    "    operation = HTML(f\"<p style='font-size:24px;'>Create Hotel</p>\")\n",
    "    \n",
    "    chid = BoundedIntText(min=-1,step=1, description=\"Chain Id\")\n",
    "    hname = Text(placeholder=\"---\", description=\"Hotel Name\")\n",
    "    hcity = Text(placeholder=\"---\", description=\"Hotel City\")\n",
    "    create_button = Button(description=\"Create Hotel\")\n",
    "    create_button.on_click(post_hotel)\n",
    "    \n",
    "    create_box = VBox([operation, chid, hname, hcity, create_button])\n",
    "    display(create_box)\n",
    "    \n",
    "    output = Output()\n",
    "    display(output)\n",
    "\n",
    "position = \"\"\n",
    "if position == \"Administrator\":\n",
    "    display(CreateHotel())"
   ]
  },
  {
   "cell_type": "code",
   "execution_count": 14,
   "id": "fb7c4efe2252efa3",
   "metadata": {},
   "outputs": [],
   "source": [
    "####################### Delete Hotel ##########################\n",
    "def DeleteHotel():\n",
    "    def delete_hotel(b):\n",
    "        with output:\n",
    "            hotel = Delete_Hotel(hid.value)\n",
    "            if hotel.status_code == 200:\n",
    "                output.clear_output()\n",
    "                print(\"Hotel deleted successfully\")\n",
    "            elif hotel.status_code == 404:\n",
    "                output.clear_output()\n",
    "                print(\"Hotel not found\")\n",
    "            elif hotel.status_code == 400:\n",
    "                output.clear_output()\n",
    "                print(\"Hotel is referenced\")\n",
    "            else:\n",
    "                output.clear_output()\n",
    "                print(\"Delete Failed\")\n",
    "            \n",
    "    operation = HTML(f\"<p style='font-size:24px;'>Delete Hotel</p>\")\n",
    "    \n",
    "    hid = BoundedIntText(min=-1,step=1, description=\"Hotel Id\")\n",
    "    delete_button = Button(description=\"Delete\")\n",
    "    delete_button.on_click(delete_hotel)\n",
    "    \n",
    "    create_box = VBox([operation, hid, delete_button])\n",
    "    display(create_box)\n",
    "    \n",
    "    output = Output()\n",
    "    display(output)\n",
    "\n",
    "position = \"\"\n",
    "if position == \"Administrator\":\n",
    "    display(DeleteHotel())"
   ]
  },
  {
   "cell_type": "code",
   "execution_count": 15,
   "id": "1b72220a3b5e78d3",
   "metadata": {},
   "outputs": [],
   "source": [
    "####################### Update Hotel ##########################\n",
    "def UpdateHotel():\n",
    "    def put_hotel(b):\n",
    "        with output:\n",
    "            hotel = Put_Hotel(hid.value, chid.value, hname.value, hcity.value)\n",
    "            if hotel.status_code == 202:\n",
    "                output.clear_output()\n",
    "                print(\"Hotel updated successfully\")\n",
    "                print(\"Hotel Data:\")\n",
    "                print(hotel.json())\n",
    "            elif hotel.status_code == 404:\n",
    "                output.clear_output()\n",
    "                print(\"Hotel or Chain not found\")\n",
    "            else:\n",
    "                output.clear_output()\n",
    "                print(\"Invalid Hotel Data\")\n",
    "            \n",
    "    operation = HTML(f\"<p style='font-size:24px;'>Update Hotel</p>\")\n",
    "    \n",
    "    hid = BoundedIntText(min=-1,step=1, description=\"Hotel Id\")\n",
    "    chid = BoundedIntText(min=-1,step=1, description=\"Chain Id\")\n",
    "    hname = Text(placeholder=\"---\", description=\"Hotel Name\")\n",
    "    hcity = Text(placeholder=\"---\", description=\"Hotel City\")\n",
    "    update_button = Button(description=\"Update Hotel\")\n",
    "    update_button.on_click(put_hotel)\n",
    "    \n",
    "    create_box = VBox([operation, hid, chid, hname, hcity, update_button])\n",
    "    display(create_box)\n",
    "    \n",
    "    output = Output()\n",
    "    display(output)\n",
    "\n",
    "position = \"\"\n",
    "if position == \"Administrator\":\n",
    "    display(UpdateHotel())"
   ]
  },
  {
   "cell_type": "markdown",
   "id": "efbdac1e8a1eb46f",
   "metadata": {},
   "source": [
    "### Login"
   ]
  },
  {
   "cell_type": "code",
   "execution_count": 16,
   "id": "1e53d9ad59535b0",
   "metadata": {},
   "outputs": [],
   "source": [
    "####################### Create Login ##########################"
   ]
  },
  {
   "cell_type": "code",
   "execution_count": 17,
   "id": "8266e1aa5c8aa6ff",
   "metadata": {},
   "outputs": [],
   "source": [
    "####################### Delete Login ##########################"
   ]
  },
  {
   "cell_type": "code",
   "execution_count": 18,
   "id": "adeef79edc970e4f",
   "metadata": {},
   "outputs": [],
   "source": [
    "####################### Update Login ##########################"
   ]
  },
  {
   "cell_type": "markdown",
   "id": "3eebb0da65c1fd94",
   "metadata": {},
   "source": [
    "### Reserve"
   ]
  },
  {
   "cell_type": "code",
   "execution_count": 19,
   "id": "e6a07ace7e3996ec",
   "metadata": {},
   "outputs": [],
   "source": [
    "####################### Create Reserve ##########################"
   ]
  },
  {
   "cell_type": "code",
   "execution_count": 20,
   "id": "f3bd308d31ee7b57",
   "metadata": {},
   "outputs": [],
   "source": [
    "####################### Delete Reserve ##########################"
   ]
  },
  {
   "cell_type": "code",
   "execution_count": 21,
   "id": "e86a461c3f87cee",
   "metadata": {},
   "outputs": [],
   "source": [
    "####################### Update Reserve ##########################"
   ]
  },
  {
   "cell_type": "markdown",
   "id": "2fd8e3dd00d6019",
   "metadata": {},
   "source": [
    "### Room"
   ]
  },
  {
   "cell_type": "code",
   "execution_count": 22,
   "id": "2b12b8eda042e812",
   "metadata": {},
   "outputs": [],
   "source": [
    "####################### Create Room ##########################\n",
    "def CreateRoom():\n",
    "    hid = BoundedIntText(min=-1,step=1, description=\"Hotel Id\")\n",
    "    rdid = BoundedIntText(min=-1,step=1, description=\"RoomDescription Id\")\n",
    "    rprice = BoundedIntText(min=-1,step=1, description=\" Id\")"
   ]
  },
  {
   "cell_type": "code",
   "execution_count": 23,
   "id": "364827e918e96f29",
   "metadata": {},
   "outputs": [],
   "source": [
    "####################### Delete Room ##########################\n",
    "def DeleteRoom():\n",
    "    pass"
   ]
  },
  {
   "cell_type": "code",
   "execution_count": 24,
   "id": "f588d513133a183e",
   "metadata": {},
   "outputs": [],
   "source": [
    "####################### Update Room ##########################\n",
    "def UpdateRomm():\n",
    "    pass"
   ]
  },
  {
   "cell_type": "markdown",
   "id": "7e17685b1a4054c6",
   "metadata": {},
   "source": [
    "### Roomdescription"
   ]
  },
  {
   "cell_type": "code",
   "execution_count": 25,
   "id": "38e5ce1696281e0",
   "metadata": {},
   "outputs": [],
   "source": [
    "#######################  Create Roomdescription ##########################\n",
    "def CreateRoomdescription():\n",
    "    pass"
   ]
  },
  {
   "cell_type": "code",
   "execution_count": 26,
   "id": "f4cd6ee80dabaea3",
   "metadata": {},
   "outputs": [],
   "source": [
    "#######################  Delete Roomdescription ##########################\n",
    "def DeleteRoomdescription():\n",
    "    pass"
   ]
  },
  {
   "cell_type": "code",
   "execution_count": 27,
   "id": "68c163414ac829f4",
   "metadata": {},
   "outputs": [],
   "source": [
    "#######################  Update Roomdescription ##########################\n",
    "def UpdateRoomdescription():\n",
    "    pass"
   ]
  },
  {
   "cell_type": "markdown",
   "id": "f9cba06ac35395b8",
   "metadata": {},
   "source": [
    "### Roomunavailable"
   ]
  },
  {
   "cell_type": "code",
   "execution_count": 28,
   "id": "f323d90fb629ba14",
   "metadata": {},
   "outputs": [],
   "source": [
    "####################### Create Roomunavailable ##########################\n",
    "def CreateRoomunavailable():\n",
    "    pass"
   ]
  },
  {
   "cell_type": "code",
   "execution_count": 29,
   "id": "5c5ce6b7603b35e8",
   "metadata": {},
   "outputs": [],
   "source": [
    "####################### Delete Roomunavailable ##########################\n",
    "def DeleteRoomunavailable():\n",
    "    pass"
   ]
  },
  {
   "cell_type": "code",
   "execution_count": 30,
   "id": "50fb92ae6da9290d",
   "metadata": {},
   "outputs": [],
   "source": [
    "####################### Update Roomunavailable ##########################\n",
    "def UpdateRoomunavailable():\n",
    "    pass"
   ]
  },
  {
   "cell_type": "markdown",
   "id": "f999343408adb966",
   "metadata": {},
   "source": [
    "## Globales"
   ]
  },
  {
   "cell_type": "code",
   "execution_count": 31,
   "id": "ed807fb86eb310f3",
   "metadata": {},
   "outputs": [
    {
     "ename": "ConnectionError",
     "evalue": "HTTPConnectionPool(host='127.0.0.1', port=5000): Max retries exceeded with url: /db-beasts/most/revenue (Caused by NewConnectionError('<urllib3.connection.HTTPConnection object at 0x00000152CD591FA0>: Failed to establish a new connection: [WinError 10061] No connection could be made because the target machine actively refused it'))",
     "output_type": "error",
     "traceback": [
      "\u001b[1;31m---------------------------------------------------------------------------\u001b[0m",
      "\u001b[1;31mConnectionRefusedError\u001b[0m                    Traceback (most recent call last)",
      "File \u001b[1;32m~\\Documents\\Pinchi_Python\\herewegoagain\\Lib\\site-packages\\urllib3\\connection.py:198\u001b[0m, in \u001b[0;36mHTTPConnection._new_conn\u001b[1;34m(self)\u001b[0m\n\u001b[0;32m    197\u001b[0m \u001b[38;5;28;01mtry\u001b[39;00m:\n\u001b[1;32m--> 198\u001b[0m     sock \u001b[38;5;241m=\u001b[39m \u001b[43mconnection\u001b[49m\u001b[38;5;241;43m.\u001b[39;49m\u001b[43mcreate_connection\u001b[49m\u001b[43m(\u001b[49m\n\u001b[0;32m    199\u001b[0m \u001b[43m        \u001b[49m\u001b[43m(\u001b[49m\u001b[38;5;28;43mself\u001b[39;49m\u001b[38;5;241;43m.\u001b[39;49m\u001b[43m_dns_host\u001b[49m\u001b[43m,\u001b[49m\u001b[43m \u001b[49m\u001b[38;5;28;43mself\u001b[39;49m\u001b[38;5;241;43m.\u001b[39;49m\u001b[43mport\u001b[49m\u001b[43m)\u001b[49m\u001b[43m,\u001b[49m\n\u001b[0;32m    200\u001b[0m \u001b[43m        \u001b[49m\u001b[38;5;28;43mself\u001b[39;49m\u001b[38;5;241;43m.\u001b[39;49m\u001b[43mtimeout\u001b[49m\u001b[43m,\u001b[49m\n\u001b[0;32m    201\u001b[0m \u001b[43m        \u001b[49m\u001b[43msource_address\u001b[49m\u001b[38;5;241;43m=\u001b[39;49m\u001b[38;5;28;43mself\u001b[39;49m\u001b[38;5;241;43m.\u001b[39;49m\u001b[43msource_address\u001b[49m\u001b[43m,\u001b[49m\n\u001b[0;32m    202\u001b[0m \u001b[43m        \u001b[49m\u001b[43msocket_options\u001b[49m\u001b[38;5;241;43m=\u001b[39;49m\u001b[38;5;28;43mself\u001b[39;49m\u001b[38;5;241;43m.\u001b[39;49m\u001b[43msocket_options\u001b[49m\u001b[43m,\u001b[49m\n\u001b[0;32m    203\u001b[0m \u001b[43m    \u001b[49m\u001b[43m)\u001b[49m\n\u001b[0;32m    204\u001b[0m \u001b[38;5;28;01mexcept\u001b[39;00m socket\u001b[38;5;241m.\u001b[39mgaierror \u001b[38;5;28;01mas\u001b[39;00m e:\n",
      "File \u001b[1;32m~\\Documents\\Pinchi_Python\\herewegoagain\\Lib\\site-packages\\urllib3\\util\\connection.py:85\u001b[0m, in \u001b[0;36mcreate_connection\u001b[1;34m(address, timeout, source_address, socket_options)\u001b[0m\n\u001b[0;32m     84\u001b[0m \u001b[38;5;28;01mtry\u001b[39;00m:\n\u001b[1;32m---> 85\u001b[0m     \u001b[38;5;28;01mraise\u001b[39;00m err\n\u001b[0;32m     86\u001b[0m \u001b[38;5;28;01mfinally\u001b[39;00m:\n\u001b[0;32m     87\u001b[0m     \u001b[38;5;66;03m# Break explicitly a reference cycle\u001b[39;00m\n",
      "File \u001b[1;32m~\\Documents\\Pinchi_Python\\herewegoagain\\Lib\\site-packages\\urllib3\\util\\connection.py:73\u001b[0m, in \u001b[0;36mcreate_connection\u001b[1;34m(address, timeout, source_address, socket_options)\u001b[0m\n\u001b[0;32m     72\u001b[0m     sock\u001b[38;5;241m.\u001b[39mbind(source_address)\n\u001b[1;32m---> 73\u001b[0m \u001b[43msock\u001b[49m\u001b[38;5;241;43m.\u001b[39;49m\u001b[43mconnect\u001b[49m\u001b[43m(\u001b[49m\u001b[43msa\u001b[49m\u001b[43m)\u001b[49m\n\u001b[0;32m     74\u001b[0m \u001b[38;5;66;03m# Break explicitly a reference cycle\u001b[39;00m\n",
      "\u001b[1;31mConnectionRefusedError\u001b[0m: [WinError 10061] No connection could be made because the target machine actively refused it",
      "\nThe above exception was the direct cause of the following exception:\n",
      "\u001b[1;31mNewConnectionError\u001b[0m                        Traceback (most recent call last)",
      "File \u001b[1;32m~\\Documents\\Pinchi_Python\\herewegoagain\\Lib\\site-packages\\urllib3\\connectionpool.py:793\u001b[0m, in \u001b[0;36mHTTPConnectionPool.urlopen\u001b[1;34m(self, method, url, body, headers, retries, redirect, assert_same_host, timeout, pool_timeout, release_conn, chunked, body_pos, preload_content, decode_content, **response_kw)\u001b[0m\n\u001b[0;32m    792\u001b[0m \u001b[38;5;66;03m# Make the request on the HTTPConnection object\u001b[39;00m\n\u001b[1;32m--> 793\u001b[0m response \u001b[38;5;241m=\u001b[39m \u001b[38;5;28;43mself\u001b[39;49m\u001b[38;5;241;43m.\u001b[39;49m\u001b[43m_make_request\u001b[49m\u001b[43m(\u001b[49m\n\u001b[0;32m    794\u001b[0m \u001b[43m    \u001b[49m\u001b[43mconn\u001b[49m\u001b[43m,\u001b[49m\n\u001b[0;32m    795\u001b[0m \u001b[43m    \u001b[49m\u001b[43mmethod\u001b[49m\u001b[43m,\u001b[49m\n\u001b[0;32m    796\u001b[0m \u001b[43m    \u001b[49m\u001b[43murl\u001b[49m\u001b[43m,\u001b[49m\n\u001b[0;32m    797\u001b[0m \u001b[43m    \u001b[49m\u001b[43mtimeout\u001b[49m\u001b[38;5;241;43m=\u001b[39;49m\u001b[43mtimeout_obj\u001b[49m\u001b[43m,\u001b[49m\n\u001b[0;32m    798\u001b[0m \u001b[43m    \u001b[49m\u001b[43mbody\u001b[49m\u001b[38;5;241;43m=\u001b[39;49m\u001b[43mbody\u001b[49m\u001b[43m,\u001b[49m\n\u001b[0;32m    799\u001b[0m \u001b[43m    \u001b[49m\u001b[43mheaders\u001b[49m\u001b[38;5;241;43m=\u001b[39;49m\u001b[43mheaders\u001b[49m\u001b[43m,\u001b[49m\n\u001b[0;32m    800\u001b[0m \u001b[43m    \u001b[49m\u001b[43mchunked\u001b[49m\u001b[38;5;241;43m=\u001b[39;49m\u001b[43mchunked\u001b[49m\u001b[43m,\u001b[49m\n\u001b[0;32m    801\u001b[0m \u001b[43m    \u001b[49m\u001b[43mretries\u001b[49m\u001b[38;5;241;43m=\u001b[39;49m\u001b[43mretries\u001b[49m\u001b[43m,\u001b[49m\n\u001b[0;32m    802\u001b[0m \u001b[43m    \u001b[49m\u001b[43mresponse_conn\u001b[49m\u001b[38;5;241;43m=\u001b[39;49m\u001b[43mresponse_conn\u001b[49m\u001b[43m,\u001b[49m\n\u001b[0;32m    803\u001b[0m \u001b[43m    \u001b[49m\u001b[43mpreload_content\u001b[49m\u001b[38;5;241;43m=\u001b[39;49m\u001b[43mpreload_content\u001b[49m\u001b[43m,\u001b[49m\n\u001b[0;32m    804\u001b[0m \u001b[43m    \u001b[49m\u001b[43mdecode_content\u001b[49m\u001b[38;5;241;43m=\u001b[39;49m\u001b[43mdecode_content\u001b[49m\u001b[43m,\u001b[49m\n\u001b[0;32m    805\u001b[0m \u001b[43m    \u001b[49m\u001b[38;5;241;43m*\u001b[39;49m\u001b[38;5;241;43m*\u001b[39;49m\u001b[43mresponse_kw\u001b[49m\u001b[43m,\u001b[49m\n\u001b[0;32m    806\u001b[0m \u001b[43m\u001b[49m\u001b[43m)\u001b[49m\n\u001b[0;32m    808\u001b[0m \u001b[38;5;66;03m# Everything went great!\u001b[39;00m\n",
      "File \u001b[1;32m~\\Documents\\Pinchi_Python\\herewegoagain\\Lib\\site-packages\\urllib3\\connectionpool.py:496\u001b[0m, in \u001b[0;36mHTTPConnectionPool._make_request\u001b[1;34m(self, conn, method, url, body, headers, retries, timeout, chunked, response_conn, preload_content, decode_content, enforce_content_length)\u001b[0m\n\u001b[0;32m    495\u001b[0m \u001b[38;5;28;01mtry\u001b[39;00m:\n\u001b[1;32m--> 496\u001b[0m     \u001b[43mconn\u001b[49m\u001b[38;5;241;43m.\u001b[39;49m\u001b[43mrequest\u001b[49m\u001b[43m(\u001b[49m\n\u001b[0;32m    497\u001b[0m \u001b[43m        \u001b[49m\u001b[43mmethod\u001b[49m\u001b[43m,\u001b[49m\n\u001b[0;32m    498\u001b[0m \u001b[43m        \u001b[49m\u001b[43murl\u001b[49m\u001b[43m,\u001b[49m\n\u001b[0;32m    499\u001b[0m \u001b[43m        \u001b[49m\u001b[43mbody\u001b[49m\u001b[38;5;241;43m=\u001b[39;49m\u001b[43mbody\u001b[49m\u001b[43m,\u001b[49m\n\u001b[0;32m    500\u001b[0m \u001b[43m        \u001b[49m\u001b[43mheaders\u001b[49m\u001b[38;5;241;43m=\u001b[39;49m\u001b[43mheaders\u001b[49m\u001b[43m,\u001b[49m\n\u001b[0;32m    501\u001b[0m \u001b[43m        \u001b[49m\u001b[43mchunked\u001b[49m\u001b[38;5;241;43m=\u001b[39;49m\u001b[43mchunked\u001b[49m\u001b[43m,\u001b[49m\n\u001b[0;32m    502\u001b[0m \u001b[43m        \u001b[49m\u001b[43mpreload_content\u001b[49m\u001b[38;5;241;43m=\u001b[39;49m\u001b[43mpreload_content\u001b[49m\u001b[43m,\u001b[49m\n\u001b[0;32m    503\u001b[0m \u001b[43m        \u001b[49m\u001b[43mdecode_content\u001b[49m\u001b[38;5;241;43m=\u001b[39;49m\u001b[43mdecode_content\u001b[49m\u001b[43m,\u001b[49m\n\u001b[0;32m    504\u001b[0m \u001b[43m        \u001b[49m\u001b[43menforce_content_length\u001b[49m\u001b[38;5;241;43m=\u001b[39;49m\u001b[43menforce_content_length\u001b[49m\u001b[43m,\u001b[49m\n\u001b[0;32m    505\u001b[0m \u001b[43m    \u001b[49m\u001b[43m)\u001b[49m\n\u001b[0;32m    507\u001b[0m \u001b[38;5;66;03m# We are swallowing BrokenPipeError (errno.EPIPE) since the server is\u001b[39;00m\n\u001b[0;32m    508\u001b[0m \u001b[38;5;66;03m# legitimately able to close the connection after sending a valid response.\u001b[39;00m\n\u001b[0;32m    509\u001b[0m \u001b[38;5;66;03m# With this behaviour, the received response is still readable.\u001b[39;00m\n",
      "File \u001b[1;32m~\\Documents\\Pinchi_Python\\herewegoagain\\Lib\\site-packages\\urllib3\\connection.py:400\u001b[0m, in \u001b[0;36mHTTPConnection.request\u001b[1;34m(self, method, url, body, headers, chunked, preload_content, decode_content, enforce_content_length)\u001b[0m\n\u001b[0;32m    399\u001b[0m     \u001b[38;5;28mself\u001b[39m\u001b[38;5;241m.\u001b[39mputheader(header, value)\n\u001b[1;32m--> 400\u001b[0m \u001b[38;5;28;43mself\u001b[39;49m\u001b[38;5;241;43m.\u001b[39;49m\u001b[43mendheaders\u001b[49m\u001b[43m(\u001b[49m\u001b[43m)\u001b[49m\n\u001b[0;32m    402\u001b[0m \u001b[38;5;66;03m# If we're given a body we start sending that in chunks.\u001b[39;00m\n",
      "File \u001b[1;32m~\\AppData\\Local\\Programs\\Python\\Python312\\Lib\\http\\client.py:1326\u001b[0m, in \u001b[0;36mHTTPConnection.endheaders\u001b[1;34m(self, message_body, encode_chunked)\u001b[0m\n\u001b[0;32m   1325\u001b[0m     \u001b[38;5;28;01mraise\u001b[39;00m CannotSendHeader()\n\u001b[1;32m-> 1326\u001b[0m \u001b[38;5;28;43mself\u001b[39;49m\u001b[38;5;241;43m.\u001b[39;49m\u001b[43m_send_output\u001b[49m\u001b[43m(\u001b[49m\u001b[43mmessage_body\u001b[49m\u001b[43m,\u001b[49m\u001b[43m \u001b[49m\u001b[43mencode_chunked\u001b[49m\u001b[38;5;241;43m=\u001b[39;49m\u001b[43mencode_chunked\u001b[49m\u001b[43m)\u001b[49m\n",
      "File \u001b[1;32m~\\AppData\\Local\\Programs\\Python\\Python312\\Lib\\http\\client.py:1085\u001b[0m, in \u001b[0;36mHTTPConnection._send_output\u001b[1;34m(self, message_body, encode_chunked)\u001b[0m\n\u001b[0;32m   1084\u001b[0m \u001b[38;5;28;01mdel\u001b[39;00m \u001b[38;5;28mself\u001b[39m\u001b[38;5;241m.\u001b[39m_buffer[:]\n\u001b[1;32m-> 1085\u001b[0m \u001b[38;5;28;43mself\u001b[39;49m\u001b[38;5;241;43m.\u001b[39;49m\u001b[43msend\u001b[49m\u001b[43m(\u001b[49m\u001b[43mmsg\u001b[49m\u001b[43m)\u001b[49m\n\u001b[0;32m   1087\u001b[0m \u001b[38;5;28;01mif\u001b[39;00m message_body \u001b[38;5;129;01mis\u001b[39;00m \u001b[38;5;129;01mnot\u001b[39;00m \u001b[38;5;28;01mNone\u001b[39;00m:\n\u001b[0;32m   1088\u001b[0m \n\u001b[0;32m   1089\u001b[0m     \u001b[38;5;66;03m# create a consistent interface to message_body\u001b[39;00m\n",
      "File \u001b[1;32m~\\AppData\\Local\\Programs\\Python\\Python312\\Lib\\http\\client.py:1029\u001b[0m, in \u001b[0;36mHTTPConnection.send\u001b[1;34m(self, data)\u001b[0m\n\u001b[0;32m   1028\u001b[0m \u001b[38;5;28;01mif\u001b[39;00m \u001b[38;5;28mself\u001b[39m\u001b[38;5;241m.\u001b[39mauto_open:\n\u001b[1;32m-> 1029\u001b[0m     \u001b[38;5;28;43mself\u001b[39;49m\u001b[38;5;241;43m.\u001b[39;49m\u001b[43mconnect\u001b[49m\u001b[43m(\u001b[49m\u001b[43m)\u001b[49m\n\u001b[0;32m   1030\u001b[0m \u001b[38;5;28;01melse\u001b[39;00m:\n",
      "File \u001b[1;32m~\\Documents\\Pinchi_Python\\herewegoagain\\Lib\\site-packages\\urllib3\\connection.py:238\u001b[0m, in \u001b[0;36mHTTPConnection.connect\u001b[1;34m(self)\u001b[0m\n\u001b[0;32m    237\u001b[0m \u001b[38;5;28;01mdef\u001b[39;00m \u001b[38;5;21mconnect\u001b[39m(\u001b[38;5;28mself\u001b[39m) \u001b[38;5;241m-\u001b[39m\u001b[38;5;241m>\u001b[39m \u001b[38;5;28;01mNone\u001b[39;00m:\n\u001b[1;32m--> 238\u001b[0m     \u001b[38;5;28mself\u001b[39m\u001b[38;5;241m.\u001b[39msock \u001b[38;5;241m=\u001b[39m \u001b[38;5;28;43mself\u001b[39;49m\u001b[38;5;241;43m.\u001b[39;49m\u001b[43m_new_conn\u001b[49m\u001b[43m(\u001b[49m\u001b[43m)\u001b[49m\n\u001b[0;32m    239\u001b[0m     \u001b[38;5;28;01mif\u001b[39;00m \u001b[38;5;28mself\u001b[39m\u001b[38;5;241m.\u001b[39m_tunnel_host:\n\u001b[0;32m    240\u001b[0m         \u001b[38;5;66;03m# If we're tunneling it means we're connected to our proxy.\u001b[39;00m\n",
      "File \u001b[1;32m~\\Documents\\Pinchi_Python\\herewegoagain\\Lib\\site-packages\\urllib3\\connection.py:213\u001b[0m, in \u001b[0;36mHTTPConnection._new_conn\u001b[1;34m(self)\u001b[0m\n\u001b[0;32m    212\u001b[0m \u001b[38;5;28;01mexcept\u001b[39;00m \u001b[38;5;167;01mOSError\u001b[39;00m \u001b[38;5;28;01mas\u001b[39;00m e:\n\u001b[1;32m--> 213\u001b[0m     \u001b[38;5;28;01mraise\u001b[39;00m NewConnectionError(\n\u001b[0;32m    214\u001b[0m         \u001b[38;5;28mself\u001b[39m, \u001b[38;5;124mf\u001b[39m\u001b[38;5;124m\"\u001b[39m\u001b[38;5;124mFailed to establish a new connection: \u001b[39m\u001b[38;5;132;01m{\u001b[39;00me\u001b[38;5;132;01m}\u001b[39;00m\u001b[38;5;124m\"\u001b[39m\n\u001b[0;32m    215\u001b[0m     ) \u001b[38;5;28;01mfrom\u001b[39;00m \u001b[38;5;21;01me\u001b[39;00m\n\u001b[0;32m    217\u001b[0m \u001b[38;5;66;03m# Audit hooks are only available in Python 3.8+\u001b[39;00m\n",
      "\u001b[1;31mNewConnectionError\u001b[0m: <urllib3.connection.HTTPConnection object at 0x00000152CD591FA0>: Failed to establish a new connection: [WinError 10061] No connection could be made because the target machine actively refused it",
      "\nThe above exception was the direct cause of the following exception:\n",
      "\u001b[1;31mMaxRetryError\u001b[0m                             Traceback (most recent call last)",
      "File \u001b[1;32m~\\Documents\\Pinchi_Python\\herewegoagain\\Lib\\site-packages\\requests\\adapters.py:486\u001b[0m, in \u001b[0;36mHTTPAdapter.send\u001b[1;34m(self, request, stream, timeout, verify, cert, proxies)\u001b[0m\n\u001b[0;32m    485\u001b[0m \u001b[38;5;28;01mtry\u001b[39;00m:\n\u001b[1;32m--> 486\u001b[0m     resp \u001b[38;5;241m=\u001b[39m \u001b[43mconn\u001b[49m\u001b[38;5;241;43m.\u001b[39;49m\u001b[43murlopen\u001b[49m\u001b[43m(\u001b[49m\n\u001b[0;32m    487\u001b[0m \u001b[43m        \u001b[49m\u001b[43mmethod\u001b[49m\u001b[38;5;241;43m=\u001b[39;49m\u001b[43mrequest\u001b[49m\u001b[38;5;241;43m.\u001b[39;49m\u001b[43mmethod\u001b[49m\u001b[43m,\u001b[49m\n\u001b[0;32m    488\u001b[0m \u001b[43m        \u001b[49m\u001b[43murl\u001b[49m\u001b[38;5;241;43m=\u001b[39;49m\u001b[43murl\u001b[49m\u001b[43m,\u001b[49m\n\u001b[0;32m    489\u001b[0m \u001b[43m        \u001b[49m\u001b[43mbody\u001b[49m\u001b[38;5;241;43m=\u001b[39;49m\u001b[43mrequest\u001b[49m\u001b[38;5;241;43m.\u001b[39;49m\u001b[43mbody\u001b[49m\u001b[43m,\u001b[49m\n\u001b[0;32m    490\u001b[0m \u001b[43m        \u001b[49m\u001b[43mheaders\u001b[49m\u001b[38;5;241;43m=\u001b[39;49m\u001b[43mrequest\u001b[49m\u001b[38;5;241;43m.\u001b[39;49m\u001b[43mheaders\u001b[49m\u001b[43m,\u001b[49m\n\u001b[0;32m    491\u001b[0m \u001b[43m        \u001b[49m\u001b[43mredirect\u001b[49m\u001b[38;5;241;43m=\u001b[39;49m\u001b[38;5;28;43;01mFalse\u001b[39;49;00m\u001b[43m,\u001b[49m\n\u001b[0;32m    492\u001b[0m \u001b[43m        \u001b[49m\u001b[43massert_same_host\u001b[49m\u001b[38;5;241;43m=\u001b[39;49m\u001b[38;5;28;43;01mFalse\u001b[39;49;00m\u001b[43m,\u001b[49m\n\u001b[0;32m    493\u001b[0m \u001b[43m        \u001b[49m\u001b[43mpreload_content\u001b[49m\u001b[38;5;241;43m=\u001b[39;49m\u001b[38;5;28;43;01mFalse\u001b[39;49;00m\u001b[43m,\u001b[49m\n\u001b[0;32m    494\u001b[0m \u001b[43m        \u001b[49m\u001b[43mdecode_content\u001b[49m\u001b[38;5;241;43m=\u001b[39;49m\u001b[38;5;28;43;01mFalse\u001b[39;49;00m\u001b[43m,\u001b[49m\n\u001b[0;32m    495\u001b[0m \u001b[43m        \u001b[49m\u001b[43mretries\u001b[49m\u001b[38;5;241;43m=\u001b[39;49m\u001b[38;5;28;43mself\u001b[39;49m\u001b[38;5;241;43m.\u001b[39;49m\u001b[43mmax_retries\u001b[49m\u001b[43m,\u001b[49m\n\u001b[0;32m    496\u001b[0m \u001b[43m        \u001b[49m\u001b[43mtimeout\u001b[49m\u001b[38;5;241;43m=\u001b[39;49m\u001b[43mtimeout\u001b[49m\u001b[43m,\u001b[49m\n\u001b[0;32m    497\u001b[0m \u001b[43m        \u001b[49m\u001b[43mchunked\u001b[49m\u001b[38;5;241;43m=\u001b[39;49m\u001b[43mchunked\u001b[49m\u001b[43m,\u001b[49m\n\u001b[0;32m    498\u001b[0m \u001b[43m    \u001b[49m\u001b[43m)\u001b[49m\n\u001b[0;32m    500\u001b[0m \u001b[38;5;28;01mexcept\u001b[39;00m (ProtocolError, \u001b[38;5;167;01mOSError\u001b[39;00m) \u001b[38;5;28;01mas\u001b[39;00m err:\n",
      "File \u001b[1;32m~\\Documents\\Pinchi_Python\\herewegoagain\\Lib\\site-packages\\urllib3\\connectionpool.py:847\u001b[0m, in \u001b[0;36mHTTPConnectionPool.urlopen\u001b[1;34m(self, method, url, body, headers, retries, redirect, assert_same_host, timeout, pool_timeout, release_conn, chunked, body_pos, preload_content, decode_content, **response_kw)\u001b[0m\n\u001b[0;32m    845\u001b[0m     new_e \u001b[38;5;241m=\u001b[39m ProtocolError(\u001b[38;5;124m\"\u001b[39m\u001b[38;5;124mConnection aborted.\u001b[39m\u001b[38;5;124m\"\u001b[39m, new_e)\n\u001b[1;32m--> 847\u001b[0m retries \u001b[38;5;241m=\u001b[39m \u001b[43mretries\u001b[49m\u001b[38;5;241;43m.\u001b[39;49m\u001b[43mincrement\u001b[49m\u001b[43m(\u001b[49m\n\u001b[0;32m    848\u001b[0m \u001b[43m    \u001b[49m\u001b[43mmethod\u001b[49m\u001b[43m,\u001b[49m\u001b[43m \u001b[49m\u001b[43murl\u001b[49m\u001b[43m,\u001b[49m\u001b[43m \u001b[49m\u001b[43merror\u001b[49m\u001b[38;5;241;43m=\u001b[39;49m\u001b[43mnew_e\u001b[49m\u001b[43m,\u001b[49m\u001b[43m \u001b[49m\u001b[43m_pool\u001b[49m\u001b[38;5;241;43m=\u001b[39;49m\u001b[38;5;28;43mself\u001b[39;49m\u001b[43m,\u001b[49m\u001b[43m \u001b[49m\u001b[43m_stacktrace\u001b[49m\u001b[38;5;241;43m=\u001b[39;49m\u001b[43msys\u001b[49m\u001b[38;5;241;43m.\u001b[39;49m\u001b[43mexc_info\u001b[49m\u001b[43m(\u001b[49m\u001b[43m)\u001b[49m\u001b[43m[\u001b[49m\u001b[38;5;241;43m2\u001b[39;49m\u001b[43m]\u001b[49m\n\u001b[0;32m    849\u001b[0m \u001b[43m\u001b[49m\u001b[43m)\u001b[49m\n\u001b[0;32m    850\u001b[0m retries\u001b[38;5;241m.\u001b[39msleep()\n",
      "File \u001b[1;32m~\\Documents\\Pinchi_Python\\herewegoagain\\Lib\\site-packages\\urllib3\\util\\retry.py:515\u001b[0m, in \u001b[0;36mRetry.increment\u001b[1;34m(self, method, url, response, error, _pool, _stacktrace)\u001b[0m\n\u001b[0;32m    514\u001b[0m     reason \u001b[38;5;241m=\u001b[39m error \u001b[38;5;129;01mor\u001b[39;00m ResponseError(cause)\n\u001b[1;32m--> 515\u001b[0m     \u001b[38;5;28;01mraise\u001b[39;00m MaxRetryError(_pool, url, reason) \u001b[38;5;28;01mfrom\u001b[39;00m \u001b[38;5;21;01mreason\u001b[39;00m  \u001b[38;5;66;03m# type: ignore[arg-type]\u001b[39;00m\n\u001b[0;32m    517\u001b[0m log\u001b[38;5;241m.\u001b[39mdebug(\u001b[38;5;124m\"\u001b[39m\u001b[38;5;124mIncremented Retry for (url=\u001b[39m\u001b[38;5;124m'\u001b[39m\u001b[38;5;132;01m%s\u001b[39;00m\u001b[38;5;124m'\u001b[39m\u001b[38;5;124m): \u001b[39m\u001b[38;5;132;01m%r\u001b[39;00m\u001b[38;5;124m\"\u001b[39m, url, new_retry)\n",
      "\u001b[1;31mMaxRetryError\u001b[0m: HTTPConnectionPool(host='127.0.0.1', port=5000): Max retries exceeded with url: /db-beasts/most/revenue (Caused by NewConnectionError('<urllib3.connection.HTTPConnection object at 0x00000152CD591FA0>: Failed to establish a new connection: [WinError 10061] No connection could be made because the target machine actively refused it'))",
      "\nDuring handling of the above exception, another exception occurred:\n",
      "\u001b[1;31mConnectionError\u001b[0m                           Traceback (most recent call last)",
      "Cell \u001b[1;32mIn[31], line 39\u001b[0m\n\u001b[0;32m     37\u001b[0m             \u001b[38;5;28mprint\u001b[39m(line)\n\u001b[0;32m     38\u001b[0m \u001b[38;5;28mid\u001b[39m \u001b[38;5;241m=\u001b[39m \u001b[38;5;241m2\u001b[39m\n\u001b[1;32m---> 39\u001b[0m display(\u001b[43mMostRevenue\u001b[49m\u001b[43m(\u001b[49m\u001b[38;5;28;43mid\u001b[39;49m\u001b[43m)\u001b[49m)\n",
      "Cell \u001b[1;32mIn[31], line 3\u001b[0m, in \u001b[0;36mMostRevenue\u001b[1;34m(id)\u001b[0m\n\u001b[0;32m      2\u001b[0m \u001b[38;5;28;01mdef\u001b[39;00m \u001b[38;5;21mMostRevenue\u001b[39m(\u001b[38;5;28mid\u001b[39m):\n\u001b[1;32m----> 3\u001b[0m     items \u001b[38;5;241m=\u001b[39m \u001b[43msee_mostrevenue\u001b[49m\u001b[43m(\u001b[49m\u001b[38;5;28;43mid\u001b[39;49m\u001b[43m)\u001b[49m\n\u001b[0;32m      4\u001b[0m     \u001b[38;5;28;01mif\u001b[39;00m \u001b[38;5;129;01mnot\u001b[39;00m items:\n\u001b[0;32m      5\u001b[0m         \u001b[38;5;28mprint\u001b[39m(\u001b[38;5;124m\"\u001b[39m\u001b[38;5;124mNo position\u001b[39m\u001b[38;5;124m\"\u001b[39m)\n",
      "File \u001b[1;32m~\\Documents\\hotel-analytical-system-db-beasts\\dashchecks.py:195\u001b[0m, in \u001b[0;36msee_mostrevenue\u001b[1;34m(id)\u001b[0m\n\u001b[0;32m    193\u001b[0m     \u001b[38;5;28;01mpass\u001b[39;00m\n\u001b[0;32m    194\u001b[0m data \u001b[38;5;241m=\u001b[39m {\u001b[38;5;124m'\u001b[39m\u001b[38;5;124meid\u001b[39m\u001b[38;5;124m'\u001b[39m: \u001b[38;5;28mid\u001b[39m}\n\u001b[1;32m--> 195\u001b[0m response \u001b[38;5;241m=\u001b[39m \u001b[43mrequests\u001b[49m\u001b[38;5;241;43m.\u001b[39;49m\u001b[43mpost\u001b[49m\u001b[43m(\u001b[49m\u001b[43mflask_url\u001b[49m\u001b[43m,\u001b[49m\u001b[43m \u001b[49m\u001b[43mjson\u001b[49m\u001b[38;5;241;43m=\u001b[39;49m\u001b[43mdata\u001b[49m\u001b[43m)\u001b[49m\n\u001b[0;32m    196\u001b[0m \u001b[38;5;28;01mreturn\u001b[39;00m response\n",
      "File \u001b[1;32m~\\Documents\\Pinchi_Python\\herewegoagain\\Lib\\site-packages\\requests\\api.py:115\u001b[0m, in \u001b[0;36mpost\u001b[1;34m(url, data, json, **kwargs)\u001b[0m\n\u001b[0;32m    103\u001b[0m \u001b[38;5;28;01mdef\u001b[39;00m \u001b[38;5;21mpost\u001b[39m(url, data\u001b[38;5;241m=\u001b[39m\u001b[38;5;28;01mNone\u001b[39;00m, json\u001b[38;5;241m=\u001b[39m\u001b[38;5;28;01mNone\u001b[39;00m, \u001b[38;5;241m*\u001b[39m\u001b[38;5;241m*\u001b[39mkwargs):\n\u001b[0;32m    104\u001b[0m \u001b[38;5;250m    \u001b[39m\u001b[38;5;124mr\u001b[39m\u001b[38;5;124;03m\"\"\"Sends a POST request.\u001b[39;00m\n\u001b[0;32m    105\u001b[0m \n\u001b[0;32m    106\u001b[0m \u001b[38;5;124;03m    :param url: URL for the new :class:`Request` object.\u001b[39;00m\n\u001b[1;32m   (...)\u001b[0m\n\u001b[0;32m    112\u001b[0m \u001b[38;5;124;03m    :rtype: requests.Response\u001b[39;00m\n\u001b[0;32m    113\u001b[0m \u001b[38;5;124;03m    \"\"\"\u001b[39;00m\n\u001b[1;32m--> 115\u001b[0m     \u001b[38;5;28;01mreturn\u001b[39;00m \u001b[43mrequest\u001b[49m\u001b[43m(\u001b[49m\u001b[38;5;124;43m\"\u001b[39;49m\u001b[38;5;124;43mpost\u001b[39;49m\u001b[38;5;124;43m\"\u001b[39;49m\u001b[43m,\u001b[49m\u001b[43m \u001b[49m\u001b[43murl\u001b[49m\u001b[43m,\u001b[49m\u001b[43m \u001b[49m\u001b[43mdata\u001b[49m\u001b[38;5;241;43m=\u001b[39;49m\u001b[43mdata\u001b[49m\u001b[43m,\u001b[49m\u001b[43m \u001b[49m\u001b[43mjson\u001b[49m\u001b[38;5;241;43m=\u001b[39;49m\u001b[43mjson\u001b[49m\u001b[43m,\u001b[49m\u001b[43m \u001b[49m\u001b[38;5;241;43m*\u001b[39;49m\u001b[38;5;241;43m*\u001b[39;49m\u001b[43mkwargs\u001b[49m\u001b[43m)\u001b[49m\n",
      "File \u001b[1;32m~\\Documents\\Pinchi_Python\\herewegoagain\\Lib\\site-packages\\requests\\api.py:59\u001b[0m, in \u001b[0;36mrequest\u001b[1;34m(method, url, **kwargs)\u001b[0m\n\u001b[0;32m     55\u001b[0m \u001b[38;5;66;03m# By using the 'with' statement we are sure the session is closed, thus we\u001b[39;00m\n\u001b[0;32m     56\u001b[0m \u001b[38;5;66;03m# avoid leaving sockets open which can trigger a ResourceWarning in some\u001b[39;00m\n\u001b[0;32m     57\u001b[0m \u001b[38;5;66;03m# cases, and look like a memory leak in others.\u001b[39;00m\n\u001b[0;32m     58\u001b[0m \u001b[38;5;28;01mwith\u001b[39;00m sessions\u001b[38;5;241m.\u001b[39mSession() \u001b[38;5;28;01mas\u001b[39;00m session:\n\u001b[1;32m---> 59\u001b[0m     \u001b[38;5;28;01mreturn\u001b[39;00m \u001b[43msession\u001b[49m\u001b[38;5;241;43m.\u001b[39;49m\u001b[43mrequest\u001b[49m\u001b[43m(\u001b[49m\u001b[43mmethod\u001b[49m\u001b[38;5;241;43m=\u001b[39;49m\u001b[43mmethod\u001b[49m\u001b[43m,\u001b[49m\u001b[43m \u001b[49m\u001b[43murl\u001b[49m\u001b[38;5;241;43m=\u001b[39;49m\u001b[43murl\u001b[49m\u001b[43m,\u001b[49m\u001b[43m \u001b[49m\u001b[38;5;241;43m*\u001b[39;49m\u001b[38;5;241;43m*\u001b[39;49m\u001b[43mkwargs\u001b[49m\u001b[43m)\u001b[49m\n",
      "File \u001b[1;32m~\\Documents\\Pinchi_Python\\herewegoagain\\Lib\\site-packages\\requests\\sessions.py:589\u001b[0m, in \u001b[0;36mSession.request\u001b[1;34m(self, method, url, params, data, headers, cookies, files, auth, timeout, allow_redirects, proxies, hooks, stream, verify, cert, json)\u001b[0m\n\u001b[0;32m    584\u001b[0m send_kwargs \u001b[38;5;241m=\u001b[39m {\n\u001b[0;32m    585\u001b[0m     \u001b[38;5;124m\"\u001b[39m\u001b[38;5;124mtimeout\u001b[39m\u001b[38;5;124m\"\u001b[39m: timeout,\n\u001b[0;32m    586\u001b[0m     \u001b[38;5;124m\"\u001b[39m\u001b[38;5;124mallow_redirects\u001b[39m\u001b[38;5;124m\"\u001b[39m: allow_redirects,\n\u001b[0;32m    587\u001b[0m }\n\u001b[0;32m    588\u001b[0m send_kwargs\u001b[38;5;241m.\u001b[39mupdate(settings)\n\u001b[1;32m--> 589\u001b[0m resp \u001b[38;5;241m=\u001b[39m \u001b[38;5;28;43mself\u001b[39;49m\u001b[38;5;241;43m.\u001b[39;49m\u001b[43msend\u001b[49m\u001b[43m(\u001b[49m\u001b[43mprep\u001b[49m\u001b[43m,\u001b[49m\u001b[43m \u001b[49m\u001b[38;5;241;43m*\u001b[39;49m\u001b[38;5;241;43m*\u001b[39;49m\u001b[43msend_kwargs\u001b[49m\u001b[43m)\u001b[49m\n\u001b[0;32m    591\u001b[0m \u001b[38;5;28;01mreturn\u001b[39;00m resp\n",
      "File \u001b[1;32m~\\Documents\\Pinchi_Python\\herewegoagain\\Lib\\site-packages\\requests\\sessions.py:703\u001b[0m, in \u001b[0;36mSession.send\u001b[1;34m(self, request, **kwargs)\u001b[0m\n\u001b[0;32m    700\u001b[0m start \u001b[38;5;241m=\u001b[39m preferred_clock()\n\u001b[0;32m    702\u001b[0m \u001b[38;5;66;03m# Send the request\u001b[39;00m\n\u001b[1;32m--> 703\u001b[0m r \u001b[38;5;241m=\u001b[39m \u001b[43madapter\u001b[49m\u001b[38;5;241;43m.\u001b[39;49m\u001b[43msend\u001b[49m\u001b[43m(\u001b[49m\u001b[43mrequest\u001b[49m\u001b[43m,\u001b[49m\u001b[43m \u001b[49m\u001b[38;5;241;43m*\u001b[39;49m\u001b[38;5;241;43m*\u001b[39;49m\u001b[43mkwargs\u001b[49m\u001b[43m)\u001b[49m\n\u001b[0;32m    705\u001b[0m \u001b[38;5;66;03m# Total elapsed time of the request (approximately)\u001b[39;00m\n\u001b[0;32m    706\u001b[0m elapsed \u001b[38;5;241m=\u001b[39m preferred_clock() \u001b[38;5;241m-\u001b[39m start\n",
      "File \u001b[1;32m~\\Documents\\Pinchi_Python\\herewegoagain\\Lib\\site-packages\\requests\\adapters.py:519\u001b[0m, in \u001b[0;36mHTTPAdapter.send\u001b[1;34m(self, request, stream, timeout, verify, cert, proxies)\u001b[0m\n\u001b[0;32m    515\u001b[0m     \u001b[38;5;28;01mif\u001b[39;00m \u001b[38;5;28misinstance\u001b[39m(e\u001b[38;5;241m.\u001b[39mreason, _SSLError):\n\u001b[0;32m    516\u001b[0m         \u001b[38;5;66;03m# This branch is for urllib3 v1.22 and later.\u001b[39;00m\n\u001b[0;32m    517\u001b[0m         \u001b[38;5;28;01mraise\u001b[39;00m SSLError(e, request\u001b[38;5;241m=\u001b[39mrequest)\n\u001b[1;32m--> 519\u001b[0m     \u001b[38;5;28;01mraise\u001b[39;00m \u001b[38;5;167;01mConnectionError\u001b[39;00m(e, request\u001b[38;5;241m=\u001b[39mrequest)\n\u001b[0;32m    521\u001b[0m \u001b[38;5;28;01mexcept\u001b[39;00m ClosedPoolError \u001b[38;5;28;01mas\u001b[39;00m e:\n\u001b[0;32m    522\u001b[0m     \u001b[38;5;28;01mraise\u001b[39;00m \u001b[38;5;167;01mConnectionError\u001b[39;00m(e, request\u001b[38;5;241m=\u001b[39mrequest)\n",
      "\u001b[1;31mConnectionError\u001b[0m: HTTPConnectionPool(host='127.0.0.1', port=5000): Max retries exceeded with url: /db-beasts/most/revenue (Caused by NewConnectionError('<urllib3.connection.HTTPConnection object at 0x00000152CD591FA0>: Failed to establish a new connection: [WinError 10061] No connection could be made because the target machine actively refused it'))"
     ]
    }
   ],
   "source": [
    "####################### /most/revenue ##########################\n",
    "def MostRevenue(id):\n",
    "    items = see_mostrevenue(id)\n",
    "    if not items:\n",
    "        print(\"No position\")\n",
    "    else:\n",
    "        datas = items.json()['Most_Revenues']\n",
    "        \n",
    "        # ** x axis values\n",
    "        x = [str(x['chid']) for x in datas]\n",
    "        # ** y axis values\n",
    "        y = [float(y['total revenue']) for y in datas]\n",
    "            \n",
    "        # ** creating the bar plot\n",
    "        plt.bar(x, y, color='black', bottom=0)\n",
    "            \n",
    "        plt.ylim(0, max(y) + min(y))\n",
    "            \n",
    "        # ** naming the x-axis\n",
    "        plt.xlabel('x - axis = Chains')\n",
    "        # ** naming the y-axis\n",
    "        plt.ylabel('y - axis = Total Revenues in millions')\n",
    "            \n",
    "        # ** giving a title to my graph\n",
    "        plt.title('Top 3 chains with the highest total revenue')\n",
    "            \n",
    "        # ** Tight layout to avoid overlap\n",
    "        plt.tight_layout()\n",
    "            \n",
    "        # ** function to show the plot\n",
    "        plt.show()\n",
    "        \n",
    "        # ** See data\n",
    "        json_str = json.dumps(datas, indent=2)\n",
    "        lines = json_str.split('\\n')\n",
    "        for line in lines:\n",
    "            print(line)\n",
    "id = 2\n",
    "display(MostRevenue(id))"
   ]
  },
  {
   "cell_type": "code",
   "execution_count": null,
   "id": "664f159d1bcbd341",
   "metadata": {},
   "outputs": [],
   "source": [
    "####################### /paymentmethod ##########################\n",
    "def PaymentMethod(id):\n",
    "    items = see_paymentmethod(id)\n",
    "    if not items:\n",
    "        print(\"No position\")\n",
    "    else:\n",
    "        datas = items.json()['Payment_Method_Percentage']\n",
    "            \n",
    "        # ** x axis values\n",
    "        x = [str(method['paymentmethod']) for method in datas]\n",
    "        # ** y axis values\n",
    "        y = [float(percentage['reservation percentage']) for percentage in datas]\n",
    "            \n",
    "        # ** creating the bar plot\n",
    "        plt.bar(x, y, color='black')\n",
    "            \n",
    "        plt.ylim(0, max(y)+5)\n",
    "            \n",
    "        # ** naming the x-axis\n",
    "        plt.xlabel('x - axis = Payment Method')\n",
    "        # ** naming the y-axis\n",
    "        plt.ylabel('y - axis = Reservation Percentage')\n",
    "            \n",
    "        # ** giving a title to my graph\n",
    "        plt.title('Total reservation percentage by payment method')\n",
    "            \n",
    "        # ** Tight layout to avoid overlap\n",
    "        plt.tight_layout()\n",
    "            \n",
    "        # ** function to show the plot\n",
    "        plt.show()\n",
    "        \n",
    "        # ** See data\n",
    "        json_str = json.dumps(datas, indent=2)\n",
    "        lines = json_str.split('\\n')\n",
    "        for line in lines:\n",
    "            print(line)\n",
    "# \n",
    "# print(user.eid)\n",
    "# print(user.position)\n",
    "# print(user.hotel_id)\n",
    "# if user.eid == 3:\n",
    " #   display(PaymentMethod(user.eid))"
   ]
  },
  {
   "cell_type": "code",
   "execution_count": null,
   "id": "797e6c03199e3227",
   "metadata": {},
   "outputs": [],
   "source": [
    "####################### /least/rooms ##########################"
   ]
  },
  {
   "cell_type": "code",
   "execution_count": null,
   "id": "c982a69c1bafa993",
   "metadata": {},
   "outputs": [],
   "source": [
    "####################### /most/capacity ##########################"
   ]
  },
  {
   "cell_type": "code",
   "execution_count": null,
   "id": "7d0632830eecc700",
   "metadata": {},
   "outputs": [],
   "source": [
    "####################### /most/reservation ##########################"
   ]
  },
  {
   "cell_type": "code",
   "execution_count": null,
   "id": "c9c22352f88b8f1b",
   "metadata": {},
   "outputs": [],
   "source": [
    "####################### /most/profitmonth ##########################"
   ]
  },
  {
   "cell_type": "markdown",
   "id": "3952da3e6824b88e",
   "metadata": {},
   "source": [
    "## Locales"
   ]
  },
  {
   "cell_type": "code",
   "execution_count": null,
   "id": "a63c39e7d16205e4",
   "metadata": {},
   "outputs": [],
   "source": [
    "####################### handicaproom ##########################"
   ]
  },
  {
   "cell_type": "code",
   "execution_count": null,
   "id": "4d5fbb3a7eed338b",
   "metadata": {},
   "outputs": [],
   "source": [
    "####################### leastreserve ##########################"
   ]
  },
  {
   "cell_type": "code",
   "execution_count": null,
   "id": "75aae0c97c8fdb6b",
   "metadata": {},
   "outputs": [],
   "source": [
    "####################### mostcreditcard ##########################"
   ]
  },
  {
   "cell_type": "code",
   "execution_count": null,
   "id": "2ee6354f881c5a8d",
   "metadata": {},
   "outputs": [],
   "source": [
    "####################### highestpaid ##########################"
   ]
  },
  {
   "cell_type": "code",
   "execution_count": null,
   "id": "c6a78c80bcb5c34e",
   "metadata": {},
   "outputs": [],
   "source": [
    "####################### mostdiscount ##########################"
   ]
  },
  {
   "cell_type": "code",
   "execution_count": null,
   "id": "ef3bce23ec633d74",
   "metadata": {
    "ExecuteTime": {
     "end_time": "2024-05-12T22:36:04.277693Z",
     "start_time": "2024-05-12T22:36:04.214494Z"
    }
   },
   "outputs": [],
   "source": [
    "####################### roomtype ##########################\n",
    "def RoomType(id):\n",
    "    def graph():\n",
    "        items = see_roomtype(hid.value, id)\n",
    "        datas = items.json()['Total_Hotel_Reserves']\n",
    "        \n",
    "        x = [str(types['room type']) for types in datas]\n",
    "        y = [int(reserves['total reserves']) for reserves in datas]\n",
    "        \n",
    "        plt.bar(x, y, color='black')\n",
    "        \n",
    "        plt.ylim(0, max(y)+5)\n",
    "        \n",
    "        plt.xlabel('x - axis = Room Types')\n",
    "        plt.ylabel('y - axis = Total Reserves')\n",
    "        plt.title('Total reservation by room type')\n",
    "        plt.show()\n",
    "        \n",
    "        # ** See data\n",
    "        json_str = json.dumps(datas, indent=2)\n",
    "        lines = json_str.split('\\n')\n",
    "        for line in lines:\n",
    "            print(line)\n",
    "\n",
    "    def see_button(b):\n",
    "        with output:\n",
    "            roomtypes = see_roomtype(hid.value, id)\n",
    "            if roomtypes.status_code == 200:\n",
    "                output.clear_output()\n",
    "                graph()\n",
    "            elif roomtypes.status_code == 404:\n",
    "                output.clear_output()\n",
    "                print(\"Hotel ID invalid\")\n",
    "            elif roomtypes.status_code == 400:\n",
    "                output.clear_output()\n",
    "                print(\"Invalid Data\")\n",
    "            else:\n",
    "                output.clear_output()\n",
    "                print(\"Error\")\n",
    "\n",
    "    hid = BoundedIntText(min=-1,step=1, description=\"Hotel ID\")\n",
    "    # hidselect = widgets.Select(options=)\n",
    "    see_roomtype_button = Button(description=\"See Room Types\")\n",
    "    see_roomtype_button.on_click(see_button)\n",
    "    \n",
    "    create_box = VBox([hid, see_roomtype_button])\n",
    "    display(create_box)\n",
    "    \n",
    "    output = Output()\n",
    "    display(output)\n",
    "    \n",
    "id = 3   \n",
    "# display(RoomType(id))"
   ]
  },
  {
   "cell_type": "code",
   "execution_count": null,
   "id": "63bf5936b51c09ba",
   "metadata": {},
   "outputs": [],
   "source": [
    "####################### leastguests ##########################"
   ]
  }
 ],
 "metadata": {
  "kernelspec": {
   "display_name": "Python 3 (ipykernel)",
   "language": "python",
   "name": "python3"
  },
  "language_info": {
   "codemirror_mode": {
    "name": "ipython",
    "version": 3
   },
   "file_extension": ".py",
   "mimetype": "text/x-python",
   "name": "python",
   "nbconvert_exporter": "python",
   "pygments_lexer": "ipython3",
   "version": "3.12.2"
  }
 },
 "nbformat": 4,
 "nbformat_minor": 5
}
