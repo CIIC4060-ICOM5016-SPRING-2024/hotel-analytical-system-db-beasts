{
 "cells": [
  {
   "metadata": {
    "ExecuteTime": {
     "end_time": "2024-05-08T05:55:19.971838Z",
     "start_time": "2024-05-08T05:55:19.844219Z"
    }
   },
   "cell_type": "code",
   "source": [
    "from IPython.core.display_functions import clear_output\n",
    "import ipywidgets as widgets\n",
    "from IPython.display import display, HTML\n",
    "from ipywidgets import HBox, VBox\n",
    "\n",
    "from dashboard_requests import *"
   ],
   "id": "ba08bb17f4a88585",
   "outputs": [],
   "execution_count": 1
  },
  {
   "metadata": {
    "ExecuteTime": {
     "end_time": "2024-05-08T05:55:19.976630Z",
     "start_time": "2024-05-08T05:55:19.972836Z"
    }
   },
   "cell_type": "code",
   "source": [
    "header_text = widgets.HTML(\"<h1 style='text-align: center; color: white; background-color: #333; width: 100%; margin: 0; \"\n",
    "                           \"padding: 15px 0;'>Hotel Analytics Systems by DB Beasts</h1>\"\n",
    "                           \"<h1 style='text-align: center; color: white; background-color: #333; width: 100%; margin: 0; \"\n",
    "                           \"padding: 15px 0;'>FRONTEND</h1>\")"
   ],
   "id": "fe513dae7343f7f5",
   "outputs": [],
   "execution_count": 2
  },
  {
   "metadata": {
    "ExecuteTime": {
     "end_time": "2024-05-08T05:55:19.982361Z",
     "start_time": "2024-05-08T05:55:19.977625Z"
    }
   },
   "cell_type": "code",
   "source": [
    "def CreateChain():\n",
    "    with output1:\n",
    "        %run notebooks/crud/chains/createchain.ipynb\n",
    "    # response = widgets.HTML(value='')\n",
    "    # return response\n",
    "\n",
    "def UpdateChain():\n",
    "    %run notebooks/crud/chains/updatechain.ipynb\n",
    "    # response = widgets.HTML(value='')\n",
    "    # return response\n",
    "\n",
    "def CreateHotel():\n",
    "    %run notebooks/crud/hotel/createhotel.ipynb\n",
    "    # response = widgets.HTML(value='')\n",
    "    # return response\n",
    "\n",
    "def UpdateHotel():\n",
    "    %run notebooks/crud/hotel/updatehotel.ipynb\n",
    "    # response = widgets.HTML(value='')\n",
    "    # return response"
   ],
   "id": "6267f0c330cd1204",
   "outputs": [],
   "execution_count": 3
  },
  {
   "metadata": {
    "ExecuteTime": {
     "end_time": "2024-05-08T05:55:19.988202Z",
     "start_time": "2024-05-08T05:55:19.983350Z"
    }
   },
   "cell_type": "code",
   "source": [
    "# ** Switch between log in and sign in input credentials\n",
    "def change_view1(button):\n",
    "    with output:\n",
    "        clear_output()\n",
    "        if button.description == 'Sign Up':\n",
    "            button.description = 'Log In'\n",
    "            login_box.children = [employee_id, first_name, last_name, username, password, sign_up_button]\n",
    "        else:\n",
    "            button.description = 'Sign Up'\n",
    "            login_box.children = [username, password, login_button]\n",
    "            \n",
    "def change_view2(button):\n",
    "    with output:\n",
    "        clear_output()\n",
    "        login_box.children = [username, password, login_button]\n",
    "        toggle_button.description = 'Sign Up'\n",
    "        toggle_button.layout.visibility = 'visible'\n",
    "        access.disabled = True\n",
    "        with output1: clear_output()"
   ],
   "id": "9a9b9e9d78b06018",
   "outputs": [],
   "execution_count": 4
  },
  {
   "metadata": {
    "ExecuteTime": {
     "end_time": "2024-05-08T05:55:19.994100Z",
     "start_time": "2024-05-08T05:55:19.988202Z"
    }
   },
   "cell_type": "code",
   "source": [
    "# ** Login Credentials\n",
    "def login(button):\n",
    "    # ** Login Logic\n",
    "    with output:\n",
    "        response = Check_Login(username.value, password.value)\n",
    "        if response.status_code == 200:  # Check if the request was successful\n",
    "            clear_output()\n",
    "            print(f\"Login successful.\")\n",
    "            login_box.children = [username, password, logout_button]\n",
    "            toggle_button.layout.visibility = 'hidden'\n",
    "            access(response)\n",
    "        else:\n",
    "            clear_output()\n",
    "            print(f\"Login failed. Please try again. username: {username.value}, password: {password.value}\")\n",
    "\n",
    "# ** Signup Credentials\n",
    "def signup(button):\n",
    "    # ** Signup Logic\n",
    "    with output:\n",
    "        employee = Check_Employee(employee_id.value, first_name.value, last_name.value)\n",
    "        if employee.status_code == 200:\n",
    "            post_login = Post_Login(employee_id.value, username.value, password.value)\n",
    "            if post_login.status_code == 201:\n",
    "                clear_output()\n",
    "                print(f\"Sign up successful, Welcome!\")\n",
    "                login_box.children = [username, password, logout_button]\n",
    "                toggle_button.layout.visibility = 'hidden'\n",
    "            elif post_login.status_code == 400:\n",
    "                clear_output()\n",
    "                print(f\"Employee have account\")\n",
    "            else:\n",
    "                clear_output()\n",
    "                print(f\"Username exist.\")\n",
    "        else:\n",
    "            clear_output()\n",
    "            print(f\"Employee does not exist. {employee_id.value}, {first_name.value}, {last_name.value}\")"
   ],
   "id": "a72a3448678deff4",
   "outputs": [],
   "execution_count": 5
  },
  {
   "metadata": {
    "ExecuteTime": {
     "end_time": "2024-05-08T05:55:20.005178Z",
     "start_time": "2024-05-08T05:55:19.994100Z"
    }
   },
   "cell_type": "code",
   "source": [
    "# ** Login Widgets\n",
    "username = widgets.Text(placeholder=\"---\", description='Username')\n",
    "password = widgets.Password(placeholder=\"---\", description='Password')\n",
    "login_button = widgets.Button(description=\"Log In\")\n",
    "login_button.on_click(login)\n",
    "\n",
    "# ** Sigin Widgets\n",
    "employee_id = widgets.Text(placeholder=\"---\", description='Employee ID')\n",
    "first_name = widgets.Text(placeholder=\"---\", description='First Name')\n",
    "last_name = widgets.Text(placeholder=\"---\", description='Last Name')\n",
    "sign_up_button = widgets.Button(description=\"Sign Up\")\n",
    "sign_up_button.on_click(signup)\n",
    "\n",
    "logout_button = widgets.Button(description=\"Log Out\")\n",
    "logout_button.on_click(change_view2)"
   ],
   "id": "2d87ebb77602ea0a",
   "outputs": [],
   "execution_count": 6
  },
  {
   "metadata": {},
   "cell_type": "code",
   "source": [
    "# ** Initial State\n",
    "login_box = widgets.VBox([username, password, login_button])\n",
    "\n",
    "# ** Switch between log in and sign in credentials\n",
    "toggle_button = widgets.Button(description=\"Sign Up\")\n",
    "toggle_button.on_click(change_view1)"
   ],
   "id": "84b8f5110853b6ac",
   "outputs": [],
   "execution_count": 7
  },
  {
   "metadata": {},
   "cell_type": "code",
   "source": [
    "def access(logins):\n",
    "    # with output:\n",
    "        with output1:\n",
    "            clear_output()\n",
    "            eid = logins.json()['Login']['eid']\n",
    "            employee = Get_Employee(eid).json()['Employee']\n",
    "            fname = employee['fname']\n",
    "            lname = employee['lname']\n",
    "            # print(employee)\n",
    "            welcome = widgets.HTML(f\"<p style='font-size:24px;'>Welcome {fname} {lname}!</p>\")\n",
    "            display(welcome)\n",
    "            position = employee['position']\n",
    "            # access_box = widgets.VBox([])\n",
    "            if position == 'Regular':\n",
    "                pass\n",
    "            elif position == 'Supervisor':\n",
    "                pass\n",
    "            elif position == 'Administrator':\n",
    "                accessAdministrator()\n",
    "            #     createchain = CreateChain()\n",
    "            #     updatechain = UpdateChain()\n",
    "            #     createhotel = CreateHotel()\n",
    "            #     updatehotel = UpdateHotel()\n",
    "            #     access_box.children = [createchain, updatechain, createhotel, updatehotel]\n",
    "            #     \n",
    "            # display(access_box)\n",
    "        "
   ],
   "id": "1b647961800e8e1d",
   "outputs": [],
   "execution_count": 8
  },
  {
   "metadata": {},
   "cell_type": "code",
   "source": "display(header_text)",
   "id": "d5e6c1bde17f1606",
   "outputs": [
    {
     "data": {
      "text/plain": [
       "HTML(value=\"<h1 style='text-align: center; color: white; background-color: #333; width: 100%; margin: 0; paddi…"
      ],
      "application/vnd.jupyter.widget-view+json": {
       "version_major": 2,
       "version_minor": 0,
       "model_id": "f26a91367b41437aa1ebe6eeac01b3ce"
      }
     },
     "metadata": {},
     "output_type": "display_data"
    }
   ],
   "execution_count": 9
  },
  {
   "metadata": {
    "ExecuteTime": {
     "end_time": "2024-05-08T05:55:20.030166Z",
     "start_time": "2024-05-08T05:55:20.025255Z"
    }
   },
   "cell_type": "code",
   "source": [
    "output = widgets.Output()\n",
    "display(output)"
   ],
   "id": "b4eddcb175e997b3",
   "outputs": [
    {
     "data": {
      "text/plain": [
       "Output()"
      ],
      "application/vnd.jupyter.widget-view+json": {
       "version_major": 2,
       "version_minor": 0,
       "model_id": "dd2621e7987a456da4cb50062ed3467f"
      }
     },
     "metadata": {},
     "output_type": "display_data"
    }
   ],
   "execution_count": 10
  },
  {
   "metadata": {
    "ExecuteTime": {
     "end_time": "2024-05-08T05:55:20.036134Z",
     "start_time": "2024-05-08T05:55:20.031134Z"
    }
   },
   "cell_type": "code",
   "source": [
    "display(login_box)\n",
    "display(toggle_button)"
   ],
   "id": "a88fc7576d1dd0c3",
   "outputs": [
    {
     "data": {
      "text/plain": [
       "VBox(children=(Text(value='', description='Username', placeholder='---'), Password(description='Password', pla…"
      ],
      "application/vnd.jupyter.widget-view+json": {
       "version_major": 2,
       "version_minor": 0,
       "model_id": "07a99ca8ed7f4ccf8a39f888b9c1a7e0"
      }
     },
     "metadata": {},
     "output_type": "display_data"
    },
    {
     "data": {
      "text/plain": [
       "Button(description='Sign Up', style=ButtonStyle())"
      ],
      "application/vnd.jupyter.widget-view+json": {
       "version_major": 2,
       "version_minor": 0,
       "model_id": "b29c707878944dc2b22581718ae13c6d"
      }
     },
     "metadata": {},
     "output_type": "display_data"
    }
   ],
   "execution_count": 11
  },
  {
   "metadata": {},
   "cell_type": "code",
   "outputs": [],
   "execution_count": null,
   "source": [
    "# intento = \"\"\"\n",
    "# <html>\n",
    "# <head>\n",
    "# <title>Font Awesome Icons</title>\n",
    "# <meta name=\"viewport\" content=\"width=device-width, initial-scale=1\">\n",
    "# <link rel=\"stylesheet\" href=\"https://cdnjs.cloudflare.com/ajax/libs/font-awesome/4.7.0/css/font-awesome.min.css\">\n",
    "# </head>\n",
    "# <body>\n",
    "# \n",
    "# <p>Loading:</p>\n",
    "# <i class=\"fa fa-spinner fa-spin\" style=\"font-size:24px\"></i>\n",
    "# \n",
    "# </body>\n",
    "# </html> \n",
    "# \"\"\"\n",
    "# \n",
    "# # display(HTML(intento))"
   ],
   "id": "64ec8ed7d40d6071"
  },
  {
   "metadata": {
    "ExecuteTime": {
     "end_time": "2024-05-08T05:55:20.041736Z",
     "start_time": "2024-05-08T05:55:20.036134Z"
    }
   },
   "cell_type": "code",
   "source": [
    "file = open(\"fondo.png\", \"rb\")\n",
    "image = file.read()\n",
    "fondo = widgets.Image(value=image)"
   ],
   "id": "6d28c40ee9b7b9ce",
   "outputs": [
    {
     "data": {
      "text/plain": [
       "Image(value=b'\\xff\\xd8\\xff\\xe0\\x00\\x10JFIF\\x00\\x01\\x01\\x01\\x00`\\x00`\\x00\\x00\\xff\\xdb\\x00C\\x00\\x03\\x02\\x02\\x03\\…"
      ],
      "application/vnd.jupyter.widget-view+json": {
       "version_major": 2,
       "version_minor": 0,
       "model_id": "67039532bf5c4f3c866fcda76b270c3e"
      }
     },
     "execution_count": 12,
     "metadata": {},
     "output_type": "execute_result"
    }
   ],
   "execution_count": 12
  },
  {
   "metadata": {
    "ExecuteTime": {
     "end_time": "2024-05-08T05:55:20.047253Z",
     "start_time": "2024-05-08T05:55:20.042735Z"
    }
   },
   "cell_type": "code",
   "source": [
    "output1 = widgets.Output()\n",
    "display(output1)"
   ],
   "id": "d6dfe4fd852cfc5d",
   "outputs": [
    {
     "data": {
      "text/plain": [
       "Output()"
      ],
      "application/vnd.jupyter.widget-view+json": {
       "version_major": 2,
       "version_minor": 0,
       "model_id": "180320d06a754f059a6dcda8d8e848ec"
      }
     },
     "metadata": {},
     "output_type": "display_data"
    }
   ],
   "execution_count": 13
  },
  {
   "metadata": {
    "ExecuteTime": {
     "end_time": "2024-05-08T05:55:20.050957Z",
     "start_time": "2024-05-08T05:55:20.048250Z"
    }
   },
   "cell_type": "code",
   "source": [
    "def accessAdministrator():\n",
    "    CreateChain()\n",
    "    UpdateChain()\n",
    "    CreateHotel()\n",
    "    UpdateHotel()"
   ],
   "id": "27148ff001dad8c6",
   "outputs": [],
   "execution_count": 14
  }
 ],
 "metadata": {
  "kernelspec": {
   "display_name": "Python 3",
   "language": "python",
   "name": "python3"
  },
  "language_info": {
   "codemirror_mode": {
    "name": "ipython",
    "version": 2
   },
   "file_extension": ".py",
   "mimetype": "text/x-python",
   "name": "python",
   "nbconvert_exporter": "python",
   "pygments_lexer": "ipython2",
   "version": "2.7.6"
  }
 },
 "nbformat": 4,
 "nbformat_minor": 5
}
