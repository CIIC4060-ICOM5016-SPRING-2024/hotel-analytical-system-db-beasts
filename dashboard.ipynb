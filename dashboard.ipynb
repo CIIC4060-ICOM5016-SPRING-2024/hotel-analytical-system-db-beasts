{
 "cells": [
  {
   "metadata": {
    "ExecuteTime": {
     "end_time": "2024-04-27T01:50:48.276007Z",
     "start_time": "2024-04-27T01:50:48.272254Z"
    }
   },
   "cell_type": "code",
   "source": [
    "from config.db import DatabaseOption\n",
    "from IPython.core.display_functions import clear_output\n",
    "import ipywidgets as widgets\n",
    "from IPython.display import display\n",
    "import requests"
   ],
   "id": "ba08bb17f4a88585",
   "outputs": [],
   "execution_count": 16
  },
  {
   "metadata": {
    "ExecuteTime": {
     "end_time": "2024-04-27T01:50:48.285257Z",
     "start_time": "2024-04-27T01:50:48.281014Z"
    }
   },
   "cell_type": "code",
   "source": "header_text = widgets.HTML(\"<h1 style='text-align: center; color: white; background-color: #333; width: 100%; margin: 0; padding: 15px 0;'>Hotel Analytics Systems by DB Beasts</h1>\")",
   "id": "fe513dae7343f7f5",
   "outputs": [],
   "execution_count": 17
  },
  {
   "metadata": {
    "ExecuteTime": {
     "end_time": "2024-04-27T01:50:48.297453Z",
     "start_time": "2024-04-27T01:50:48.294265Z"
    }
   },
   "cell_type": "code",
   "source": [
    "def CreateChain():\n",
    "    %run notebooks/crud/chains/createchain.ipynb"
   ],
   "id": "6267f0c330cd1204",
   "outputs": [],
   "execution_count": 18
  },
  {
   "metadata": {
    "ExecuteTime": {
     "end_time": "2024-04-27T01:50:48.323512Z",
     "start_time": "2024-04-27T01:50:48.320011Z"
    }
   },
   "cell_type": "code",
   "source": [
    "def Check_Login(username, password):\n",
    "    flask_url = 0\n",
    "    if DatabaseOption() == 'd':\n",
    "        flask_url = \"http://127.0.0.1:5000/db-beasts/login/voila\"\n",
    "    elif DatabaseOption() == 'h':\n",
    "        flask_url = \"https://db-beasts-7827ce232282.herokuapp.com/db-beasts/login/voila\"\n",
    "    credentials = {'username': username, 'password': password}\n",
    "    response = requests.post(flask_url, json=credentials)\n",
    "    return response"
   ],
   "id": "b4cbf46512796b91",
   "outputs": [],
   "execution_count": 19
  },
  {
   "metadata": {
    "ExecuteTime": {
     "end_time": "2024-04-27T01:50:48.327217Z",
     "start_time": "2024-04-27T01:50:48.324521Z"
    }
   },
   "cell_type": "code",
   "source": [
    "def Check_Employee(eid, fname, lastname):\n",
    "    flask_url = 0\n",
    "    if DatabaseOption() == 'd':\n",
    "        flask_url = \"http://127.0.0.1:5000/db-beasts/employee/voila\"\n",
    "    elif DatabaseOption() == 'h':\n",
    "        flask_url = \"https://db-beasts-7827ce232282.herokuapp.com/db-beasts/employee/voila\"\n",
    "    data = {'eid': eid, 'fname': fname, 'lname': lastname}\n",
    "    response = requests.post(flask_url, json=data)\n",
    "    return response"
   ],
   "id": "3006711f5e78d1eb",
   "outputs": [],
   "execution_count": 20
  },
  {
   "metadata": {
    "ExecuteTime": {
     "end_time": "2024-04-27T01:50:48.342191Z",
     "start_time": "2024-04-27T01:50:48.339224Z"
    }
   },
   "cell_type": "code",
   "source": [
    "def Post_Login(eid, username, password):\n",
    "    flask_url = 0\n",
    "    if DatabaseOption() == 'd':\n",
    "        flask_url = \"http://127.0.0.1:5000/db-beasts/login\"\n",
    "    elif DatabaseOption() == 'h':\n",
    "        flask_url = \"https://db-beasts-7827ce232282.herokuapp.com/db-beasts/login\"\n",
    "    data = {'eid': eid, 'username': username, 'password': password}\n",
    "    response = requests.post(flask_url, json=data)\n",
    "    return response"
   ],
   "id": "2419ffc76d4ee066",
   "outputs": [],
   "execution_count": 21
  },
  {
   "metadata": {
    "ExecuteTime": {
     "end_time": "2024-04-27T01:50:48.373128Z",
     "start_time": "2024-04-27T01:50:48.370199Z"
    }
   },
   "cell_type": "code",
   "source": [
    "def Get_Employee(eid):\n",
    "    flask_url = 0\n",
    "    if DatabaseOption() == 'd':\n",
    "        flask_url = f\"http://127.0.0.1:5000/db-beasts/employee/{eid}\"\n",
    "    elif DatabaseOption() == 'h':\n",
    "        flask_url = f\"https://db-beasts-7827ce232282.herokuapp.com/db-beasts/employee/{eid}\"\n",
    "    response = requests.get(flask_url)\n",
    "    return response"
   ],
   "id": "4247a2f34cce1f91",
   "outputs": [],
   "execution_count": 22
  },
  {
   "metadata": {
    "ExecuteTime": {
     "end_time": "2024-04-27T01:50:48.389237Z",
     "start_time": "2024-04-27T01:50:48.385682Z"
    }
   },
   "cell_type": "code",
   "source": [
    "# ** Switch between log in and sign in input credentials\n",
    "def change_view1(button):\n",
    "    with output:\n",
    "        clear_output()\n",
    "        if button.description == 'Sign Up':\n",
    "            button.description = 'Log In'\n",
    "            login_box.children = [employee_id, first_name, last_name, username, password, sign_up_button]\n",
    "        else:\n",
    "            button.description = 'Sign Up'\n",
    "            login_box.children = [username, password, login_button]\n",
    "            \n",
    "def change_view2(button):\n",
    "    with output:\n",
    "        clear_output()\n",
    "        login_box.children = [username, password, login_button]\n",
    "        toggle_button.description = 'Sign Up'\n",
    "        toggle_button.layout.visibility = 'visible'\n",
    "        access.disabled = True\n",
    "        with output1: clear_output()"
   ],
   "id": "9a9b9e9d78b06018",
   "outputs": [],
   "execution_count": 23
  },
  {
   "metadata": {
    "ExecuteTime": {
     "end_time": "2024-04-27T01:50:48.394427Z",
     "start_time": "2024-04-27T01:50:48.390244Z"
    }
   },
   "cell_type": "code",
   "source": [
    "# ** Login Credentials\n",
    "def login(button):\n",
    "    # ** Login Logic\n",
    "    with output:\n",
    "        response = Check_Login(username.value, password.value)\n",
    "        if response.status_code == 200:  # Check if the request was successful\n",
    "            clear_output()\n",
    "            print(f\"Login successful.\")\n",
    "            login_box.children = [username, password, logout_button]\n",
    "            toggle_button.layout.visibility = 'hidden'\n",
    "            access(response)\n",
    "        else:\n",
    "            clear_output()\n",
    "            print(f\"Login failed. Please try again. username: {username.value}, password: {password.value}\")\n",
    "\n",
    "# ** Signup Credentials\n",
    "def signup(button):\n",
    "    # ** Signup Logic\n",
    "    with output:\n",
    "        employee = Check_Employee(employee_id.value, first_name.value, last_name.value)\n",
    "        if employee.status_code == 200:\n",
    "            post_login = Post_Login(employee_id.value, username.value, password.value)\n",
    "            if post_login.status_code == 201:\n",
    "                clear_output()\n",
    "                print(f\"Sign up successful, Welcome!\")\n",
    "                login_box.children = [username, password, logout_button]\n",
    "                toggle_button.layout.visibility = 'hidden'\n",
    "            elif post_login.status_code == 400:\n",
    "                clear_output()\n",
    "                print(f\"Employee have account\")\n",
    "            else:\n",
    "                clear_output()\n",
    "                print(f\"Username exist.\")\n",
    "        else:\n",
    "            clear_output()\n",
    "            print(f\"Employee does not exist. {employee_id.value}, {first_name.value}, {last_name.value}\")"
   ],
   "id": "a72a3448678deff4",
   "outputs": [],
   "execution_count": 24
  },
  {
   "metadata": {
    "ExecuteTime": {
     "end_time": "2024-04-27T01:50:48.410589Z",
     "start_time": "2024-04-27T01:50:48.400434Z"
    }
   },
   "cell_type": "code",
   "source": [
    "# ** Login Widgets\n",
    "username = widgets.Text(placeholder='Username')\n",
    "password = widgets.Password(placeholder='Password')\n",
    "login_button = widgets.Button(description=\"Log In\")\n",
    "login_button.on_click(login)\n",
    "\n",
    "# ** Sigin Widgets\n",
    "employee_id = widgets.Text(placeholder='Employee ID')\n",
    "first_name = widgets.Text(placeholder='First Name')\n",
    "last_name = widgets.Text(placeholder='Last Name')\n",
    "sign_up_button = widgets.Button(description=\"Sign Up\")\n",
    "sign_up_button.on_click(signup)\n",
    "\n",
    "logout_button = widgets.Button(description=\"Log Out\")\n",
    "logout_button.on_click(change_view2)"
   ],
   "id": "2d87ebb77602ea0a",
   "outputs": [],
   "execution_count": 25
  },
  {
   "metadata": {
    "ExecuteTime": {
     "end_time": "2024-04-27T01:50:48.428590Z",
     "start_time": "2024-04-27T01:50:48.423599Z"
    }
   },
   "cell_type": "code",
   "source": [
    "# ** Initial State\n",
    "login_box = widgets.VBox([username, password, login_button])\n",
    "\n",
    "# ** Switch between log in and sign in credentials\n",
    "toggle_button = widgets.Button(description=\"Sign Up\")\n",
    "toggle_button.on_click(change_view1)"
   ],
   "id": "84b8f5110853b6ac",
   "outputs": [],
   "execution_count": 26
  },
  {
   "metadata": {
    "ExecuteTime": {
     "end_time": "2024-04-27T01:50:48.442686Z",
     "start_time": "2024-04-27T01:50:48.438599Z"
    }
   },
   "cell_type": "code",
   "source": [
    "def access(logins):\n",
    "    with output1:\n",
    "        clear_output()\n",
    "        eid = logins.json()['Login']['eid']\n",
    "        employee = Get_Employee(eid).json()['Employee']\n",
    "        fname = employee['fname']\n",
    "        lname = employee['lname']\n",
    "        # print(employee)\n",
    "        print(f\"Welcome {fname} {lname}\")\n",
    "        position = employee['position']\n",
    "        access_box = widgets.HBox()\n",
    "        if position == 'Regular':\n",
    "            pass\n",
    "        elif position == 'Supervisor':\n",
    "            pass\n",
    "        elif position == 'Administrator':\n",
    "            createchain = CreateChain()\n",
    "            access_box.children = [createchain]\n",
    "        \n",
    "        # Display the HBox only if it has children\n",
    "        if len(access_box.children) > 0:\n",
    "            display(access_box)\n",
    "        "
   ],
   "id": "1b647961800e8e1d",
   "outputs": [],
   "execution_count": 27
  },
  {
   "metadata": {
    "ExecuteTime": {
     "end_time": "2024-04-27T01:50:48.447045Z",
     "start_time": "2024-04-27T01:50:48.443693Z"
    }
   },
   "cell_type": "code",
   "source": "display(header_text)",
   "id": "d5e6c1bde17f1606",
   "outputs": [
    {
     "data": {
      "text/plain": [
       "HTML(value=\"<h1 style='text-align: center; color: white; background-color: #333; width: 100%; margin: 0; paddi…"
      ],
      "application/vnd.jupyter.widget-view+json": {
       "version_major": 2,
       "version_minor": 0,
       "model_id": "bda167324546486daf40527b634348f5"
      }
     },
     "metadata": {},
     "output_type": "display_data"
    }
   ],
   "execution_count": 28
  },
  {
   "metadata": {
    "ExecuteTime": {
     "end_time": "2024-04-27T01:50:48.471648Z",
     "start_time": "2024-04-27T01:50:48.467053Z"
    }
   },
   "cell_type": "code",
   "source": [
    "output = widgets.Output()\n",
    "display(output)"
   ],
   "id": "b4eddcb175e997b3",
   "outputs": [
    {
     "data": {
      "text/plain": [
       "Output()"
      ],
      "application/vnd.jupyter.widget-view+json": {
       "version_major": 2,
       "version_minor": 0,
       "model_id": "7b32ae39b4694ec2bb6dae9e3c0fb136"
      }
     },
     "metadata": {},
     "output_type": "display_data"
    }
   ],
   "execution_count": 29
  },
  {
   "metadata": {
    "ExecuteTime": {
     "end_time": "2024-04-27T01:50:48.489542Z",
     "start_time": "2024-04-27T01:50:48.483657Z"
    }
   },
   "cell_type": "code",
   "source": "display(login_box)",
   "id": "a88fc7576d1dd0c3",
   "outputs": [
    {
     "data": {
      "text/plain": [
       "VBox(children=(Text(value='', placeholder='Username'), Password(placeholder='Password'), Button(description='L…"
      ],
      "application/vnd.jupyter.widget-view+json": {
       "version_major": 2,
       "version_minor": 0,
       "model_id": "710d4a4b44d442a2a811654d60349855"
      }
     },
     "metadata": {},
     "output_type": "display_data"
    },
    {
     "data": {
      "text/plain": [
       "Button(description='Sign Up', style=ButtonStyle())"
      ],
      "application/vnd.jupyter.widget-view+json": {
       "version_major": 2,
       "version_minor": 0,
       "model_id": "a53c61b78ee94ffc954b90ee2ce8c2b6"
      }
     },
     "metadata": {},
     "output_type": "display_data"
    }
   ],
   "execution_count": 30
  },
  {
   "metadata": {
    "ExecuteTime": {
     "end_time": "2024-04-27T01:50:48.504688Z",
     "start_time": "2024-04-27T01:50:48.500553Z"
    }
   },
   "cell_type": "code",
   "source": [
    "output1 = widgets.Output()\n",
    "display(output1)"
   ],
   "id": "d6dfe4fd852cfc5d",
   "outputs": [
    {
     "data": {
      "text/plain": [
       "Output()"
      ],
      "application/vnd.jupyter.widget-view+json": {
       "version_major": 2,
       "version_minor": 0,
       "model_id": "20ac69aec1cc4ec496c0c9973182df9a"
      }
     },
     "metadata": {},
     "output_type": "display_data"
    }
   ],
   "execution_count": 31
  }
 ],
 "metadata": {
  "kernelspec": {
   "display_name": "Python 3",
   "language": "python",
   "name": "python3"
  },
  "language_info": {
   "codemirror_mode": {
    "name": "ipython",
    "version": 2
   },
   "file_extension": ".py",
   "mimetype": "text/x-python",
   "name": "python",
   "nbconvert_exporter": "python",
   "pygments_lexer": "ipython2",
   "version": "2.7.6"
  }
 },
 "nbformat": 4,
 "nbformat_minor": 5
}
