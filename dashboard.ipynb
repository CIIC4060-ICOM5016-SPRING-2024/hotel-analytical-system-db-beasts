{
 "cells": [
  {
   "metadata": {
    "ExecuteTime": {
     "end_time": "2024-04-29T22:31:51.025668Z",
     "start_time": "2024-04-29T22:31:50.890831Z"
    }
   },
   "cell_type": "code",
   "source": [
    "from config.db import DatabaseOption\n",
    "from IPython.core.display_functions import clear_output\n",
    "import ipywidgets as widgets\n",
    "from IPython.display import display\n",
    "import requests"
   ],
   "id": "ba08bb17f4a88585",
   "outputs": [],
   "execution_count": 1
  },
  {
   "metadata": {
    "ExecuteTime": {
     "end_time": "2024-04-29T22:31:51.031449Z",
     "start_time": "2024-04-29T22:31:51.026667Z"
    }
   },
   "cell_type": "code",
   "source": [
    "header_text = widgets.HTML(\"<h1 style='text-align: center; color: white; background-color: #333; width: 100%; margin: 0; \"\n",
    "            \"padding: 15px 0;'>Hotel Analytics Systems by DB Beasts</h1>\"\n",
    "            \"<h1 style='text-align: center; color: white; background-color: #333; width: 100%; margin: 0; \"\n",
    "            \"padding: 15px 0;'>FRONTEND</h1>\")"
   ],
   "id": "fe513dae7343f7f5",
   "outputs": [],
   "execution_count": 2
  },
  {
   "metadata": {
    "ExecuteTime": {
     "end_time": "2024-04-29T22:31:51.035436Z",
     "start_time": "2024-04-29T22:31:51.032449Z"
    }
   },
   "cell_type": "code",
   "source": [
    "def CreateChain():\n",
    "    %run notebooks/crud/chains/createchain.ipynb"
   ],
   "id": "6267f0c330cd1204",
   "outputs": [],
   "execution_count": 3
  },
  {
   "metadata": {
    "ExecuteTime": {
     "end_time": "2024-04-29T22:31:51.039818Z",
     "start_time": "2024-04-29T22:31:51.036431Z"
    }
   },
   "cell_type": "code",
   "source": [
    "def Check_Login(username, password):\n",
    "    flask_url = 0\n",
    "    if DatabaseOption() == 'd':\n",
    "        flask_url = \"http://127.0.0.1:5000/db-beasts/login/voila\"\n",
    "    elif DatabaseOption() == 'h':\n",
    "        flask_url = \"https://db-beasts-7827ce232282.herokuapp.com/db-beasts/login/voila\"\n",
    "    credentials = {'username': username, 'password': password}\n",
    "    response = requests.post(flask_url, json=credentials)\n",
    "    return response"
   ],
   "id": "b4cbf46512796b91",
   "outputs": [],
   "execution_count": 4
  },
  {
   "metadata": {
    "ExecuteTime": {
     "end_time": "2024-04-29T22:31:51.045068Z",
     "start_time": "2024-04-29T22:31:51.041817Z"
    }
   },
   "cell_type": "code",
   "source": [
    "def Check_Employee(eid, fname, lastname):\n",
    "    flask_url = 0\n",
    "    if DatabaseOption() == 'd':\n",
    "        flask_url = \"http://127.0.0.1:5000/db-beasts/employee/voila\"\n",
    "    elif DatabaseOption() == 'h':\n",
    "        flask_url = \"https://db-beasts-7827ce232282.herokuapp.com/db-beasts/employee/voila\"\n",
    "    data = {'eid': eid, 'fname': fname, 'lname': lastname}\n",
    "    response = requests.post(flask_url, json=data)\n",
    "    return response"
   ],
   "id": "3006711f5e78d1eb",
   "outputs": [],
   "execution_count": 5
  },
  {
   "metadata": {
    "ExecuteTime": {
     "end_time": "2024-04-29T22:31:51.049186Z",
     "start_time": "2024-04-29T22:31:51.046045Z"
    }
   },
   "cell_type": "code",
   "source": [
    "def Post_Login(eid, username, password):\n",
    "    flask_url = 0\n",
    "    if DatabaseOption() == 'd':\n",
    "        flask_url = \"http://127.0.0.1:5000/db-beasts/login\"\n",
    "    elif DatabaseOption() == 'h':\n",
    "        flask_url = \"https://db-beasts-7827ce232282.herokuapp.com/db-beasts/login\"\n",
    "    data = {'eid': eid, 'username': username, 'password': password}\n",
    "    response = requests.post(flask_url, json=data)\n",
    "    return response"
   ],
   "id": "2419ffc76d4ee066",
   "outputs": [],
   "execution_count": 6
  },
  {
   "metadata": {
    "ExecuteTime": {
     "end_time": "2024-04-29T22:31:51.053185Z",
     "start_time": "2024-04-29T22:31:51.049186Z"
    }
   },
   "cell_type": "code",
   "source": [
    "def Get_Employee(eid):\n",
    "    flask_url = 0\n",
    "    if DatabaseOption() == 'd':\n",
    "        flask_url = f\"http://127.0.0.1:5000/db-beasts/employee/{eid}\"\n",
    "    elif DatabaseOption() == 'h':\n",
    "        flask_url = f\"https://db-beasts-7827ce232282.herokuapp.com/db-beasts/employee/{eid}\"\n",
    "    response = requests.get(flask_url)\n",
    "    return response"
   ],
   "id": "4247a2f34cce1f91",
   "outputs": [],
   "execution_count": 7
  },
  {
   "metadata": {
    "ExecuteTime": {
     "end_time": "2024-04-29T22:31:51.057540Z",
     "start_time": "2024-04-29T22:31:51.054185Z"
    }
   },
   "cell_type": "code",
   "source": [
    "# ** Switch between log in and sign in input credentials\n",
    "def change_view1(button):\n",
    "    with output:\n",
    "        clear_output()\n",
    "        if button.description == 'Sign Up':\n",
    "            button.description = 'Log In'\n",
    "            login_box.children = [employee_id, first_name, last_name, username, password, sign_up_button]\n",
    "        else:\n",
    "            button.description = 'Sign Up'\n",
    "            login_box.children = [username, password, login_button]\n",
    "            \n",
    "def change_view2(button):\n",
    "    with output:\n",
    "        clear_output()\n",
    "        login_box.children = [username, password, login_button]\n",
    "        toggle_button.description = 'Sign Up'\n",
    "        toggle_button.layout.visibility = 'visible'\n",
    "        access.disabled = True\n",
    "        with output1: clear_output()"
   ],
   "id": "9a9b9e9d78b06018",
   "outputs": [],
   "execution_count": 8
  },
  {
   "metadata": {
    "ExecuteTime": {
     "end_time": "2024-04-29T22:31:51.063536Z",
     "start_time": "2024-04-29T22:31:51.058537Z"
    }
   },
   "cell_type": "code",
   "source": [
    "# ** Login Credentials\n",
    "def login(button):\n",
    "    # ** Login Logic\n",
    "    with output:\n",
    "        response = Check_Login(username.value, password.value)\n",
    "        if response.status_code == 200:  # Check if the request was successful\n",
    "            clear_output()\n",
    "            print(f\"Login successful.\")\n",
    "            login_box.children = [username, password, logout_button]\n",
    "            toggle_button.layout.visibility = 'hidden'\n",
    "            access(response)\n",
    "        else:\n",
    "            clear_output()\n",
    "            print(f\"Login failed. Please try again. username: {username.value}, password: {password.value}\")\n",
    "\n",
    "# ** Signup Credentials\n",
    "def signup(button):\n",
    "    # ** Signup Logic\n",
    "    with output:\n",
    "        employee = Check_Employee(employee_id.value, first_name.value, last_name.value)\n",
    "        if employee.status_code == 200:\n",
    "            post_login = Post_Login(employee_id.value, username.value, password.value)\n",
    "            if post_login.status_code == 201:\n",
    "                clear_output()\n",
    "                print(f\"Sign up successful, Welcome!\")\n",
    "                login_box.children = [username, password, logout_button]\n",
    "                toggle_button.layout.visibility = 'hidden'\n",
    "            elif post_login.status_code == 400:\n",
    "                clear_output()\n",
    "                print(f\"Employee have account\")\n",
    "            else:\n",
    "                clear_output()\n",
    "                print(f\"Username exist.\")\n",
    "        else:\n",
    "            clear_output()\n",
    "            print(f\"Employee does not exist. {employee_id.value}, {first_name.value}, {last_name.value}\")"
   ],
   "id": "a72a3448678deff4",
   "outputs": [],
   "execution_count": 9
  },
  {
   "metadata": {
    "ExecuteTime": {
     "end_time": "2024-04-29T22:31:51.075055Z",
     "start_time": "2024-04-29T22:31:51.064538Z"
    }
   },
   "cell_type": "code",
   "source": [
    "# ** Login Widgets\n",
    "username = widgets.Text(placeholder='Username')\n",
    "password = widgets.Password(placeholder='Password')\n",
    "login_button = widgets.Button(description=\"Log In\")\n",
    "login_button.on_click(login)\n",
    "\n",
    "# ** Sigin Widgets\n",
    "employee_id = widgets.Text(placeholder='Employee ID')\n",
    "first_name = widgets.Text(placeholder='First Name')\n",
    "last_name = widgets.Text(placeholder='Last Name')\n",
    "sign_up_button = widgets.Button(description=\"Sign Up\")\n",
    "sign_up_button.on_click(signup)\n",
    "\n",
    "logout_button = widgets.Button(description=\"Log Out\")\n",
    "logout_button.on_click(change_view2)"
   ],
   "id": "2d87ebb77602ea0a",
   "outputs": [],
   "execution_count": 10
  },
  {
   "metadata": {},
   "cell_type": "code",
   "source": [
    "# ** Initial State\n",
    "login_box = widgets.VBox([username, password, login_button])\n",
    "\n",
    "# ** Switch between log in and sign in credentials\n",
    "toggle_button = widgets.Button(description=\"Sign Up\")\n",
    "toggle_button.on_click(change_view1)"
   ],
   "id": "84b8f5110853b6ac",
   "outputs": [],
   "execution_count": 11
  },
  {
   "metadata": {
    "ExecuteTime": {
     "end_time": "2024-04-29T22:31:51.088126Z",
     "start_time": "2024-04-29T22:31:51.082635Z"
    }
   },
   "cell_type": "code",
   "source": [
    "def access(logins):\n",
    "    with output1:\n",
    "        clear_output()\n",
    "        eid = logins.json()['Login']['eid']\n",
    "        employee = Get_Employee(eid).json()['Employee']\n",
    "        fname = employee['fname']\n",
    "        lname = employee['lname']\n",
    "        # print(employee)\n",
    "        print(f\"Welcome {fname} {lname}\")\n",
    "        position = employee['position']\n",
    "        access_box = widgets.HBox()\n",
    "        if position == 'Regular':\n",
    "            pass\n",
    "        elif position == 'Supervisor':\n",
    "            pass\n",
    "        elif position == 'Administrator':\n",
    "            createchain = CreateChain()\n",
    "            access_box.children = [createchain]\n",
    "        \n",
    "        # Display the HBox only if it has children\n",
    "        if len(access_box.children) > 0:\n",
    "            display(access_box)\n",
    "        "
   ],
   "id": "1b647961800e8e1d",
   "outputs": [],
   "execution_count": 12
  },
  {
   "metadata": {
    "ExecuteTime": {
     "end_time": "2024-04-29T22:31:51.109055Z",
     "start_time": "2024-04-29T22:31:51.100093Z"
    }
   },
   "cell_type": "code",
   "source": "display(header_text)",
   "id": "d5e6c1bde17f1606",
   "outputs": [
    {
     "data": {
      "text/plain": [
       "HTML(value=\"<h1 style='text-align: center; color: white; background-color: #333; width: 100%; margin: 0; paddi…"
      ],
      "application/vnd.jupyter.widget-view+json": {
       "version_major": 2,
       "version_minor": 0,
       "model_id": "ea68987bcc8c46deada8fb8a903d7850"
      }
     },
     "metadata": {},
     "output_type": "display_data"
    }
   ],
   "execution_count": 13
  },
  {
   "metadata": {
    "ExecuteTime": {
     "end_time": "2024-04-29T22:31:51.115119Z",
     "start_time": "2024-04-29T22:31:51.111051Z"
    }
   },
   "cell_type": "code",
   "source": [
    "output = widgets.Output()\n",
    "display(output)"
   ],
   "id": "b4eddcb175e997b3",
   "outputs": [
    {
     "data": {
      "text/plain": [
       "Output()"
      ],
      "application/vnd.jupyter.widget-view+json": {
       "version_major": 2,
       "version_minor": 0,
       "model_id": "fb9b8209292445e985d1b73a2a1bf09c"
      }
     },
     "metadata": {},
     "output_type": "display_data"
    }
   ],
   "execution_count": 14
  },
  {
   "metadata": {
    "ExecuteTime": {
     "end_time": "2024-04-29T22:31:51.120814Z",
     "start_time": "2024-04-29T22:31:51.116116Z"
    }
   },
   "cell_type": "code",
   "source": [
    "display(login_box)\n",
    "display(toggle_button)"
   ],
   "id": "a88fc7576d1dd0c3",
   "outputs": [
    {
     "data": {
      "text/plain": [
       "VBox(children=(Text(value='', placeholder='Username'), Password(placeholder='Password'), Button(description='L…"
      ],
      "application/vnd.jupyter.widget-view+json": {
       "version_major": 2,
       "version_minor": 0,
       "model_id": "430b1fcb71f5462da74cb3a31e8b2660"
      }
     },
     "metadata": {},
     "output_type": "display_data"
    },
    {
     "data": {
      "text/plain": [
       "Button(description='Sign Up', style=ButtonStyle())"
      ],
      "application/vnd.jupyter.widget-view+json": {
       "version_major": 2,
       "version_minor": 0,
       "model_id": "62d77fa9297b4171af7eb807d25908ce"
      }
     },
     "metadata": {},
     "output_type": "display_data"
    }
   ],
   "execution_count": 15
  },
  {
   "metadata": {
    "ExecuteTime": {
     "end_time": "2024-04-29T22:31:51.126361Z",
     "start_time": "2024-04-29T22:31:51.121812Z"
    }
   },
   "cell_type": "code",
   "source": [
    "output1 = widgets.Output()\n",
    "display(output1)"
   ],
   "id": "d6dfe4fd852cfc5d",
   "outputs": [
    {
     "data": {
      "text/plain": [
       "Output()"
      ],
      "application/vnd.jupyter.widget-view+json": {
       "version_major": 2,
       "version_minor": 0,
       "model_id": "f7ff9801a26147dea7347e5780f93db7"
      }
     },
     "metadata": {},
     "output_type": "display_data"
    }
   ],
   "execution_count": 16
  }
 ],
 "metadata": {
  "kernelspec": {
   "display_name": "Python 3",
   "language": "python",
   "name": "python3"
  },
  "language_info": {
   "codemirror_mode": {
    "name": "ipython",
    "version": 2
   },
   "file_extension": ".py",
   "mimetype": "text/x-python",
   "name": "python",
   "nbconvert_exporter": "python",
   "pygments_lexer": "ipython2",
   "version": "2.7.6"
  }
 },
 "nbformat": 4,
 "nbformat_minor": 5
}
