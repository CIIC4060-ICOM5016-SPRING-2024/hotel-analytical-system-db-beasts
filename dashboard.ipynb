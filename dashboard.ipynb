{
 "cells": [
  {
   "metadata": {},
   "cell_type": "markdown",
   "source": "# Imports",
   "id": "18e5198e20762114"
  },
  {
   "metadata": {
    "ExecuteTime": {
     "end_time": "2024-05-12T19:43:34.063096Z",
     "start_time": "2024-05-12T19:43:34.004572Z"
    }
   },
   "cell_type": "code",
   "source": [
    "from ipywidgets import Layout, Button, Label, Password, Text, VBox, HBox, Output, HTML, BoundedFloatText, BoundedIntText\n",
    "from IPython.display import display\n",
    "from dashchecks import *\n",
    "import matplotlib.pyplot as plt\n",
    "import json"
   ],
   "id": "550accddff2f2253",
   "outputs": [],
   "execution_count": 1
  },
  {
   "metadata": {},
   "cell_type": "markdown",
   "source": "# Dashboard",
   "id": "6b745d9d8786d383"
  },
  {
   "metadata": {},
   "cell_type": "code",
   "source": [
    "# Different styles definitions:\n",
    "login_button_style = {\"description_border_color\": \"lightblue\", \"font_weight\": \"bold\", \"button_color\": \"lightblue\"}\n",
    "input_style = {\"description_width\": \"initial\"}\n",
    "header_style = {\"font_weight\": \"bold\", \"color\": \"black\", \"background-color\": \"lightblue\", \"padding\": \"10px\", \"text-align\": \"center\"}\n",
    "welcome_style = {\"font_weight\": \"bold\", \"color\": \"#008080\", \"background-color\": \"lightblue\", \"padding\": \"10px\", \"text-align\": \"center\", \"font-size\": \"28px\"}\n",
    "\n",
    "# Log In Fields\n",
    "username = Text(placeholder=\"Username\", style=input_style)\n",
    "password = Password(placeholder=\"Password\", style=input_style)\n",
    "\n",
    "# Create the buttons\n",
    "login_button = Button(description=\"Log In\", style=login_button_style, icon=\"check\", button_style=\"\")\n",
    "sign_up_button = Button(description=\"Sign Up\", style=login_button_style, icon=\"plus\", button_style=\"\")\n",
    "back_button = Button(description=\"Back\", style=login_button_style, icon=\"arrow-left\", button_style=\"\")\n",
    "create_button = Button(description=\"Create\", style=login_button_style, icon=\"check\", button_style=\"\")\n",
    "\n",
    "# Create output widget\n",
    "output = Output()\n",
    "\n",
    "# Create the VirtualBox for the login\n",
    "login_form = VBox([\n",
    "    Label(value=\"Hello, welcome!\", layout=Layout(margin=\"10px\"), style=welcome_style),\n",
    "    username,\n",
    "    password,\n",
    "    VBox([login_button], layout=Layout(justify_content=\"center\")),\n",
    "    VBox([sign_up_button], layout=Layout(justify_content=\"center\")),\n",
    "    output,\n",
    "], layout=Layout(justify_content=\"center\", align_items=\"center\"))\n",
    "\n",
    "# SignUp Fields\n",
    "Employee_ID = Text(placeholder=\"Employee ID\", style=input_style)\n",
    "First_Name = Text(placeholder=\"First Name\", style=input_style)\n",
    "Last_Name = Text(placeholder=\"Last Name\", style=input_style)\n",
    "signup_username = Text(placeholder=\"Username\", style=input_style)\n",
    "signup_password = Password(placeholder=\"Password\", style=input_style)\n",
    "\n",
    "# Create the VirtualBox for the SignUp\n",
    "signup_form = VBox([\n",
    "    Label(value=\"Create an Account\", layout=Layout(margin=\"10px\"), style=welcome_style),\n",
    "    Employee_ID,\n",
    "    First_Name,\n",
    "    Last_Name,\n",
    "    signup_username,\n",
    "    signup_password,\n",
    "    VBox([create_button], layout=Layout(justify_content=\"center\")),\n",
    "    VBox([back_button], layout=Layout(justify_content=\"center\")),\n",
    "], layout=Layout(justify_content=\"center\", align_items=\"center\"))\n",
    "\n",
    "# Function to handle login button click\n",
    "def login_button_clicked(button):\n",
    "    form_container.children = [login_form]\n",
    "\n",
    "# Function to handle signup button click\n",
    "def signup_button_clicked(button):\n",
    "    form_container.children = [signup_form]\n",
    "\n",
    "# Function to handle back button click\n",
    "def back_button_clicked(button):\n",
    "    form_container.children = [login_form]\n",
    "\n",
    "# Function to handle create button click\n",
    "def create_button_clicked(button):\n",
    "    # Placeholder--Come back to this later.\n",
    "    with output:\n",
    "        output.clear_output()\n",
    "        print(\"Account created successfully!\")\n",
    "\n",
    "# Button clicks and their events.\n",
    "login_button.on_click(login_button_clicked)\n",
    "sign_up_button.on_click(signup_button_clicked)\n",
    "back_button.on_click(back_button_clicked)\n",
    "create_button.on_click(create_button_clicked)\n",
    "\n",
    "# Create layout (Virtual Boxes)\n",
    "def create_layout():\n",
    "    login_form_box = VBox([\n",
    "        Label(value=\"Hello, welcome!\", layout=Layout(margin=\"10px\"), style=welcome_style),\n",
    "        username,\n",
    "        password,\n",
    "        VBox([login_button], layout=Layout(justify_content=\"center\")),\n",
    "        VBox([sign_up_button], layout=Layout(justify_content=\"center\")),\n",
    "        output,\n",
    "    ], layout=Layout(justify_content=\"center\", align_items=\"center\"))\n",
    "    \n",
    "    signup_form_box = VBox([\n",
    "        Label(value=\"Create an Account\", layout=Layout(margin=\"10px\"), style=welcome_style),\n",
    "        Employee_ID,\n",
    "        First_Name,\n",
    "        Last_Name,\n",
    "        signup_username,\n",
    "        signup_password,\n",
    "        VBox([create_button], layout=Layout(justify_content=\"center\")),\n",
    "        VBox([back_button], layout=Layout(justify_content=\"center\")),\n",
    "    ], layout=Layout(justify_content=\"center\", align_items=\"center\"))\n",
    "    \n",
    "    form_container = HBox([login_form_box], layout=Layout(justify_content=\"center\", align_items=\"center\"))\n",
    "    \n",
    "    header = HTML(\"<div style='background-color:lightblue; padding:10px; text-align:center; overflow:hidden;'><p style='font-weight:bold; color:black; font-size:24px;'>HotelAnalytics Systems</p><p style='font-weight:bold; color:black; font-size:18px;'>DB Beasts</p></div>\") \n",
    "    footer = HTML(\"<div style='background-color:lightblue; padding:10px; text-align:center; overflow:hidden;'><a style='text-decoration:none; color:black;'>Db Beasts Members:</a> <i class='fas fa-user' style='background-color: #00868B; color: white; border-radius: 50%; padding: 2px 6px; font-weight: bold;'></i><a href='https://github.com/YanehRuiz' target='_blank' style='text-decoration:none; color:black;'> Yanishka</a> <i class='fas fa-user' style='background-color: #00868B; color: white; border-radius: 50%; padding: 2px 6px; font-weight: bold;'></i><a href='https://github.com/gaac-rum' target='_blank' style='text-decoration:none; color:black;'> Gabriel</a> <i class='fas fa-user' style='background-color: #00868B; color: white; border-radius: 50%; padding: 2px 6px; font-weight: bold;'></i><a href='https://github.com/Axel-Negron' target='_blank' style='text-decoration:none; color:black;'> Axel  </a><i class='fas fa-user' style='background-color: #00868B; color: white; border-radius: 50%; padding: 2px 6px; font-weight: bold;'></i><a href='https://github.com/samiralirivera' target='_blank' style='text-decoration:none; color:black;'> Samir</a></div>\")    \n",
    "    background = HTML(\"<img src='https://i.imgur.com/sJ8W01b.jpeg' style='width:100%; height:90vh; object-fit:cover;'>\")   \n",
    "    return header, form_container, background, footer\n",
    "\n",
    "# Display header, layout, and backgrounde\n",
    "header, form_container, background, footer = create_layout()\n",
    "display(header)\n",
    "display(form_container)\n",
    "display(background)\n",
    "display(footer)"
   ],
   "id": "initial_id",
   "outputs": [],
   "execution_count": null
  },
  {
   "metadata": {},
   "cell_type": "markdown",
   "source": "## Crud",
   "id": "c8406ece1b48fd7f"
  },
  {
   "metadata": {},
   "cell_type": "markdown",
   "source": "### Chain",
   "id": "20981d7ff997bef4"
  },
  {
   "metadata": {
    "ExecuteTime": {
     "end_time": "2024-05-12T20:42:44.124390Z",
     "start_time": "2024-05-12T20:42:44.106467Z"
    }
   },
   "cell_type": "code",
   "source": [
    "#######################      Create Chain ##########################\n",
    "def CreateChain():\n",
    "    def post_chain(button):\n",
    "        with output:\n",
    "            chain = Post_Chain(cname.value, fallmkup.value, springmkup.value, summermkup.value, wintermkup.value)\n",
    "            if chain.status_code == 201:\n",
    "                output.clear_output()\n",
    "                print(\"Chain created successfully\")\n",
    "                print(\"Chain Data:\")\n",
    "                print(chain.json())  # Print the chain data\n",
    "            else:\n",
    "                output.clear_output()\n",
    "                print(f\"Invalid Chain Data\")\n",
    "\n",
    "    operation = HTML(f\"<p style='font-size:24px;'>Create Chain</p>\")\n",
    "    \n",
    "    cname = Text(placeholder=\"---\", description='Chain Name')\n",
    "    fallmkup = BoundedFloatText(min=0, step=0.01, description='Fall Mkup')\n",
    "    springmkup = BoundedFloatText(min=0, step=0.01, description='Spring Mkup')\n",
    "    summermkup = BoundedFloatText(min=0, step=0.01, description='Summer Mkup')\n",
    "    wintermkup = BoundedFloatText(min=0, step=0.01, description='Winter Mkup')\n",
    "    create_button = Button(description='Create Chain')\n",
    "    create_button.on_click(post_chain)\n",
    "    \n",
    "    create_box = VBox([operation, cname, fallmkup, springmkup, summermkup, wintermkup, create_button])\n",
    "    display(create_box)\n",
    "    \n",
    "    output = Output()\n",
    "    display(output)\n",
    "\n",
    "position = \"\"\n",
    "if position == \"Administrator\":\n",
    "    display(CreateChain())"
   ],
   "id": "fe5d62c01b02bfcf",
   "outputs": [
    {
     "data": {
      "text/plain": [
       "VBox(children=(HTML(value=\"<p style='font-size:24px;'>Create Chain</p>\"), Text(value='', description='Chain Na…"
      ],
      "application/vnd.jupyter.widget-view+json": {
       "version_major": 2,
       "version_minor": 0,
       "model_id": "362dcb0ed812467b81f4e9f22b31c8e6"
      }
     },
     "metadata": {},
     "output_type": "display_data"
    },
    {
     "data": {
      "text/plain": [
       "Output()"
      ],
      "application/vnd.jupyter.widget-view+json": {
       "version_major": 2,
       "version_minor": 0,
       "model_id": "1b2296b76c8041a7946224dff00e6e73"
      }
     },
     "metadata": {},
     "output_type": "display_data"
    },
    {
     "data": {
      "text/plain": [
       "None"
      ]
     },
     "metadata": {},
     "output_type": "display_data"
    }
   ],
   "execution_count": 5
  },
  {
   "metadata": {
    "ExecuteTime": {
     "end_time": "2024-05-12T20:44:59.397584Z",
     "start_time": "2024-05-12T20:44:59.385470Z"
    }
   },
   "cell_type": "code",
   "source": [
    "#######################      Delete Chain ##########################\n",
    "def DeleteChain():\n",
    "    def delete_chain(b):\n",
    "        with output:\n",
    "            chain = Delete_Chain(chid.value)\n",
    "            if chain.status_code == 200:\n",
    "                output.clear_output()\n",
    "                print(\"Chain deleted successfully\")\n",
    "            elif chain.status_code == 404:\n",
    "                output.clear_output()\n",
    "                print(\"Chain not found\")\n",
    "            elif chain.status_code == 400:\n",
    "                output.clear_output()\n",
    "                print(\"Chain is referenced\")\n",
    "            else:\n",
    "                output.clear_output()\n",
    "                print(\"Delete Failed\")\n",
    "            \n",
    "    operation = HTML(f\"<p style='font-size:24px;'>Delete Chain</p>\")\n",
    "    \n",
    "    chid = BoundedIntText(min=-1,step=1, description=\"Chain Id\")\n",
    "    delete_button = Button(description=\"Delete Chain\")\n",
    "    delete_button.on_click(delete_chain)\n",
    "    \n",
    "    create_box = VBox([operation, chid, delete_button])\n",
    "    display(create_box)\n",
    "    \n",
    "    output = Output()\n",
    "    display(output)\n",
    "\n",
    "position = \"\"\n",
    "if position == \"Administrator\":\n",
    "    display(DeleteChain())"
   ],
   "id": "1b53affd2f4e2caf",
   "outputs": [
    {
     "data": {
      "text/plain": [
       "VBox(children=(HTML(value=\"<p style='font-size:24px;'>Delete Chain</p>\"), BoundedIntText(value=0, description=…"
      ],
      "application/vnd.jupyter.widget-view+json": {
       "version_major": 2,
       "version_minor": 0,
       "model_id": "454e970e217c4c988082d796b5ecadc5"
      }
     },
     "metadata": {},
     "output_type": "display_data"
    },
    {
     "data": {
      "text/plain": [
       "Output()"
      ],
      "application/vnd.jupyter.widget-view+json": {
       "version_major": 2,
       "version_minor": 0,
       "model_id": "9f5702c20f2c4fcd9097cb718c9ba024"
      }
     },
     "metadata": {},
     "output_type": "display_data"
    },
    {
     "data": {
      "text/plain": [
       "None"
      ]
     },
     "metadata": {},
     "output_type": "display_data"
    }
   ],
   "execution_count": 6
  },
  {
   "metadata": {
    "ExecuteTime": {
     "end_time": "2024-05-12T20:45:15.601152Z",
     "start_time": "2024-05-12T20:45:15.583164Z"
    }
   },
   "cell_type": "code",
   "source": [
    "#######################      Update Chain ##########################\n",
    "def UpdateChain():\n",
    "    def put_chain(b):\n",
    "        with output:\n",
    "            chain = Put_Chain(chid.value, cname.value, fallmkup.value, springmkup.value, summermkup.value, wintermkup.value)\n",
    "            if chain.status_code == 202:\n",
    "                output.clear_output()\n",
    "                print(\"Chain updated successfully\")\n",
    "                print(\"Chain Data:\")\n",
    "                print(chain.json())\n",
    "            elif chain.status_code == 404:\n",
    "                output.clear_output()\n",
    "                print(\"Chain not found\")\n",
    "            else:\n",
    "                output.clear_output()\n",
    "                print(\"Invalid Chain Data\")\n",
    "            \n",
    "    operation = HTML(f\"<p style='font-size:24px;'>Update Chain</p>\")\n",
    "    \n",
    "    chid = BoundedIntText(min=-1,step=1, description=\"Chain Id\")\n",
    "    cname = Text(placeholder=\"---\", description='Chain Name')\n",
    "    fallmkup = BoundedFloatText(min=0, step=0.01, description='Fall Mkup')\n",
    "    springmkup = BoundedFloatText(min=0, step=0.01, description='Spring Mkup')\n",
    "    summermkup = BoundedFloatText(min=0, step=0.01, description='Summer Mkup')\n",
    "    wintermkup = BoundedFloatText(min=0, step=0.01, description='Winter Mkup')\n",
    "    update_button = Button(description=\"Update Chain\")\n",
    "    update_button.on_click(put_chain)\n",
    "    \n",
    "    create_box = VBox([operation, chid, cname, fallmkup, springmkup, summermkup, wintermkup, update_button])\n",
    "    display(create_box)\n",
    "    \n",
    "    output = Output()\n",
    "    display(output)\n",
    "    \n",
    "position = \"\"\n",
    "if position == \"Administrator\":\n",
    "    display(UpdateChain())"
   ],
   "id": "4d9aa3e3d23bab03",
   "outputs": [
    {
     "data": {
      "text/plain": [
       "VBox(children=(HTML(value=\"<p style='font-size:24px;'>Update Chain</p>\"), BoundedIntText(value=0, description=…"
      ],
      "application/vnd.jupyter.widget-view+json": {
       "version_major": 2,
       "version_minor": 0,
       "model_id": "3b8017348a8b4ea1a28e2bfc26320f27"
      }
     },
     "metadata": {},
     "output_type": "display_data"
    },
    {
     "data": {
      "text/plain": [
       "Output()"
      ],
      "application/vnd.jupyter.widget-view+json": {
       "version_major": 2,
       "version_minor": 0,
       "model_id": "a411252abc58439db28abf54d4bc06c3"
      }
     },
     "metadata": {},
     "output_type": "display_data"
    },
    {
     "data": {
      "text/plain": [
       "None"
      ]
     },
     "metadata": {},
     "output_type": "display_data"
    }
   ],
   "execution_count": 7
  },
  {
   "metadata": {},
   "cell_type": "markdown",
   "source": "### Client",
   "id": "184add88e7db5af0"
  },
  {
   "metadata": {},
   "cell_type": "code",
   "outputs": [],
   "execution_count": null,
   "source": "#######################      Create Client ##########################",
   "id": "ceb871fa2167d3e8"
  },
  {
   "metadata": {},
   "cell_type": "code",
   "outputs": [],
   "execution_count": null,
   "source": "#######################      Delete  ##########################",
   "id": "6e0dfabe4e194b83"
  },
  {
   "metadata": {},
   "cell_type": "code",
   "outputs": [],
   "execution_count": null,
   "source": "#######################      Update Client ##########################",
   "id": "d65fdccf6b0da915"
  },
  {
   "metadata": {},
   "cell_type": "markdown",
   "source": "### Employee",
   "id": "4b57a9cd153d7c13"
  },
  {
   "metadata": {},
   "cell_type": "code",
   "outputs": [],
   "execution_count": null,
   "source": "#######################      Create Employee ##########################",
   "id": "c272a37b9540063a"
  },
  {
   "metadata": {},
   "cell_type": "code",
   "outputs": [],
   "execution_count": null,
   "source": "#######################      Delete Employee ##########################",
   "id": "e34ce89bd6f7dad"
  },
  {
   "metadata": {},
   "cell_type": "code",
   "outputs": [],
   "execution_count": null,
   "source": "#######################      Update Employee ##########################",
   "id": "a9996ef74cd4f02"
  },
  {
   "metadata": {},
   "cell_type": "markdown",
   "source": "### Hotel",
   "id": "d47a5a1667990e5b"
  },
  {
   "metadata": {
    "ExecuteTime": {
     "end_time": "2024-05-12T20:56:30.991801Z",
     "start_time": "2024-05-12T20:56:30.976151Z"
    }
   },
   "cell_type": "code",
   "source": [
    "#######################      Create Hotel ##########################\n",
    "def CreateHotel():\n",
    "    def post_hotel(b):\n",
    "        with output:\n",
    "            hotel = Post_Hotel(chid.value, hname.value, hcity.value)\n",
    "            if hotel.status_code == 201:\n",
    "                output.clear_output()\n",
    "                print(\"Hotel created successfully\")\n",
    "                print(\"Hotel Data:\")\n",
    "                print(hotel.json())\n",
    "            elif hotel.status_code == 404:\n",
    "                output.clear_output()\n",
    "                print(\"Chain does not exist\")\n",
    "            else:\n",
    "                output.clear_output()\n",
    "                print(\"Invalid hotel data\")\n",
    "    \n",
    "    operation = HTML(f\"<p style='font-size:24px;'>Create Hotel</p>\")\n",
    "    \n",
    "    chid = BoundedIntText(min=-1,step=1, description=\"Chain Id\")\n",
    "    hname = Text(placeholder=\"---\", description=\"Hotel Name\")\n",
    "    hcity = Text(placeholder=\"---\", description=\"Hotel City\")\n",
    "    create_button = Button(description=\"Create Hotel\")\n",
    "    create_button.on_click(post_hotel)\n",
    "    \n",
    "    create_box = VBox([operation, chid, hname, hcity, create_button])\n",
    "    display(create_box)\n",
    "    \n",
    "    output = Output()\n",
    "    display(output)\n",
    "\n",
    "position = \"\"\n",
    "if position == \"Administrator\":\n",
    "    display(CreateHotel())"
   ],
   "id": "e6a277fd7544e054",
   "outputs": [
    {
     "data": {
      "text/plain": [
       "VBox(children=(HTML(value=\"<p style='font-size:24px;'>Create Hotel</p>\"), BoundedIntText(value=0, description=…"
      ],
      "application/vnd.jupyter.widget-view+json": {
       "version_major": 2,
       "version_minor": 0,
       "model_id": "a3516012f29a422181b5a1b959111bee"
      }
     },
     "metadata": {},
     "output_type": "display_data"
    },
    {
     "data": {
      "text/plain": [
       "Output()"
      ],
      "application/vnd.jupyter.widget-view+json": {
       "version_major": 2,
       "version_minor": 0,
       "model_id": "03ac26685b234ee48edc0a2d2dccdc95"
      }
     },
     "metadata": {},
     "output_type": "display_data"
    },
    {
     "data": {
      "text/plain": [
       "None"
      ]
     },
     "metadata": {},
     "output_type": "display_data"
    }
   ],
   "execution_count": 8
  },
  {
   "metadata": {
    "ExecuteTime": {
     "end_time": "2024-05-12T20:58:12.651352Z",
     "start_time": "2024-05-12T20:58:12.639585Z"
    }
   },
   "cell_type": "code",
   "source": [
    "#######################      Delete Hotel ##########################\n",
    "def DeleteHotel():\n",
    "    def delete_hotel(b):\n",
    "        with output:\n",
    "            hotel = Delete_Hotel(hid.value)\n",
    "            if hotel.status_code == 200:\n",
    "                output.clear_output()\n",
    "                print(\"Hotel deleted successfully\")\n",
    "            elif hotel.status_code == 404:\n",
    "                output.clear_output()\n",
    "                print(\"Hotel not found\")\n",
    "            elif hotel.status_code == 400:\n",
    "                output.clear_output()\n",
    "                print(\"Hotel is referenced\")\n",
    "            else:\n",
    "                output.clear_output()\n",
    "                print(\"Delete Failed\")\n",
    "            \n",
    "    operation = HTML(f\"<p style='font-size:24px;'>Delete Hotel</p>\")\n",
    "    \n",
    "    hid = BoundedIntText(min=-1,step=1, description=\"Hotel Id\")\n",
    "    delete_button = Button(description=\"Delete\")\n",
    "    delete_button.on_click(delete_hotel)\n",
    "    \n",
    "    create_box = VBox([operation, hid, delete_button])\n",
    "    display(create_box)\n",
    "    \n",
    "    output = Output()\n",
    "    display(output)\n",
    "\n",
    "position = \"\"\n",
    "if position == \"Administrator\":\n",
    "    display(DeleteHotel())"
   ],
   "id": "fb7c4efe2252efa3",
   "outputs": [
    {
     "data": {
      "text/plain": [
       "VBox(children=(HTML(value=\"<p style='font-size:24px;'>Delete Hotel</p>\"), BoundedIntText(value=0, description=…"
      ],
      "application/vnd.jupyter.widget-view+json": {
       "version_major": 2,
       "version_minor": 0,
       "model_id": "6df2468f13a7401bbc6d475dbe6715b3"
      }
     },
     "metadata": {},
     "output_type": "display_data"
    },
    {
     "data": {
      "text/plain": [
       "Output()"
      ],
      "application/vnd.jupyter.widget-view+json": {
       "version_major": 2,
       "version_minor": 0,
       "model_id": "0acc89aa55a143b9aef38a958a7a842d"
      }
     },
     "metadata": {},
     "output_type": "display_data"
    },
    {
     "data": {
      "text/plain": [
       "None"
      ]
     },
     "metadata": {},
     "output_type": "display_data"
    }
   ],
   "execution_count": 9
  },
  {
   "metadata": {
    "ExecuteTime": {
     "end_time": "2024-05-12T20:59:47.019478Z",
     "start_time": "2024-05-12T20:59:47.003452Z"
    }
   },
   "cell_type": "code",
   "source": [
    "#######################      Update Hotel ##########################\n",
    "def UpdateHotel():\n",
    "    def put_hotel(b):\n",
    "        with output:\n",
    "            hotel = Put_Hotel(hid.value, chid.value, hname.value, hcity.value)\n",
    "            if hotel.status_code == 202:\n",
    "                output.clear_output()\n",
    "                print(\"Hotel updated successfully\")\n",
    "                print(\"Hotel Data:\")\n",
    "                print(hotel.json())\n",
    "            elif hotel.status_code == 404:\n",
    "                output.clear_output()\n",
    "                print(\"Hotel or Chain not found\")\n",
    "            else:\n",
    "                output.clear_output()\n",
    "                print(\"Invalid Hotel Data\")\n",
    "            \n",
    "    operation = HTML(f\"<p style='font-size:24px;'>Update Hotel</p>\")\n",
    "    \n",
    "    hid = BoundedIntText(min=-1,step=1, description=\"Hotel Id\")\n",
    "    chid = BoundedIntText(min=-1,step=1, description=\"Chain Id\")\n",
    "    hname = Text(placeholder=\"---\", description=\"Hotel Name\")\n",
    "    hcity = Text(placeholder=\"---\", description=\"Hotel City\")\n",
    "    update_button = Button(description=\"Update Hotel\")\n",
    "    update_button.on_click(put_hotel)\n",
    "    \n",
    "    create_box = VBox([operation, hid, chid, hname, hcity, update_button])\n",
    "    display(create_box)\n",
    "    \n",
    "    output = Output()\n",
    "    display(output)\n",
    "\n",
    "position = \"\"\n",
    "if position == \"Administrator\":\n",
    "    display(UpdateHotel())"
   ],
   "id": "1b72220a3b5e78d3",
   "outputs": [
    {
     "data": {
      "text/plain": [
       "VBox(children=(HTML(value=\"<p style='font-size:24px;'>Update Hotel</p>\"), BoundedIntText(value=0, description=…"
      ],
      "application/vnd.jupyter.widget-view+json": {
       "version_major": 2,
       "version_minor": 0,
       "model_id": "3eeb57b1c1274a518829ae4d4abf429c"
      }
     },
     "metadata": {},
     "output_type": "display_data"
    },
    {
     "data": {
      "text/plain": [
       "Output()"
      ],
      "application/vnd.jupyter.widget-view+json": {
       "version_major": 2,
       "version_minor": 0,
       "model_id": "06410aeabac046b5b3e0b2a696898077"
      }
     },
     "metadata": {},
     "output_type": "display_data"
    },
    {
     "data": {
      "text/plain": [
       "None"
      ]
     },
     "metadata": {},
     "output_type": "display_data"
    }
   ],
   "execution_count": 10
  },
  {
   "metadata": {},
   "cell_type": "markdown",
   "source": "### Login",
   "id": "efbdac1e8a1eb46f"
  },
  {
   "metadata": {},
   "cell_type": "code",
   "outputs": [],
   "execution_count": null,
   "source": "#######################      Create Login ##########################",
   "id": "1e53d9ad59535b0"
  },
  {
   "metadata": {},
   "cell_type": "code",
   "outputs": [],
   "execution_count": null,
   "source": "#######################      Delete Login ##########################",
   "id": "8266e1aa5c8aa6ff"
  },
  {
   "metadata": {},
   "cell_type": "code",
   "outputs": [],
   "execution_count": null,
   "source": "#######################      Update Login ##########################",
   "id": "adeef79edc970e4f"
  },
  {
   "metadata": {},
   "cell_type": "markdown",
   "source": "### Reserve",
   "id": "3eebb0da65c1fd94"
  },
  {
   "metadata": {},
   "cell_type": "code",
   "outputs": [],
   "execution_count": null,
   "source": "#######################      Create Reserve ##########################",
   "id": "e6a07ace7e3996ec"
  },
  {
   "metadata": {},
   "cell_type": "code",
   "outputs": [],
   "execution_count": null,
   "source": "#######################      Delete Reserve ##########################",
   "id": "f3bd308d31ee7b57"
  },
  {
   "metadata": {},
   "cell_type": "code",
   "outputs": [],
   "execution_count": null,
   "source": "#######################      Update Reserve ##########################",
   "id": "e86a461c3f87cee"
  },
  {
   "metadata": {},
   "cell_type": "markdown",
   "source": "### Room",
   "id": "2fd8e3dd00d6019"
  },
  {
   "metadata": {},
   "cell_type": "code",
   "outputs": [],
   "execution_count": null,
   "source": "#######################      Create Room ##########################",
   "id": "2b12b8eda042e812"
  },
  {
   "metadata": {},
   "cell_type": "code",
   "outputs": [],
   "execution_count": null,
   "source": "#######################      Delete Room ##########################",
   "id": "364827e918e96f29"
  },
  {
   "metadata": {},
   "cell_type": "code",
   "outputs": [],
   "execution_count": null,
   "source": "#######################      Update Room ##########################",
   "id": "f588d513133a183e"
  },
  {
   "metadata": {},
   "cell_type": "markdown",
   "source": "### Roomdescription",
   "id": "7e17685b1a4054c6"
  },
  {
   "metadata": {},
   "cell_type": "code",
   "outputs": [],
   "execution_count": null,
   "source": "#######################      Create Roomdescription ##########################",
   "id": "38e5ce1696281e0"
  },
  {
   "metadata": {},
   "cell_type": "code",
   "outputs": [],
   "execution_count": null,
   "source": "#######################      Delete Roomdescription ##########################",
   "id": "f4cd6ee80dabaea3"
  },
  {
   "metadata": {},
   "cell_type": "code",
   "outputs": [],
   "execution_count": null,
   "source": "#######################      Update Roomdescription ##########################",
   "id": "68c163414ac829f4"
  },
  {
   "metadata": {},
   "cell_type": "markdown",
   "source": "### Roomunavailable",
   "id": "f9cba06ac35395b8"
  },
  {
   "metadata": {},
   "cell_type": "code",
   "outputs": [],
   "execution_count": null,
   "source": "#######################      Create Roomunavailable ##########################",
   "id": "f323d90fb629ba14"
  },
  {
   "metadata": {},
   "cell_type": "code",
   "outputs": [],
   "execution_count": null,
   "source": "#######################      Delete Roomunavailable ##########################",
   "id": "5c5ce6b7603b35e8"
  },
  {
   "metadata": {},
   "cell_type": "code",
   "outputs": [],
   "execution_count": null,
   "source": "#######################      Update Roomunavailable ##########################",
   "id": "50fb92ae6da9290d"
  },
  {
   "metadata": {},
   "cell_type": "markdown",
   "source": "## Globales",
   "id": "f999343408adb966"
  },
  {
   "metadata": {
    "ExecuteTime": {
     "end_time": "2024-05-12T21:28:06.948335Z",
     "start_time": "2024-05-12T21:28:06.793288Z"
    }
   },
   "cell_type": "code",
   "source": [
    "#######################     /most/revenue ##########################\n",
    "def MostRevenue(id):\n",
    "    items = see_mostrevenue(id)\n",
    "    if not items:\n",
    "        print(\"No position\")\n",
    "    else:\n",
    "        datas = items.json()['Most_Revenues']\n",
    "        \n",
    "        # ** x axis values\n",
    "        x = [str(x['chid']) for x in datas]\n",
    "        # ** y axis values\n",
    "        y = [float(y['total revenue']) for y in datas]\n",
    "            \n",
    "        # ** creating the bar plot\n",
    "        plt.bar(x, y, color='black', bottom=0)\n",
    "            \n",
    "        plt.ylim(0, max(y) + min(y))\n",
    "            \n",
    "        # ** naming the x-axis\n",
    "        plt.xlabel('x - axis = Chains')\n",
    "        # ** naming the y-axis\n",
    "        plt.ylabel('y - axis = Total Revenues in millions')\n",
    "            \n",
    "        # ** giving a title to my graph\n",
    "        plt.title('Top 3 chains with the highest total revenue')\n",
    "            \n",
    "        # ** Tight layout to avoid overlap\n",
    "        plt.tight_layout()\n",
    "            \n",
    "        # ** function to show the plot\n",
    "        plt.show()\n",
    "        \n",
    "        # ** See data\n",
    "        json_str = json.dumps(datas, indent=2)\n",
    "        lines = json_str.split('\\n')\n",
    "        for line in lines:\n",
    "            print(line)\n",
    "id = 2\n",
    "display(MostRevenue(id))"
   ],
   "id": "ed807fb86eb310f3",
   "outputs": [
    {
     "data": {
      "text/plain": [
       "<Figure size 640x480 with 1 Axes>"
      ],
      "image/png": "[encoded data removed]"
     },
     "metadata": {},
     "output_type": "display_data"
    },
    {
     "name": "stdout",
     "output_type": "stream",
     "text": [
      "[\n",
      "  {\n",
      "    \"chid\": 5,\n",
      "    \"total revenue\": \"1548260.09\"\n",
      "  },\n",
      "  {\n",
      "    \"chid\": 1,\n",
      "    \"total revenue\": \"1534075.52\"\n",
      "  },\n",
      "  {\n",
      "    \"chid\": 4,\n",
      "    \"total revenue\": \"1302918.39\"\n",
      "  }\n",
      "]\n"
     ]
    },
    {
     "data": {
      "text/plain": [
       "None"
      ]
     },
     "metadata": {},
     "output_type": "display_data"
    }
   ],
   "execution_count": 10
  },
  {
   "metadata": {},
   "cell_type": "code",
   "source": [
    "#######################      /paymentmethod ##########################\n",
    "def PaymentMethod(id):\n",
    "    items = see_paymentmethod(id)\n",
    "    if not items:\n",
    "        print(\"No position\")\n",
    "    else:\n",
    "        datas = items.json()['Payment_Method_Percentage']\n",
    "            \n",
    "        # ** x axis values\n",
    "        x = [str(method['paymentmethod']) for method in datas]\n",
    "        # ** y axis values\n",
    "        y = [float(percentage['reservation percentage']) for percentage in datas]\n",
    "            \n",
    "        # ** creating the bar plot\n",
    "        plt.bar(x, y, color='black')\n",
    "            \n",
    "        plt.ylim(0, max(y)+5)\n",
    "            \n",
    "        # ** naming the x-axis\n",
    "        plt.xlabel('x - axis = Payment Method')\n",
    "        # ** naming the y-axis\n",
    "        plt.ylabel('y - axis = Reservation Percentage')\n",
    "            \n",
    "        # ** giving a title to my graph\n",
    "        plt.title('Total reservation percentage by payment method')\n",
    "            \n",
    "        # ** Tight layout to avoid overlap\n",
    "        plt.tight_layout()\n",
    "            \n",
    "        # ** function to show the plot\n",
    "        plt.show()\n",
    "        \n",
    "        # ** See data\n",
    "        json_str = json.dumps(datas, indent=2)\n",
    "        lines = json_str.split('\\n')\n",
    "        for line in lines:\n",
    "            print(line)\n",
    "\n",
    "id = 2   \n",
    "display(PaymentMethod(id))"
   ],
   "id": "664f159d1bcbd341",
   "outputs": [],
   "execution_count": null
  },
  {
   "metadata": {},
   "cell_type": "code",
   "outputs": [],
   "execution_count": null,
   "source": "#######################     /least/rooms ##########################",
   "id": "797e6c03199e3227"
  },
  {
   "metadata": {},
   "cell_type": "code",
   "outputs": [],
   "execution_count": null,
   "source": "#######################      /most/capacity ##########################",
   "id": "c982a69c1bafa993"
  },
  {
   "metadata": {},
   "cell_type": "code",
   "outputs": [],
   "execution_count": null,
   "source": "#######################      /most/reservation ##########################",
   "id": "7d0632830eecc700"
  },
  {
   "metadata": {},
   "cell_type": "code",
   "outputs": [],
   "execution_count": null,
   "source": "#######################      /most/profitmonth ##########################",
   "id": "c9c22352f88b8f1b"
  },
  {
   "metadata": {},
   "cell_type": "markdown",
   "source": "## Locales",
   "id": "3952da3e6824b88e"
  },
  {
   "metadata": {},
   "cell_type": "code",
   "outputs": [],
   "execution_count": null,
   "source": "#######################      handicaproom ##########################",
   "id": "a63c39e7d16205e4"
  },
  {
   "metadata": {},
   "cell_type": "code",
   "outputs": [],
   "execution_count": null,
   "source": "#######################      leastreserve ##########################",
   "id": "4d5fbb3a7eed338b"
  },
  {
   "metadata": {},
   "cell_type": "code",
   "outputs": [],
   "execution_count": null,
   "source": "#######################      mostcreditcard ##########################",
   "id": "75aae0c97c8fdb6b"
  },
  {
   "metadata": {},
   "cell_type": "code",
   "outputs": [],
   "execution_count": null,
   "source": "#######################      highestpaid ##########################",
   "id": "2ee6354f881c5a8d"
  },
  {
   "metadata": {},
   "cell_type": "code",
   "outputs": [],
   "execution_count": null,
   "source": "#######################      mostdiscount ##########################",
   "id": "c6a78c80bcb5c34e"
  },
  {
   "metadata": {},
   "cell_type": "code",
   "outputs": [],
   "execution_count": null,
   "source": "#######################      roomtype ##########################",
   "id": "ef3bce23ec633d74"
  },
  {
   "metadata": {},
   "cell_type": "code",
   "outputs": [],
   "execution_count": null,
   "source": "#######################      leastguests ##########################",
   "id": "63bf5936b51c09ba"
  }
 ],
 "metadata": {
  "kernelspec": {
   "display_name": "Python 3 (ipykernel)",
   "language": "python",
   "name": "python3"
  },
  "language_info": {
   "codemirror_mode": {
    "name": "ipython",
    "version": 3
   },
   "file_extension": ".py",
   "mimetype": "text/x-python",
   "name": "python",
   "nbconvert_exporter": "python",
   "pygments_lexer": "ipython3",
   "version": "3.12.2"
  }
 },
 "nbformat": 4,
 "nbformat_minor": 5
}
