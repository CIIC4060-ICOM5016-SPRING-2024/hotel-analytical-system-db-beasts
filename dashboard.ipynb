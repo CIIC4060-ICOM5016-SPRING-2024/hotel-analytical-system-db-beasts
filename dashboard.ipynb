{
 "cells": [
  {
   "metadata": {
    "ExecuteTime": {
     "end_time": "2024-05-08T07:27:59.768006Z",
     "start_time": "2024-05-08T07:27:59.639739Z"
    }
   },
   "cell_type": "code",
   "source": [
    "from IPython.core.display_functions import clear_output\n",
    "import ipywidgets as widgets\n",
    "from IPython.display import display\n",
    "\n",
    "from dashboard_requests import *"
   ],
   "id": "ba08bb17f4a88585",
   "outputs": [],
   "execution_count": 1
  },
  {
   "metadata": {
    "ExecuteTime": {
     "end_time": "2024-05-08T07:27:59.779163Z",
     "start_time": "2024-05-08T07:27:59.774163Z"
    }
   },
   "cell_type": "code",
   "source": [
    "# rango = \"Administrator\"\n",
    "\n",
    "def CreateChain():\n",
    "    %run notebooks/crud/chains/createchain.ipynb\n",
    "\n",
    "def UpdateChain():\n",
    "    %run notebooks/crud/chains/updatechain.ipynb\n",
    "\n",
    "def CreateHotel():\n",
    "    %run notebooks/crud/hotel/createhotel.ipynb\n",
    "\n",
    "def UpdateHotel():\n",
    "    %run notebooks/crud/hotel/updatehotel.ipynb"
   ],
   "id": "6267f0c330cd1204",
   "outputs": [],
   "execution_count": 3
  },
  {
   "metadata": {
    "ExecuteTime": {
     "end_time": "2024-05-08T07:27:59.784308Z",
     "start_time": "2024-05-08T07:27:59.780165Z"
    }
   },
   "cell_type": "code",
   "source": [
    "# ** Switch between log in and sign in input credentials\n",
    "def change_view1(button):\n",
    "    with output:\n",
    "        clear_output()\n",
    "        if button.description == 'Sign Up':\n",
    "            button.description = 'Log In'\n",
    "            login_box.children = [employee_id, first_name, last_name, username, password, sign_up_button]\n",
    "        else:\n",
    "            button.description = 'Sign Up'\n",
    "            login_box.children = [username, password, login_button]\n",
    "            \n",
    "def change_view2(button):\n",
    "    with output:\n",
    "        clear_output()\n",
    "        login_box.children = [username, password, login_button]\n",
    "        toggle_button.description = 'Sign Up'\n",
    "        toggle_button.layout.visibility = 'visible'\n",
    "        # access.disabled = True\n",
    "        with output1: clear_output()"
   ],
   "id": "9a9b9e9d78b06018",
   "outputs": [],
   "execution_count": 4
  },
  {
   "metadata": {
    "ExecuteTime": {
     "end_time": "2024-05-08T07:27:59.790537Z",
     "start_time": "2024-05-08T07:27:59.785302Z"
    }
   },
   "cell_type": "code",
   "source": [
    "# ** Login Credentials\n",
    "def login(button):\n",
    "    # ** Login Logic\n",
    "    with output:\n",
    "        response = Check_Login(username.value, password.value)\n",
    "        if response.status_code == 200:  # Check if the request was successful\n",
    "            clear_output()\n",
    "            print(f\"Login successful.\")\n",
    "            login_box.children = [username, password, logout_button]\n",
    "            toggle_button.layout.visibility = 'hidden'\n",
    "            access(response)\n",
    "        else:\n",
    "            clear_output()\n",
    "            print(f\"Login failed. Please try again. username: {username.value}, password: {password.value}\")\n",
    "\n",
    "# ** Signup Credentials\n",
    "def signup(button):\n",
    "    # ** Signup Logic\n",
    "    with output:\n",
    "        employee = Check_Employee(employee_id.value, first_name.value, last_name.value)\n",
    "        if employee.status_code == 200:\n",
    "            post_login = Post_Login(employee_id.value, username.value, password.value)\n",
    "            if post_login.status_code == 201:\n",
    "                clear_output()\n",
    "                print(f\"Sign up successful, Welcome!\")\n",
    "                login_box.children = [username, password, logout_button]\n",
    "                toggle_button.layout.visibility = 'hidden'\n",
    "            elif post_login.status_code == 400:\n",
    "                clear_output()\n",
    "                print(f\"Employee have account\")\n",
    "            else:\n",
    "                clear_output()\n",
    "                print(f\"Username exist.\")\n",
    "        else:\n",
    "            clear_output()\n",
    "            print(f\"Employee does not exist. {employee_id.value}, {first_name.value}, {last_name.value}\")"
   ],
   "id": "a72a3448678deff4",
   "outputs": [],
   "execution_count": 5
  },
  {
   "metadata": {},
   "cell_type": "code",
   "outputs": [],
   "execution_count": 6,
   "source": [
    "# ** Login Widgets\n",
    "username = widgets.Text(placeholder=\"---\", description='Username')\n",
    "password = widgets.Password(placeholder=\"---\", description='Password')\n",
    "login_button = widgets.Button(description=\"Log In\")\n",
    "login_button.on_click(login)\n",
    "\n",
    "# ** Sigin Widgets\n",
    "employee_id = widgets.Text(placeholder=\"---\", description='Employee ID')\n",
    "first_name = widgets.Text(placeholder=\"---\", description='First Name')\n",
    "last_name = widgets.Text(placeholder=\"---\", description='Last Name')\n",
    "sign_up_button = widgets.Button(description=\"Sign Up\")\n",
    "sign_up_button.on_click(signup)\n",
    "\n",
    "logout_button = widgets.Button(description=\"Log Out\")\n",
    "logout_button.on_click(change_view2)"
   ],
   "id": "2d87ebb77602ea0a"
  },
  {
   "metadata": {},
   "cell_type": "code",
   "outputs": [],
   "execution_count": 7,
   "source": [
    "# ** Initial State\n",
    "login_box = widgets.VBox([username, password, login_button])\n",
    "\n",
    "# ** Switch between log in and sign in credentials\n",
    "toggle_button = widgets.Button(description=\"Sign Up\")\n",
    "toggle_button.on_click(change_view1)"
   ],
   "id": "84b8f5110853b6ac"
  },
  {
   "metadata": {},
   "cell_type": "code",
   "outputs": [],
   "execution_count": 8,
   "source": [
    "def access(logins):\n",
    "    with output:\n",
    "        # clear_output()\n",
    "        eid = logins.json()['Login']['eid']\n",
    "        employee = Get_Employee(eid).json()['Employee']\n",
    "        fname = employee['fname']\n",
    "        lname = employee['lname']\n",
    "        # print(employee)\n",
    "        welcome = widgets.HTML(f\"<p style='font-size:24px;'>Welcome {fname} {lname}!</p>\")\n",
    "        display(welcome)\n",
    "        position = employee['position']\n",
    "        if position == 'Regular':\n",
    "            pass\n",
    "        elif position == 'Supervisor':\n",
    "            pass\n",
    "        elif position == 'Administrator':\n",
    "            # admin()\n",
    "            pass    "
   ],
   "id": "1b647961800e8e1d"
  },
  {
   "metadata": {},
   "cell_type": "code",
   "outputs": [],
   "execution_count": 2,
   "source": [
    "header_text = widgets.HTML(\"<h1 style='text-align: center; color: white; background-color: #333; width: 100%; margin: 0; \"\n",
    "                           \"padding: 15px 0;'>Hotel Analytics Systems by DB Beasts</h1>\"\n",
    "                           \"<h1 style='text-align: center; color: white; background-color: #333; width: 100%; margin: 0; \"\n",
    "                           \"padding: 15px 0;'>FRONTEND</h1>\")"
   ],
   "id": "fe513dae7343f7f5"
  },
  {
   "metadata": {},
   "cell_type": "code",
   "source": "output = widgets.Output()",
   "id": "b4eddcb175e997b3",
   "outputs": [],
   "execution_count": null
  },
  {
   "metadata": {},
   "cell_type": "code",
   "source": "output1 = widgets.Output()",
   "id": "d6dfe4fd852cfc5d",
   "outputs": [],
   "execution_count": null
  },
  {
   "metadata": {},
   "cell_type": "code",
   "source": "display(header_text)",
   "id": "d5e6c1bde17f1606",
   "outputs": [],
   "execution_count": null
  },
  {
   "metadata": {},
   "cell_type": "code",
   "source": [
    "display(login_box)\n",
    "display(toggle_button)"
   ],
   "id": "a88fc7576d1dd0c3",
   "outputs": [],
   "execution_count": null
  },
  {
   "metadata": {},
   "cell_type": "code",
   "outputs": [],
   "execution_count": null,
   "source": "display(output)",
   "id": "c8fb83a708ace45f"
  },
  {
   "metadata": {},
   "cell_type": "code",
   "outputs": [],
   "execution_count": null,
   "source": "display(output1)",
   "id": "ee64b3d32b216014"
  },
  {
   "metadata": {},
   "cell_type": "code",
   "outputs": [],
   "execution_count": 15,
   "source": [
    "# def admin():\n",
    "# if rango == \"Administrator\":\n",
    "#     # with output:\n",
    "#         CreateChain()\n",
    "#         UpdateChain()\n",
    "#         CreateHotel()\n",
    "#         UpdateHotel()\n",
    "\n",
    "# CreateChain()"
   ],
   "id": "27148ff001dad8c6"
  }
 ],
 "metadata": {
  "kernelspec": {
   "display_name": "Python 3",
   "language": "python",
   "name": "python3"
  },
  "language_info": {
   "codemirror_mode": {
    "name": "ipython",
    "version": 2
   },
   "file_extension": ".py",
   "mimetype": "text/x-python",
   "name": "python",
   "nbconvert_exporter": "python",
   "pygments_lexer": "ipython2",
   "version": "2.7.6"
  }
 },
 "nbformat": 4,
 "nbformat_minor": 5
}
